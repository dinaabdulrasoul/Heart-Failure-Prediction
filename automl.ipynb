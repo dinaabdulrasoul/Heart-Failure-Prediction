{
 "cells": [
  {
   "cell_type": "markdown",
   "metadata": {},
   "source": [
    "# Automated ML\n"
   ]
  },
  {
   "cell_type": "code",
   "execution_count": 1,
   "metadata": {
    "gather": {
     "logged": 1598423888013
    },
    "jupyter": {
     "outputs_hidden": false,
     "source_hidden": false
    },
    "nteract": {
     "transient": {
      "deleting": false
     }
    }
   },
   "outputs": [
    {
     "name": "stderr",
     "output_type": "stream",
     "text": [
      "/anaconda/envs/azureml_py36/lib/python3.6/site-packages/sklearn/externals/joblib/__init__.py:15: FutureWarning: sklearn.externals.joblib is deprecated in 0.21 and will be removed in 0.23. Please import this functionality directly from joblib, which can be installed with: pip install joblib. If this warning is raised when loading pickled models, you may need to re-serialize those models with scikit-learn 0.21+.\n",
      "  warnings.warn(msg, category=FutureWarning)\n"
     ]
    }
   ],
   "source": [
    "import pandas as pd\n",
    "import numpy as np\n",
    "import json\n",
    "import joblib\n",
    "import json\n",
    "import requests\n",
    "from sklearn.externals import joblib\n",
    "from sklearn.model_selection import train_test_split  \n",
    "from sklearn.preprocessing import OneHotEncoder"
   ]
  },
  {
   "cell_type": "code",
   "execution_count": 2,
   "metadata": {},
   "outputs": [],
   "source": [
    "from azureml.train.automl import AutoMLConfig\n",
    "from azureml.core.run import Run\n",
    "from azureml.widgets import RunDetails\n",
    "from azureml.data.dataset_factory import TabularDatasetFactory\n",
    "from azureml.core import Dataset\n",
    "from azureml.core import Workspace, Experiment\n",
    "from azureml.core.compute import ComputeTarget, AmlCompute\n",
    "from azureml.core.compute_target import ComputeTargetException\n",
    "from azureml.core.webservice import Webservice\n",
    "from azureml.core.environment import Environment\n",
    "from azureml.core.conda_dependencies import CondaDependencies\n",
    "from azureml.core.model import InferenceConfig"
   ]
  },
  {
   "cell_type": "code",
   "execution_count": 3,
   "metadata": {},
   "outputs": [],
   "source": [
    "ws = Workspace.from_config()\n",
    "experiment_name = 'heart_failure_automl'\n",
    "experiment = Experiment(ws, experiment_name)\n",
    "\n",
    "run = experiment.start_logging()"
   ]
  },
  {
   "cell_type": "code",
   "execution_count": 4,
   "metadata": {},
   "outputs": [
    {
     "name": "stdout",
     "output_type": "stream",
     "text": [
      "Found existing cluster, use it.\n"
     ]
    }
   ],
   "source": [
    "amlcompute_cluster_name = \"cpu-cluster\" \n",
    "\n",
    "try:\n",
    "    compute_target = ComputeTarget(workspace = ws, name = amlcompute_cluster_name)\n",
    "    print('Found existing cluster, use it.')\n",
    "except ComputeTargetException:\n",
    "    compute_config = AmlCompute.provisioning_confisguration(vm_size='STANDARD_D2_V2',\n",
    "                                                           max_nodes=4)\n",
    "    compute_target = ComputeTarget.create(ws, amlcompute_cluster_name, compute_config)\n",
    "\n",
    "#compute_target.wait_for_completion(show_output=True, min_node_count = 1, timeout_in_minutes = 10)"
   ]
  },
  {
   "cell_type": "markdown",
   "metadata": {},
   "source": [
    "## Dataset\n",
    "\n",
    "### Overview\n",
    "* Cardiovascular diseases are the number 1 cause of death globally, taking an estimated 17.9 million lives each year,  Heart failure is a common event caused by CVDs. This dataset contains 12 features that may contribute to the cause of heart failure. Such as age, diabetes, high_blood_pressure and anaemia. \n",
    "\n",
    "* The dataset consists of 299 training examples and 13 features, we aim to predict the feature DEATH_EVENT which may have the value 1 in case of death due to heart faulure and 0 in case of survival.\n",
    "* The task we are performing here is **Classification** and I will use Azure's AutoML to find the model that best fits the data and has the highest accuracy. "
   ]
  },
  {
   "cell_type": "code",
   "execution_count": 5,
   "metadata": {},
   "outputs": [
    {
     "data": {
      "text/html": [
       "<div>\n",
       "<style scoped>\n",
       "    .dataframe tbody tr th:only-of-type {\n",
       "        vertical-align: middle;\n",
       "    }\n",
       "\n",
       "    .dataframe tbody tr th {\n",
       "        vertical-align: top;\n",
       "    }\n",
       "\n",
       "    .dataframe thead th {\n",
       "        text-align: right;\n",
       "    }\n",
       "</style>\n",
       "<table border=\"1\" class=\"dataframe\">\n",
       "  <thead>\n",
       "    <tr style=\"text-align: right;\">\n",
       "      <th></th>\n",
       "      <th>age</th>\n",
       "      <th>anaemia</th>\n",
       "      <th>creatinine_phosphokinase</th>\n",
       "      <th>diabetes</th>\n",
       "      <th>ejection_fraction</th>\n",
       "      <th>high_blood_pressure</th>\n",
       "      <th>platelets</th>\n",
       "      <th>serum_creatinine</th>\n",
       "      <th>serum_sodium</th>\n",
       "      <th>sex</th>\n",
       "      <th>smoking</th>\n",
       "      <th>time</th>\n",
       "      <th>DEATH_EVENT</th>\n",
       "    </tr>\n",
       "  </thead>\n",
       "  <tbody>\n",
       "    <tr>\n",
       "      <th>0</th>\n",
       "      <td>75.0</td>\n",
       "      <td>0</td>\n",
       "      <td>582</td>\n",
       "      <td>0</td>\n",
       "      <td>20</td>\n",
       "      <td>1</td>\n",
       "      <td>265000.00</td>\n",
       "      <td>1.9</td>\n",
       "      <td>130</td>\n",
       "      <td>1</td>\n",
       "      <td>0</td>\n",
       "      <td>4</td>\n",
       "      <td>1</td>\n",
       "    </tr>\n",
       "    <tr>\n",
       "      <th>1</th>\n",
       "      <td>55.0</td>\n",
       "      <td>0</td>\n",
       "      <td>7861</td>\n",
       "      <td>0</td>\n",
       "      <td>38</td>\n",
       "      <td>0</td>\n",
       "      <td>263358.03</td>\n",
       "      <td>1.1</td>\n",
       "      <td>136</td>\n",
       "      <td>1</td>\n",
       "      <td>0</td>\n",
       "      <td>6</td>\n",
       "      <td>1</td>\n",
       "    </tr>\n",
       "    <tr>\n",
       "      <th>2</th>\n",
       "      <td>65.0</td>\n",
       "      <td>0</td>\n",
       "      <td>146</td>\n",
       "      <td>0</td>\n",
       "      <td>20</td>\n",
       "      <td>0</td>\n",
       "      <td>162000.00</td>\n",
       "      <td>1.3</td>\n",
       "      <td>129</td>\n",
       "      <td>1</td>\n",
       "      <td>1</td>\n",
       "      <td>7</td>\n",
       "      <td>1</td>\n",
       "    </tr>\n",
       "  </tbody>\n",
       "</table>\n",
       "</div>"
      ],
      "text/plain": [
       "    age  anaemia  creatinine_phosphokinase  diabetes  ejection_fraction  \\\n",
       "0  75.0        0                       582         0                 20   \n",
       "1  55.0        0                      7861         0                 38   \n",
       "2  65.0        0                       146         0                 20   \n",
       "\n",
       "   high_blood_pressure  platelets  serum_creatinine  serum_sodium  sex  \\\n",
       "0                    1  265000.00               1.9           130    1   \n",
       "1                    0  263358.03               1.1           136    1   \n",
       "2                    0  162000.00               1.3           129    1   \n",
       "\n",
       "   smoking  time  DEATH_EVENT  \n",
       "0        0     4            1  \n",
       "1        0     6            1  \n",
       "2        1     7            1  "
      ]
     },
     "execution_count": 5,
     "metadata": {},
     "output_type": "execute_result"
    }
   ],
   "source": [
    "from azureml.core import Dataset\n",
    "ds = Dataset.get_by_name(ws, name = \"heart failure\")\n",
    "df = ds.to_pandas_dataframe()\n",
    "df.head(3)"
   ]
  },
  {
   "cell_type": "markdown",
   "metadata": {},
   "source": [
    "\n",
    "## AutoML Configuration\n",
    "\n",
    "AutoML is a powerful tool that enables us to find the best model quickly. For my automl run I've used the following settings & configurations to find best combination of algorithms & hyperparameters:\n",
    "* The primary metric is set to *accuracy*.\n",
    "* The task is set to *classification* because we aim to get a binary result either 1 or 0, death or no death.\n",
    "* We use the traing data we got from the dataset & we define the target column.\n",
    "* Logs have been generated for debugging reasons. \n",
    "* Auto featurization is enabled, featurization includes automated feature engineering and scaling and normalization, which then impacts the selected algorithm and its hyperparameter values.\n",
    "* Early stopping is enabled to save computational power. \n",
    "* Number of cross validation is set to 3.\n",
    "\n"
   ]
  },
  {
   "cell_type": "code",
   "execution_count": 6,
   "metadata": {
    "gather": {
     "logged": 1598429217746
    },
    "jupyter": {
     "outputs_hidden": false,
     "source_hidden": false
    },
    "nteract": {
     "transient": {
      "deleting": false
     }
    }
   },
   "outputs": [],
   "source": [
    "# automl settings\n",
    "automl_settings = {\n",
    "    \"experiment_timeout_minutes\": 30,\n",
    "    \"max_concurrent_iterations\": 5,\n",
    "    \"primary_metric\" : 'accuracy'}\n",
    "\n",
    "# automl config\n",
    "automl_config = AutoMLConfig(compute_target = compute_target,\n",
    "                             task = \"classification\",\n",
    "                             training_data=ds,\n",
    "                             label_column_name=\"DEATH_EVENT\",   \n",
    "                             featurization= 'auto',\n",
    "                             n_cross_validations = 3,\n",
    "                            enable_early_stopping= True,\n",
    "                             debug_log = \"automl_logs.log\",\n",
    "                             **automl_settings)"
   ]
  },
  {
   "cell_type": "code",
   "execution_count": 7,
   "metadata": {
    "gather": {
     "logged": 1598431107951
    },
    "jupyter": {
     "outputs_hidden": false,
     "source_hidden": false
    },
    "nteract": {
     "transient": {
      "deleting": false
     }
    }
   },
   "outputs": [
    {
     "name": "stdout",
     "output_type": "stream",
     "text": [
      "Running on remote.\n",
      "No run_configuration provided, running on cpu-cluster with default configuration\n",
      "Running on remote compute: cpu-cluster\n",
      "Parent Run ID: AutoML_eb7abf71-5769-4cd0-840c-b1a76a5bcdfa\n",
      "\n",
      "Current status: FeaturesGeneration. Generating features for the dataset.\n",
      "Current status: DatasetCrossValidationSplit. Generating individually featurized CV splits.\n",
      "Current status: ModelSelection. Beginning model selection.\n",
      "\n",
      "****************************************************************************************************\n",
      "DATA GUARDRAILS: \n",
      "\n",
      "TYPE:         Class balancing detection\n",
      "STATUS:       PASSED\n",
      "DESCRIPTION:  Your inputs were analyzed, and all classes are balanced in your training data.\n",
      "              Learn more about imbalanced data: https://aka.ms/AutomatedMLImbalancedData\n",
      "\n",
      "****************************************************************************************************\n",
      "\n",
      "TYPE:         Missing feature values imputation\n",
      "STATUS:       PASSED\n",
      "DESCRIPTION:  No feature missing values were detected in the training data.\n",
      "              Learn more about missing value imputation: https://aka.ms/AutomatedMLFeaturization\n",
      "\n",
      "****************************************************************************************************\n",
      "\n",
      "TYPE:         High cardinality feature detection\n",
      "STATUS:       PASSED\n",
      "DESCRIPTION:  Your inputs were analyzed, and no high cardinality features were detected.\n",
      "              Learn more about high cardinality feature handling: https://aka.ms/AutomatedMLFeaturization\n",
      "\n",
      "****************************************************************************************************\n",
      "\n",
      "****************************************************************************************************\n",
      "ITERATION: The iteration being evaluated.\n",
      "PIPELINE: A summary description of the pipeline being evaluated.\n",
      "DURATION: Time taken for the current iteration.\n",
      "METRIC: The result of computing score on the fitted pipeline.\n",
      "BEST: The best observed score thus far.\n",
      "****************************************************************************************************\n",
      "\n",
      " ITERATION   PIPELINE                                       DURATION      METRIC      BEST\n",
      "         1   MaxAbsScaler XGBoostClassifier                 0:00:54       0.8193    0.8193\n",
      "         3   MinMaxScaler RandomForest                      0:00:56       0.8360    0.8360\n",
      "         0   MaxAbsScaler LightGBM                          0:01:00       0.8025    0.8360\n",
      "         2   MinMaxScaler RandomForest                      0:00:54       0.8361    0.8361\n",
      "         4   MinMaxScaler RandomForest                      0:00:59       0.8261    0.8361\n",
      "         5   SparseNormalizer XGBoostClassifier             0:00:49       0.8294    0.8361\n",
      "         6   StandardScalerWrapper XGBoostClassifier        0:00:53       0.8327    0.8361\n",
      "         7   MinMaxScaler SVM                               0:00:50       0.7124    0.8361\n",
      "         8   SparseNormalizer XGBoostClassifier             0:00:49       0.8261    0.8361\n",
      "         9   SparseNormalizer XGBoostClassifier             0:00:46       0.7994    0.8361\n",
      "        10   StandardScalerWrapper RandomForest             0:00:48       0.8427    0.8427\n",
      "        11   StandardScalerWrapper LightGBM                 0:00:48       0.7926    0.8427\n",
      "        13   MaxAbsScaler LightGBM                          0:00:48       0.7224    0.8427\n",
      "        14   StandardScalerWrapper LightGBM                 0:00:44       0.8428    0.8428\n",
      "        12   MaxAbsScaler ExtremeRandomTrees                0:01:33       0.8328    0.8428\n",
      "        16   MinMaxScaler LightGBM                          0:00:49       0.8093    0.8428\n",
      "        18   SparseNormalizer XGBoostClassifier             0:00:43       0.8127    0.8428\n",
      "        15   RobustScaler RandomForest                      0:00:56       0.8360    0.8428\n",
      "        17   SparseNormalizer XGBoostClassifier             0:00:46       0.8161    0.8428\n",
      "        19   RobustScaler LightGBM                          0:00:51       0.8227    0.8428\n",
      "        20   RobustScaler LightGBM                          0:00:55       0.7525    0.8428\n",
      "        21   StandardScalerWrapper XGBoostClassifier        0:00:57       0.8127    0.8428\n",
      "        22   SparseNormalizer XGBoostClassifier             0:00:50       0.7993    0.8428\n",
      "        23   StandardScalerWrapper LogisticRegression       0:00:58       0.8025    0.8428\n",
      "        24   StandardScalerWrapper XGBoostClassifier        0:00:53       0.8360    0.8428\n",
      "        25   StandardScalerWrapper LightGBM                 0:00:50       0.6790    0.8428\n",
      "        26   SparseNormalizer XGBoostClassifier             0:00:55       0.7326    0.8428\n",
      "        27   SparseNormalizer XGBoostClassifier             0:00:53       0.8160    0.8428\n",
      "        28   MaxAbsScaler ExtremeRandomTrees                0:00:52       0.8461    0.8461\n",
      "        29   SparseNormalizer XGBoostClassifier             0:00:53       0.7860    0.8461\n",
      "        30   StandardScalerWrapper LightGBM                 0:00:54       0.8394    0.8461\n",
      "        31   StandardScalerWrapper XGBoostClassifier        0:00:49       0.8427    0.8461\n",
      "        32   StandardScalerWrapper LightGBM                 0:00:52       0.8294    0.8461\n",
      "        33   SparseNormalizer RandomForest                  0:00:50       0.7725    0.8461\n",
      "        34   MaxAbsScaler ExtremeRandomTrees                0:00:53       0.8126    0.8461\n",
      "        35   SparseNormalizer ExtremeRandomTrees            0:00:52       0.6857    0.8461\n",
      "        37   MinMaxScaler RandomForest                      0:00:45       0.8360    0.8461\n",
      "        36   MaxAbsScaler RandomForest                      0:00:55       0.8192    0.8461\n",
      "        38   SparseNormalizer XGBoostClassifier             0:00:48       0.8294    0.8461\n",
      "        39   RobustScaler LightGBM                          0:00:54       0.7794    0.8461\n",
      "        40   StandardScalerWrapper ExtremeRandomTrees       0:00:50       0.8328    0.8461\n",
      "        41   MaxAbsScaler RandomForest                      0:00:47       0.8261    0.8461\n",
      "        42   StandardScalerWrapper XGBoostClassifier        0:00:53       0.8226    0.8461\n",
      "        43   StandardScalerWrapper XGBoostClassifier        0:00:50       0.8394    0.8461\n",
      "        44                                                  0:00:12          nan    0.8461\n",
      "        45                                                  0:00:17          nan    0.8461\n",
      "        46                                                  0:00:15          nan    0.8461\n",
      "        47    VotingEnsemble                                0:01:31       0.8596    0.8596\n",
      "        48    StackEnsemble                                 0:01:32       0.8427    0.8596\n"
     ]
    }
   ],
   "source": [
    "# Submitting the experiment\n",
    "remote_run = experiment.submit(automl_config, show_output=True)"
   ]
  },
  {
   "cell_type": "markdown",
   "metadata": {},
   "source": [
    "## Run Details"
   ]
  },
  {
   "cell_type": "code",
   "execution_count": 10,
   "metadata": {
    "gather": {
     "logged": 1598431121770
    },
    "jupyter": {
     "outputs_hidden": false,
     "source_hidden": false
    },
    "nteract": {
     "transient": {
      "deleting": false
     }
    },
    "scrolled": false
   },
   "outputs": [
    {
     "data": {
      "application/vnd.jupyter.widget-view+json": {
       "model_id": "7fdc19e2a6dc47d286407b4ca6c1fbb4",
       "version_major": 2,
       "version_minor": 0
      },
      "text/plain": [
       "_AutoMLWidget(widget_settings={'childWidgetDisplay': 'popup', 'send_telemetry': False, 'log_level': 'INFO', 's…"
      ]
     },
     "metadata": {},
     "output_type": "display_data"
    },
    {
     "data": {
      "application/aml.mini.widget.v1": "{\"status\": \"Completed\", \"workbench_run_details_uri\": \"https://ml.azure.com/experiments/heart_failure_automl/runs/AutoML_eb7abf71-5769-4cd0-840c-b1a76a5bcdfa?wsid=/subscriptions/a0a76bad-11a1-4a2d-9887-97a29122c8ed/resourcegroups/aml-quickstarts-136642/workspaces/quick-starts-ws-136642\", \"run_id\": \"AutoML_eb7abf71-5769-4cd0-840c-b1a76a5bcdfa\", \"run_properties\": {\"run_id\": \"AutoML_eb7abf71-5769-4cd0-840c-b1a76a5bcdfa\", \"created_utc\": \"2021-01-30T20:04:40.177515Z\", \"properties\": {\"num_iterations\": \"1000\", \"training_type\": \"TrainFull\", \"acquisition_function\": \"EI\", \"primary_metric\": \"accuracy\", \"train_split\": \"0\", \"acquisition_parameter\": \"0\", \"num_cross_validation\": \"3\", \"target\": \"cpu-cluster\", \"AMLSettingsJsonString\": \"{\\\"path\\\":null,\\\"name\\\":\\\"heart_failure_automl\\\",\\\"subscription_id\\\":\\\"a0a76bad-11a1-4a2d-9887-97a29122c8ed\\\",\\\"resource_group\\\":\\\"aml-quickstarts-136642\\\",\\\"workspace_name\\\":\\\"quick-starts-ws-136642\\\",\\\"region\\\":\\\"southcentralus\\\",\\\"compute_target\\\":\\\"cpu-cluster\\\",\\\"spark_service\\\":null,\\\"azure_service\\\":\\\"remote\\\",\\\"many_models\\\":false,\\\"pipeline_fetch_max_batch_size\\\":1,\\\"iterations\\\":1000,\\\"primary_metric\\\":\\\"accuracy\\\",\\\"task_type\\\":\\\"classification\\\",\\\"data_script\\\":null,\\\"validation_size\\\":0.0,\\\"n_cross_validations\\\":3,\\\"y_min\\\":null,\\\"y_max\\\":null,\\\"num_classes\\\":null,\\\"featurization\\\":\\\"auto\\\",\\\"_ignore_package_version_incompatibilities\\\":false,\\\"is_timeseries\\\":false,\\\"max_cores_per_iteration\\\":1,\\\"max_concurrent_iterations\\\":5,\\\"iteration_timeout_minutes\\\":null,\\\"mem_in_mb\\\":null,\\\"enforce_time_on_windows\\\":false,\\\"experiment_timeout_minutes\\\":30,\\\"experiment_exit_score\\\":null,\\\"whitelist_models\\\":null,\\\"blacklist_algos\\\":[\\\"TensorFlowLinearClassifier\\\",\\\"TensorFlowDNN\\\"],\\\"supported_models\\\":[\\\"KNN\\\",\\\"LightGBM\\\",\\\"XGBoostClassifier\\\",\\\"BernoulliNaiveBayes\\\",\\\"AveragedPerceptronClassifier\\\",\\\"TensorFlowLinearClassifier\\\",\\\"ExtremeRandomTrees\\\",\\\"GradientBoosting\\\",\\\"MultinomialNaiveBayes\\\",\\\"LogisticRegression\\\",\\\"LinearSVM\\\",\\\"SVM\\\",\\\"RandomForest\\\",\\\"TensorFlowDNN\\\",\\\"DecisionTree\\\",\\\"SGD\\\"],\\\"auto_blacklist\\\":true,\\\"blacklist_samples_reached\\\":false,\\\"exclude_nan_labels\\\":true,\\\"verbosity\\\":20,\\\"_debug_log\\\":\\\"azureml_automl.log\\\",\\\"show_warnings\\\":false,\\\"model_explainability\\\":true,\\\"service_url\\\":null,\\\"sdk_url\\\":null,\\\"sdk_packages\\\":null,\\\"enable_onnx_compatible_models\\\":false,\\\"enable_split_onnx_featurizer_estimator_models\\\":false,\\\"vm_type\\\":\\\"STANDARD_DS12_V2\\\",\\\"telemetry_verbosity\\\":20,\\\"send_telemetry\\\":true,\\\"enable_dnn\\\":false,\\\"scenario\\\":\\\"SDK-1.13.0\\\",\\\"environment_label\\\":null,\\\"force_text_dnn\\\":false,\\\"enable_feature_sweeping\\\":true,\\\"enable_early_stopping\\\":true,\\\"early_stopping_n_iters\\\":10,\\\"metrics\\\":null,\\\"enable_ensembling\\\":true,\\\"enable_stack_ensembling\\\":true,\\\"ensemble_iterations\\\":15,\\\"enable_tf\\\":false,\\\"enable_subsampling\\\":null,\\\"subsample_seed\\\":null,\\\"enable_nimbusml\\\":false,\\\"enable_streaming\\\":false,\\\"force_streaming\\\":false,\\\"track_child_runs\\\":true,\\\"allowed_private_models\\\":[],\\\"label_column_name\\\":\\\"DEATH_EVENT\\\",\\\"weight_column_name\\\":null,\\\"cv_split_column_names\\\":null,\\\"enable_local_managed\\\":false,\\\"_local_managed_run_id\\\":null,\\\"cost_mode\\\":1,\\\"lag_length\\\":0,\\\"metric_operation\\\":\\\"maximize\\\",\\\"preprocess\\\":true}\", \"DataPrepJsonString\": \"{\\\\\\\"training_data\\\\\\\": \\\\\\\"{\\\\\\\\\\\\\\\"blocks\\\\\\\\\\\\\\\": [{\\\\\\\\\\\\\\\"id\\\\\\\\\\\\\\\": \\\\\\\\\\\\\\\"b8c3bd7e-f114-41de-a18e-f8bed1b65595\\\\\\\\\\\\\\\", \\\\\\\\\\\\\\\"type\\\\\\\\\\\\\\\": \\\\\\\\\\\\\\\"Microsoft.DPrep.GetDatastoreFilesBlock\\\\\\\\\\\\\\\", \\\\\\\\\\\\\\\"arguments\\\\\\\\\\\\\\\": {\\\\\\\\\\\\\\\"datastores\\\\\\\\\\\\\\\": [{\\\\\\\\\\\\\\\"datastoreName\\\\\\\\\\\\\\\": \\\\\\\\\\\\\\\"workspaceblobstore\\\\\\\\\\\\\\\", \\\\\\\\\\\\\\\"path\\\\\\\\\\\\\\\": \\\\\\\\\\\\\\\"UI/01-30-2021_075753_UTC/heart_failure_clinical_records_dataset.csv\\\\\\\\\\\\\\\", \\\\\\\\\\\\\\\"resourceGroup\\\\\\\\\\\\\\\": \\\\\\\\\\\\\\\"aml-quickstarts-136642\\\\\\\\\\\\\\\", \\\\\\\\\\\\\\\"subscription\\\\\\\\\\\\\\\": \\\\\\\\\\\\\\\"a0a76bad-11a1-4a2d-9887-97a29122c8ed\\\\\\\\\\\\\\\", \\\\\\\\\\\\\\\"workspaceName\\\\\\\\\\\\\\\": \\\\\\\\\\\\\\\"quick-starts-ws-136642\\\\\\\\\\\\\\\"}]}, \\\\\\\\\\\\\\\"localData\\\\\\\\\\\\\\\": {}, \\\\\\\\\\\\\\\"isEnabled\\\\\\\\\\\\\\\": true, \\\\\\\\\\\\\\\"name\\\\\\\\\\\\\\\": null, \\\\\\\\\\\\\\\"annotation\\\\\\\\\\\\\\\": null}, {\\\\\\\\\\\\\\\"id\\\\\\\\\\\\\\\": \\\\\\\\\\\\\\\"25dbc129-e0eb-4aa3-9221-d0e859f3c78d\\\\\\\\\\\\\\\", \\\\\\\\\\\\\\\"type\\\\\\\\\\\\\\\": \\\\\\\\\\\\\\\"Microsoft.DPrep.ParseDelimitedBlock\\\\\\\\\\\\\\\", \\\\\\\\\\\\\\\"arguments\\\\\\\\\\\\\\\": {\\\\\\\\\\\\\\\"columnHeadersMode\\\\\\\\\\\\\\\": 3, \\\\\\\\\\\\\\\"fileEncoding\\\\\\\\\\\\\\\": 0, \\\\\\\\\\\\\\\"handleQuotedLineBreaks\\\\\\\\\\\\\\\": false, \\\\\\\\\\\\\\\"preview\\\\\\\\\\\\\\\": false, \\\\\\\\\\\\\\\"separator\\\\\\\\\\\\\\\": \\\\\\\\\\\\\\\",\\\\\\\\\\\\\\\", \\\\\\\\\\\\\\\"skipRows\\\\\\\\\\\\\\\": 0, \\\\\\\\\\\\\\\"skipRowsMode\\\\\\\\\\\\\\\": 0}, \\\\\\\\\\\\\\\"localData\\\\\\\\\\\\\\\": {}, \\\\\\\\\\\\\\\"isEnabled\\\\\\\\\\\\\\\": true, \\\\\\\\\\\\\\\"name\\\\\\\\\\\\\\\": null, \\\\\\\\\\\\\\\"annotation\\\\\\\\\\\\\\\": null}, {\\\\\\\\\\\\\\\"id\\\\\\\\\\\\\\\": \\\\\\\\\\\\\\\"cc10a5f8-4e4f-405f-87b9-3704b7fca053\\\\\\\\\\\\\\\", \\\\\\\\\\\\\\\"type\\\\\\\\\\\\\\\": \\\\\\\\\\\\\\\"Microsoft.DPrep.DropColumnsBlock\\\\\\\\\\\\\\\", \\\\\\\\\\\\\\\"arguments\\\\\\\\\\\\\\\": {\\\\\\\\\\\\\\\"columns\\\\\\\\\\\\\\\": {\\\\\\\\\\\\\\\"type\\\\\\\\\\\\\\\": 0, \\\\\\\\\\\\\\\"details\\\\\\\\\\\\\\\": {\\\\\\\\\\\\\\\"selectedColumns\\\\\\\\\\\\\\\": [\\\\\\\\\\\\\\\"Path\\\\\\\\\\\\\\\"]}}}, \\\\\\\\\\\\\\\"localData\\\\\\\\\\\\\\\": {}, \\\\\\\\\\\\\\\"isEnabled\\\\\\\\\\\\\\\": true, \\\\\\\\\\\\\\\"name\\\\\\\\\\\\\\\": null, \\\\\\\\\\\\\\\"annotation\\\\\\\\\\\\\\\": null}, {\\\\\\\\\\\\\\\"id\\\\\\\\\\\\\\\": \\\\\\\\\\\\\\\"f3a5763b-fe40-4fbf-bd0b-1994528e6a2c\\\\\\\\\\\\\\\", \\\\\\\\\\\\\\\"type\\\\\\\\\\\\\\\": \\\\\\\\\\\\\\\"Microsoft.DPrep.SetColumnTypesBlock\\\\\\\\\\\\\\\", \\\\\\\\\\\\\\\"arguments\\\\\\\\\\\\\\\": {\\\\\\\\\\\\\\\"columnConversion\\\\\\\\\\\\\\\": [{\\\\\\\\\\\\\\\"column\\\\\\\\\\\\\\\": {\\\\\\\\\\\\\\\"type\\\\\\\\\\\\\\\": 2, \\\\\\\\\\\\\\\"details\\\\\\\\\\\\\\\": {\\\\\\\\\\\\\\\"selectedColumn\\\\\\\\\\\\\\\": \\\\\\\\\\\\\\\"Path\\\\\\\\\\\\\\\"}}, \\\\\\\\\\\\\\\"typeProperty\\\\\\\\\\\\\\\": 0}, {\\\\\\\\\\\\\\\"column\\\\\\\\\\\\\\\": {\\\\\\\\\\\\\\\"type\\\\\\\\\\\\\\\": 2, \\\\\\\\\\\\\\\"details\\\\\\\\\\\\\\\": {\\\\\\\\\\\\\\\"selectedColumn\\\\\\\\\\\\\\\": \\\\\\\\\\\\\\\"age\\\\\\\\\\\\\\\"}}, \\\\\\\\\\\\\\\"typeProperty\\\\\\\\\\\\\\\": 3}, {\\\\\\\\\\\\\\\"column\\\\\\\\\\\\\\\": {\\\\\\\\\\\\\\\"type\\\\\\\\\\\\\\\": 2, \\\\\\\\\\\\\\\"details\\\\\\\\\\\\\\\": {\\\\\\\\\\\\\\\"selectedColumn\\\\\\\\\\\\\\\": \\\\\\\\\\\\\\\"anaemia\\\\\\\\\\\\\\\"}}, \\\\\\\\\\\\\\\"typeProperty\\\\\\\\\\\\\\\": 2}, {\\\\\\\\\\\\\\\"column\\\\\\\\\\\\\\\": {\\\\\\\\\\\\\\\"type\\\\\\\\\\\\\\\": 2, \\\\\\\\\\\\\\\"details\\\\\\\\\\\\\\\": {\\\\\\\\\\\\\\\"selectedColumn\\\\\\\\\\\\\\\": \\\\\\\\\\\\\\\"creatinine_phosphokinase\\\\\\\\\\\\\\\"}}, \\\\\\\\\\\\\\\"typeProperty\\\\\\\\\\\\\\\": 2}, {\\\\\\\\\\\\\\\"column\\\\\\\\\\\\\\\": {\\\\\\\\\\\\\\\"type\\\\\\\\\\\\\\\": 2, \\\\\\\\\\\\\\\"details\\\\\\\\\\\\\\\": {\\\\\\\\\\\\\\\"selectedColumn\\\\\\\\\\\\\\\": \\\\\\\\\\\\\\\"diabetes\\\\\\\\\\\\\\\"}}, \\\\\\\\\\\\\\\"typeProperty\\\\\\\\\\\\\\\": 2}, {\\\\\\\\\\\\\\\"column\\\\\\\\\\\\\\\": {\\\\\\\\\\\\\\\"type\\\\\\\\\\\\\\\": 2, \\\\\\\\\\\\\\\"details\\\\\\\\\\\\\\\": {\\\\\\\\\\\\\\\"selectedColumn\\\\\\\\\\\\\\\": \\\\\\\\\\\\\\\"ejection_fraction\\\\\\\\\\\\\\\"}}, \\\\\\\\\\\\\\\"typeProperty\\\\\\\\\\\\\\\": 2}, {\\\\\\\\\\\\\\\"column\\\\\\\\\\\\\\\": {\\\\\\\\\\\\\\\"type\\\\\\\\\\\\\\\": 2, \\\\\\\\\\\\\\\"details\\\\\\\\\\\\\\\": {\\\\\\\\\\\\\\\"selectedColumn\\\\\\\\\\\\\\\": \\\\\\\\\\\\\\\"high_blood_pressure\\\\\\\\\\\\\\\"}}, \\\\\\\\\\\\\\\"typeProperty\\\\\\\\\\\\\\\": 2}, {\\\\\\\\\\\\\\\"column\\\\\\\\\\\\\\\": {\\\\\\\\\\\\\\\"type\\\\\\\\\\\\\\\": 2, \\\\\\\\\\\\\\\"details\\\\\\\\\\\\\\\": {\\\\\\\\\\\\\\\"selectedColumn\\\\\\\\\\\\\\\": \\\\\\\\\\\\\\\"platelets\\\\\\\\\\\\\\\"}}, \\\\\\\\\\\\\\\"typeProperty\\\\\\\\\\\\\\\": 3}, {\\\\\\\\\\\\\\\"column\\\\\\\\\\\\\\\": {\\\\\\\\\\\\\\\"type\\\\\\\\\\\\\\\": 2, \\\\\\\\\\\\\\\"details\\\\\\\\\\\\\\\": {\\\\\\\\\\\\\\\"selectedColumn\\\\\\\\\\\\\\\": \\\\\\\\\\\\\\\"serum_creatinine\\\\\\\\\\\\\\\"}}, \\\\\\\\\\\\\\\"typeProperty\\\\\\\\\\\\\\\": 3}, {\\\\\\\\\\\\\\\"column\\\\\\\\\\\\\\\": {\\\\\\\\\\\\\\\"type\\\\\\\\\\\\\\\": 2, \\\\\\\\\\\\\\\"details\\\\\\\\\\\\\\\": {\\\\\\\\\\\\\\\"selectedColumn\\\\\\\\\\\\\\\": \\\\\\\\\\\\\\\"serum_sodium\\\\\\\\\\\\\\\"}}, \\\\\\\\\\\\\\\"typeProperty\\\\\\\\\\\\\\\": 2}, {\\\\\\\\\\\\\\\"column\\\\\\\\\\\\\\\": {\\\\\\\\\\\\\\\"type\\\\\\\\\\\\\\\": 2, \\\\\\\\\\\\\\\"details\\\\\\\\\\\\\\\": {\\\\\\\\\\\\\\\"selectedColumn\\\\\\\\\\\\\\\": \\\\\\\\\\\\\\\"sex\\\\\\\\\\\\\\\"}}, \\\\\\\\\\\\\\\"typeProperty\\\\\\\\\\\\\\\": 2}, {\\\\\\\\\\\\\\\"column\\\\\\\\\\\\\\\": {\\\\\\\\\\\\\\\"type\\\\\\\\\\\\\\\": 2, \\\\\\\\\\\\\\\"details\\\\\\\\\\\\\\\": {\\\\\\\\\\\\\\\"selectedColumn\\\\\\\\\\\\\\\": \\\\\\\\\\\\\\\"smoking\\\\\\\\\\\\\\\"}}, \\\\\\\\\\\\\\\"typeProperty\\\\\\\\\\\\\\\": 2}, {\\\\\\\\\\\\\\\"column\\\\\\\\\\\\\\\": {\\\\\\\\\\\\\\\"type\\\\\\\\\\\\\\\": 2, \\\\\\\\\\\\\\\"details\\\\\\\\\\\\\\\": {\\\\\\\\\\\\\\\"selectedColumn\\\\\\\\\\\\\\\": \\\\\\\\\\\\\\\"time\\\\\\\\\\\\\\\"}}, \\\\\\\\\\\\\\\"typeProperty\\\\\\\\\\\\\\\": 2}, {\\\\\\\\\\\\\\\"column\\\\\\\\\\\\\\\": {\\\\\\\\\\\\\\\"type\\\\\\\\\\\\\\\": 2, \\\\\\\\\\\\\\\"details\\\\\\\\\\\\\\\": {\\\\\\\\\\\\\\\"selectedColumn\\\\\\\\\\\\\\\": \\\\\\\\\\\\\\\"DEATH_EVENT\\\\\\\\\\\\\\\"}}, \\\\\\\\\\\\\\\"typeProperty\\\\\\\\\\\\\\\": 2}]}, \\\\\\\\\\\\\\\"localData\\\\\\\\\\\\\\\": {}, \\\\\\\\\\\\\\\"isEnabled\\\\\\\\\\\\\\\": true, \\\\\\\\\\\\\\\"name\\\\\\\\\\\\\\\": null, \\\\\\\\\\\\\\\"annotation\\\\\\\\\\\\\\\": null}], \\\\\\\\\\\\\\\"inspectors\\\\\\\\\\\\\\\": [], \\\\\\\\\\\\\\\"meta\\\\\\\\\\\\\\\": {\\\\\\\\\\\\\\\"savedDatasetId\\\\\\\\\\\\\\\": \\\\\\\\\\\\\\\"3d922a3e-e6e7-43e7-9fc2-81fd10eeed74\\\\\\\\\\\\\\\", \\\\\\\\\\\\\\\"datasetType\\\\\\\\\\\\\\\": \\\\\\\\\\\\\\\"tabular\\\\\\\\\\\\\\\", \\\\\\\\\\\\\\\"subscriptionId\\\\\\\\\\\\\\\": \\\\\\\\\\\\\\\"a0a76bad-11a1-4a2d-9887-97a29122c8ed\\\\\\\\\\\\\\\", \\\\\\\\\\\\\\\"workspaceId\\\\\\\\\\\\\\\": \\\\\\\\\\\\\\\"20b5bca3-5743-462f-a7ca-3a1a6a38706e\\\\\\\\\\\\\\\", \\\\\\\\\\\\\\\"workspaceLocation\\\\\\\\\\\\\\\": \\\\\\\\\\\\\\\"southcentralus\\\\\\\\\\\\\\\"}}\\\\\\\", \\\\\\\"activities\\\\\\\": 0}\", \"EnableSubsampling\": null, \"runTemplate\": \"AutoML\", \"azureml.runsource\": \"automl\", \"display_task_type\": \"classification\", \"dependencies_versions\": \"{\\\"azureml-widgets\\\": \\\"1.20.0\\\", \\\"azureml-train\\\": \\\"1.20.0\\\", \\\"azureml-train-restclients-hyperdrive\\\": \\\"1.20.0\\\", \\\"azureml-train-core\\\": \\\"1.20.0\\\", \\\"azureml-train-automl\\\": \\\"1.20.0\\\", \\\"azureml-train-automl-runtime\\\": \\\"1.20.0\\\", \\\"azureml-train-automl-client\\\": \\\"1.20.0\\\", \\\"azureml-tensorboard\\\": \\\"1.20.0\\\", \\\"azureml-telemetry\\\": \\\"1.20.0\\\", \\\"azureml-sdk\\\": \\\"1.20.0\\\", \\\"azureml-samples\\\": \\\"0+unknown\\\", \\\"azureml-pipeline\\\": \\\"1.20.0\\\", \\\"azureml-pipeline-steps\\\": \\\"1.20.0\\\", \\\"azureml-pipeline-core\\\": \\\"1.20.0\\\", \\\"azureml-opendatasets\\\": \\\"1.20.0\\\", \\\"azureml-model-management-sdk\\\": \\\"1.0.1b6.post1\\\", \\\"azureml-mlflow\\\": \\\"1.20.0.post1\\\", \\\"azureml-interpret\\\": \\\"1.20.0\\\", \\\"azureml-explain-model\\\": \\\"1.20.0\\\", \\\"azureml-defaults\\\": \\\"1.20.0\\\", \\\"azureml-dataset-runtime\\\": \\\"1.20.0\\\", \\\"azureml-dataprep\\\": \\\"2.7.3\\\", \\\"azureml-dataprep-rslex\\\": \\\"1.5.0\\\", \\\"azureml-dataprep-native\\\": \\\"27.0.0\\\", \\\"azureml-datadrift\\\": \\\"1.20.0\\\", \\\"azureml-core\\\": \\\"1.20.0\\\", \\\"azureml-contrib-services\\\": \\\"1.20.0\\\", \\\"azureml-contrib-server\\\": \\\"1.20.0\\\", \\\"azureml-contrib-reinforcementlearning\\\": \\\"1.20.0\\\", \\\"azureml-contrib-pipeline-steps\\\": \\\"1.20.0\\\", \\\"azureml-contrib-notebook\\\": \\\"1.20.0\\\", \\\"azureml-contrib-interpret\\\": \\\"1.20.0\\\", \\\"azureml-contrib-gbdt\\\": \\\"1.20.0\\\", \\\"azureml-contrib-fairness\\\": \\\"1.20.0\\\", \\\"azureml-contrib-dataset\\\": \\\"1.20.0\\\", \\\"azureml-cli-common\\\": \\\"1.20.0\\\", \\\"azureml-automl-runtime\\\": \\\"1.20.0\\\", \\\"azureml-automl-core\\\": \\\"1.20.0\\\", \\\"azureml-accel-models\\\": \\\"1.20.0\\\"}\", \"_aml_system_scenario_identification\": \"Remote.Parent\", \"ClientType\": \"SDK\", \"environment_cpu_name\": \"AzureML-AutoML\", \"environment_cpu_label\": \"prod\", \"environment_gpu_name\": \"AzureML-AutoML-GPU\", \"environment_gpu_label\": \"prod\", \"root_attribution\": \"automl\", \"attribution\": \"AutoML\", \"Orchestrator\": \"AutoML\", \"CancelUri\": \"https://southcentralus.experiments.azureml.net/jasmine/v1.0/subscriptions/a0a76bad-11a1-4a2d-9887-97a29122c8ed/resourceGroups/aml-quickstarts-136642/providers/Microsoft.MachineLearningServices/workspaces/quick-starts-ws-136642/experimentids/31fe5b3d-b152-4874-98ea-7073d949f7f8/cancel/AutoML_eb7abf71-5769-4cd0-840c-b1a76a5bcdfa\", \"ClientSdkVersion\": \"1.20.0.post1\", \"snapshotId\": \"00000000-0000-0000-0000-000000000000\", \"SetupRunId\": \"AutoML_eb7abf71-5769-4cd0-840c-b1a76a5bcdfa_setup\", \"SetupRunContainerId\": \"dcid.AutoML_eb7abf71-5769-4cd0-840c-b1a76a5bcdfa_setup\", \"FeaturizationRunJsonPath\": \"featurizer_container.json\", \"FeaturizationRunId\": \"AutoML_eb7abf71-5769-4cd0-840c-b1a76a5bcdfa_featurize\", \"ProblemInfoJsonString\": \"{\\\"dataset_num_categorical\\\": 0, \\\"is_sparse\\\": false, \\\"subsampling\\\": false, \\\"dataset_classes\\\": 2, \\\"dataset_features\\\": 12, \\\"dataset_samples\\\": 299, \\\"single_frequency_class_detected\\\": false}\", \"ModelExplainRunId\": \"AutoML_eb7abf71-5769-4cd0-840c-b1a76a5bcdfa_ModelExplain\"}, \"tags\": {\"model_explain_run\": \"best_run\", \"_aml_system_azureml.automlComponent\": \"AutoML\", \"pipeline_id\": \"\", \"score\": \"\", \"predicted_cost\": \"\", \"fit_time\": \"\", \"training_percent\": \"\", \"iteration\": \"\", \"run_preprocessor\": \"\", \"run_algorithm\": \"\", \"dynamic_whitelisting_iterations\": \"<25>;<30>;<35>;<40>;<45>;\", \"automl_best_child_run_id\": \"AutoML_eb7abf71-5769-4cd0-840c-b1a76a5bcdfa_47\", \"model_explain_best_run_child_id\": \"AutoML_eb7abf71-5769-4cd0-840c-b1a76a5bcdfa_47\"}, \"end_time_utc\": \"2021-01-30T20:21:39.432415Z\", \"status\": \"Completed\", \"log_files\": {}, \"log_groups\": [], \"run_duration\": \"0:16:59\"}, \"child_runs\": [{\"run_id\": \"AutoML_eb7abf71-5769-4cd0-840c-b1a76a5bcdfa_0\", \"run_number\": 6, \"metric\": null, \"status\": \"Completed\", \"run_type\": \"azureml.scriptrun\", \"training_percent\": \"100\", \"start_time\": \"2021-01-30T20:09:33.009084Z\", \"end_time\": \"2021-01-30T20:10:33.287758Z\", \"created_time\": \"2021-01-30T20:09:14.952915Z\", \"created_time_dt\": \"2021-01-30T20:09:14.952915Z\", \"duration\": \"0:01:18\", \"iteration\": \"0\", \"goal\": \"accuracy_max\", \"run_name\": \"MaxAbsScaler, LightGBM\", \"run_properties\": \"copy=True\", \"primary_metric\": 0.80252525, \"best_metric\": 0.80252525}, {\"run_id\": \"AutoML_eb7abf71-5769-4cd0-840c-b1a76a5bcdfa_2\", \"run_number\": 7, \"metric\": null, \"status\": \"Completed\", \"run_type\": \"azureml.scriptrun\", \"training_percent\": \"100\", \"start_time\": \"2021-01-30T20:09:33.210286Z\", \"end_time\": \"2021-01-30T20:10:27.056327Z\", \"created_time\": \"2021-01-30T20:09:14.976869Z\", \"created_time_dt\": \"2021-01-30T20:09:14.976869Z\", \"duration\": \"0:01:12\", \"iteration\": \"2\", \"goal\": \"accuracy_max\", \"run_name\": \"MinMaxScaler, RandomForest\", \"run_properties\": \"copy=True, feature_range=(0, 1\", \"primary_metric\": 0.83609428, \"best_metric\": 0.83609428}, {\"run_id\": \"AutoML_eb7abf71-5769-4cd0-840c-b1a76a5bcdfa_4\", \"run_number\": 8, \"metric\": null, \"status\": \"Completed\", \"run_type\": \"azureml.scriptrun\", \"training_percent\": \"100\", \"start_time\": \"2021-01-30T20:09:30.728311Z\", \"end_time\": \"2021-01-30T20:10:29.67542Z\", \"created_time\": \"2021-01-30T20:09:15.024025Z\", \"created_time_dt\": \"2021-01-30T20:09:15.024025Z\", \"duration\": \"0:01:14\", \"iteration\": \"4\", \"goal\": \"accuracy_max\", \"run_name\": \"MinMaxScaler, RandomForest\", \"run_properties\": \"copy=True, feature_range=(0, 1\", \"primary_metric\": 0.82606061, \"best_metric\": 0.83609428}, {\"run_id\": \"AutoML_eb7abf71-5769-4cd0-840c-b1a76a5bcdfa_1\", \"run_number\": 9, \"metric\": null, \"status\": \"Completed\", \"run_type\": \"azureml.scriptrun\", \"training_percent\": \"100\", \"start_time\": \"2021-01-30T20:09:32.777484Z\", \"end_time\": \"2021-01-30T20:10:26.728693Z\", \"created_time\": \"2021-01-30T20:09:15.027294Z\", \"created_time_dt\": \"2021-01-30T20:09:15.027294Z\", \"duration\": \"0:01:11\", \"iteration\": \"1\", \"goal\": \"accuracy_max\", \"run_name\": \"MaxAbsScaler, XGBoostClassifier\", \"run_properties\": \"copy=True\", \"primary_metric\": 0.81929293, \"best_metric\": 0.81929293}, {\"run_id\": \"AutoML_eb7abf71-5769-4cd0-840c-b1a76a5bcdfa_3\", \"run_number\": 10, \"metric\": null, \"status\": \"Completed\", \"run_type\": \"azureml.scriptrun\", \"training_percent\": \"100\", \"start_time\": \"2021-01-30T20:09:31.387375Z\", \"end_time\": \"2021-01-30T20:10:26.979324Z\", \"created_time\": \"2021-01-30T20:09:15.078917Z\", \"created_time_dt\": \"2021-01-30T20:09:15.078917Z\", \"duration\": \"0:01:11\", \"iteration\": \"3\", \"goal\": \"accuracy_max\", \"run_name\": \"MinMaxScaler, RandomForest\", \"run_properties\": \"copy=True, feature_range=(0, 1\", \"primary_metric\": 0.83599327, \"best_metric\": 0.83609428}, {\"run_id\": \"AutoML_eb7abf71-5769-4cd0-840c-b1a76a5bcdfa_5\", \"run_number\": 11, \"metric\": null, \"status\": \"Completed\", \"run_type\": \"azureml.scriptrun\", \"training_percent\": \"100\", \"start_time\": \"2021-01-30T20:10:42.59774Z\", \"end_time\": \"2021-01-30T20:11:31.446287Z\", \"created_time\": \"2021-01-30T20:10:30.15306Z\", \"created_time_dt\": \"2021-01-30T20:10:30.15306Z\", \"duration\": \"0:01:01\", \"iteration\": \"5\", \"goal\": \"accuracy_max\", \"run_name\": \"SparseNormalizer, XGBoostClassifier\", \"run_properties\": \"<azureml.automl.runtime.shared.model_wrappers.SparseNormalizer object at 0x7fea1c291668\", \"primary_metric\": 0.82939394, \"best_metric\": 0.83609428}, {\"run_id\": \"AutoML_eb7abf71-5769-4cd0-840c-b1a76a5bcdfa_6\", \"run_number\": 12, \"metric\": null, \"status\": \"Completed\", \"run_type\": \"azureml.scriptrun\", \"training_percent\": \"100\", \"start_time\": \"2021-01-30T20:10:45.147725Z\", \"end_time\": \"2021-01-30T20:11:37.882679Z\", \"created_time\": \"2021-01-30T20:10:30.167074Z\", \"created_time_dt\": \"2021-01-30T20:10:30.167074Z\", \"duration\": \"0:01:07\", \"iteration\": \"6\", \"goal\": \"accuracy_max\", \"run_name\": \"StandardScalerWrapper, XGBoostClassifier\", \"run_properties\": \"<azureml.automl.runtime.shared.model_wrappers.StandardScalerWrapper object at 0x7ff2399d6320\", \"primary_metric\": 0.8326936, \"best_metric\": 0.83609428}, {\"run_id\": \"AutoML_eb7abf71-5769-4cd0-840c-b1a76a5bcdfa_8\", \"run_number\": 13, \"metric\": null, \"status\": \"Completed\", \"run_type\": \"azureml.scriptrun\", \"training_percent\": \"100\", \"start_time\": \"2021-01-30T20:10:48.686456Z\", \"end_time\": \"2021-01-30T20:11:38.019516Z\", \"created_time\": \"2021-01-30T20:10:36.14708Z\", \"created_time_dt\": \"2021-01-30T20:10:36.14708Z\", \"duration\": \"0:01:01\", \"iteration\": \"8\", \"goal\": \"accuracy_max\", \"run_name\": \"SparseNormalizer, XGBoostClassifier\", \"run_properties\": \"<azureml.automl.runtime.shared.model_wrappers.SparseNormalizer object at 0x7f35350f7b38\", \"primary_metric\": 0.82609428, \"best_metric\": 0.83609428}, {\"run_id\": \"AutoML_eb7abf71-5769-4cd0-840c-b1a76a5bcdfa_7\", \"run_number\": 14, \"metric\": null, \"status\": \"Completed\", \"run_type\": \"azureml.scriptrun\", \"training_percent\": \"100\", \"start_time\": \"2021-01-30T20:10:47.617925Z\", \"end_time\": \"2021-01-30T20:11:37.820711Z\", \"created_time\": \"2021-01-30T20:10:36.167214Z\", \"created_time_dt\": \"2021-01-30T20:10:36.167214Z\", \"duration\": \"0:01:01\", \"iteration\": \"7\", \"goal\": \"accuracy_max\", \"run_name\": \"MinMaxScaler, SVM\", \"run_properties\": \"copy=True, feature_range=(0, 1\", \"primary_metric\": 0.7123569, \"best_metric\": 0.83609428}, {\"run_id\": \"AutoML_eb7abf71-5769-4cd0-840c-b1a76a5bcdfa_9\", \"run_number\": 15, \"metric\": null, \"status\": \"Completed\", \"run_type\": \"azureml.scriptrun\", \"training_percent\": \"100\", \"start_time\": \"2021-01-30T20:10:48.18589Z\", \"end_time\": \"2021-01-30T20:11:33.778626Z\", \"created_time\": \"2021-01-30T20:10:36.30448Z\", \"created_time_dt\": \"2021-01-30T20:10:36.30448Z\", \"duration\": \"0:00:57\", \"iteration\": \"9\", \"goal\": \"accuracy_max\", \"run_name\": \"SparseNormalizer, XGBoostClassifier\", \"run_properties\": \"<azureml.automl.runtime.shared.model_wrappers.SparseNormalizer object at 0x7f499a903320\", \"primary_metric\": 0.79936027, \"best_metric\": 0.83609428}, {\"run_id\": \"AutoML_eb7abf71-5769-4cd0-840c-b1a76a5bcdfa_10\", \"run_number\": 16, \"metric\": null, \"status\": \"Completed\", \"run_type\": \"azureml.scriptrun\", \"training_percent\": \"100\", \"start_time\": \"2021-01-30T20:11:46.766686Z\", \"end_time\": \"2021-01-30T20:12:34.793208Z\", \"created_time\": \"2021-01-30T20:11:33.813155Z\", \"created_time_dt\": \"2021-01-30T20:11:33.813155Z\", \"duration\": \"0:01:00\", \"iteration\": \"10\", \"goal\": \"accuracy_max\", \"run_name\": \"StandardScalerWrapper, RandomForest\", \"run_properties\": \"<azureml.automl.runtime.shared.model_wrappers.StandardScalerWrapper object at 0x7f7d21e7c2e8\", \"primary_metric\": 0.84272727, \"best_metric\": 0.84272727}, {\"run_id\": \"AutoML_eb7abf71-5769-4cd0-840c-b1a76a5bcdfa_11\", \"run_number\": 17, \"metric\": null, \"status\": \"Completed\", \"run_type\": \"azureml.scriptrun\", \"training_percent\": \"100\", \"start_time\": \"2021-01-30T20:11:50.590768Z\", \"end_time\": \"2021-01-30T20:12:38.582793Z\", \"created_time\": \"2021-01-30T20:11:39.677748Z\", \"created_time_dt\": \"2021-01-30T20:11:39.677748Z\", \"duration\": \"0:00:58\", \"iteration\": \"11\", \"goal\": \"accuracy_max\", \"run_name\": \"StandardScalerWrapper, LightGBM\", \"run_properties\": \"<azureml.automl.runtime.shared.model_wrappers.StandardScalerWrapper object at 0x7f9cc95df4e0\", \"primary_metric\": 0.79255892, \"best_metric\": 0.84272727}, {\"run_id\": \"AutoML_eb7abf71-5769-4cd0-840c-b1a76a5bcdfa_12\", \"run_number\": 18, \"metric\": null, \"status\": \"Completed\", \"run_type\": \"azureml.scriptrun\", \"training_percent\": \"100\", \"start_time\": \"2021-01-30T20:11:56.83261Z\", \"end_time\": \"2021-01-30T20:13:29.949497Z\", \"created_time\": \"2021-01-30T20:11:44.627733Z\", \"created_time_dt\": \"2021-01-30T20:11:44.627733Z\", \"duration\": \"0:01:45\", \"iteration\": \"12\", \"goal\": \"accuracy_max\", \"run_name\": \"MaxAbsScaler, ExtremeRandomTrees\", \"run_properties\": \"copy=True\", \"primary_metric\": 0.83282828, \"best_metric\": 0.84272727}, {\"run_id\": \"AutoML_eb7abf71-5769-4cd0-840c-b1a76a5bcdfa_13\", \"run_number\": 19, \"metric\": null, \"status\": \"Completed\", \"run_type\": \"azureml.scriptrun\", \"training_percent\": \"100\", \"start_time\": \"2021-01-30T20:11:56.689177Z\", \"end_time\": \"2021-01-30T20:12:44.242107Z\", \"created_time\": \"2021-01-30T20:11:44.785338Z\", \"created_time_dt\": \"2021-01-30T20:11:44.785338Z\", \"duration\": \"0:00:59\", \"iteration\": \"13\", \"goal\": \"accuracy_max\", \"run_name\": \"MaxAbsScaler, LightGBM\", \"run_properties\": \"copy=True\", \"primary_metric\": 0.72239057, \"best_metric\": 0.84272727}, {\"run_id\": \"AutoML_eb7abf71-5769-4cd0-840c-b1a76a5bcdfa_14\", \"run_number\": 20, \"metric\": null, \"status\": \"Completed\", \"run_type\": \"azureml.scriptrun\", \"training_percent\": \"100\", \"start_time\": \"2021-01-30T20:11:58.454822Z\", \"end_time\": \"2021-01-30T20:12:42.517188Z\", \"created_time\": \"2021-01-30T20:11:44.858413Z\", \"created_time_dt\": \"2021-01-30T20:11:44.858413Z\", \"duration\": \"0:00:57\", \"iteration\": \"14\", \"goal\": \"accuracy_max\", \"run_name\": \"StandardScalerWrapper, LightGBM\", \"run_properties\": \"<azureml.automl.runtime.shared.model_wrappers.StandardScalerWrapper object at 0x7fd7d0104fd0\", \"primary_metric\": 0.84282828, \"best_metric\": 0.84282828}, {\"run_id\": \"AutoML_eb7abf71-5769-4cd0-840c-b1a76a5bcdfa_15\", \"run_number\": 21, \"metric\": null, \"status\": \"Completed\", \"run_type\": \"azureml.scriptrun\", \"training_percent\": \"100\", \"start_time\": \"2021-01-30T20:12:52.646963Z\", \"end_time\": \"2021-01-30T20:13:48.494926Z\", \"created_time\": \"2021-01-30T20:12:37.679359Z\", \"created_time_dt\": \"2021-01-30T20:12:37.679359Z\", \"duration\": \"0:01:10\", \"iteration\": \"15\", \"goal\": \"accuracy_max\", \"run_name\": \"RobustScaler, RandomForest\", \"run_properties\": \"copy=True, quantile_range=[10, 90], with_centering=True,\\n             with_scaling=True\", \"primary_metric\": 0.83602694, \"best_metric\": 0.84282828}, {\"run_id\": \"AutoML_eb7abf71-5769-4cd0-840c-b1a76a5bcdfa_16\", \"run_number\": 22, \"metric\": null, \"status\": \"Completed\", \"run_type\": \"azureml.scriptrun\", \"training_percent\": \"100\", \"start_time\": \"2021-01-30T20:12:55.051576Z\", \"end_time\": \"2021-01-30T20:13:43.861791Z\", \"created_time\": \"2021-01-30T20:12:42.154717Z\", \"created_time_dt\": \"2021-01-30T20:12:42.154717Z\", \"duration\": \"0:01:01\", \"iteration\": \"16\", \"goal\": \"accuracy_max\", \"run_name\": \"MinMaxScaler, LightGBM\", \"run_properties\": \"copy=True, feature_range=(0, 1\", \"primary_metric\": 0.80929293, \"best_metric\": 0.84282828}, {\"run_id\": \"AutoML_eb7abf71-5769-4cd0-840c-b1a76a5bcdfa_17\", \"run_number\": 23, \"metric\": null, \"status\": \"Completed\", \"run_type\": \"azureml.scriptrun\", \"training_percent\": \"100\", \"start_time\": \"2021-01-30T20:13:00.514662Z\", \"end_time\": \"2021-01-30T20:13:46.739072Z\", \"created_time\": \"2021-01-30T20:12:47.200309Z\", \"created_time_dt\": \"2021-01-30T20:12:47.200309Z\", \"duration\": \"0:00:59\", \"iteration\": \"17\", \"goal\": \"accuracy_max\", \"run_name\": \"SparseNormalizer, XGBoostClassifier\", \"run_properties\": \"<azureml.automl.runtime.shared.model_wrappers.SparseNormalizer object at 0x7f09b50c17b8\", \"primary_metric\": 0.81612795, \"best_metric\": 0.84282828}, {\"run_id\": \"AutoML_eb7abf71-5769-4cd0-840c-b1a76a5bcdfa_18\", \"run_number\": 24, \"metric\": null, \"status\": \"Completed\", \"run_type\": \"azureml.scriptrun\", \"training_percent\": \"100\", \"start_time\": \"2021-01-30T20:13:00.645051Z\", \"end_time\": \"2021-01-30T20:13:44.142567Z\", \"created_time\": \"2021-01-30T20:12:47.337363Z\", \"created_time_dt\": \"2021-01-30T20:12:47.337363Z\", \"duration\": \"0:00:56\", \"iteration\": \"18\", \"goal\": \"accuracy_max\", \"run_name\": \"SparseNormalizer, XGBoostClassifier\", \"run_properties\": \"<azureml.automl.runtime.shared.model_wrappers.SparseNormalizer object at 0x7f43a4203400\", \"primary_metric\": 0.81265993, \"best_metric\": 0.84282828}, {\"run_id\": \"AutoML_eb7abf71-5769-4cd0-840c-b1a76a5bcdfa_19\", \"run_number\": 25, \"metric\": null, \"status\": \"Completed\", \"run_type\": \"azureml.scriptrun\", \"training_percent\": \"100\", \"start_time\": \"2021-01-30T20:13:44.352077Z\", \"end_time\": \"2021-01-30T20:14:35.043953Z\", \"created_time\": \"2021-01-30T20:13:32.254153Z\", \"created_time_dt\": \"2021-01-30T20:13:32.254153Z\", \"duration\": \"0:01:02\", \"iteration\": \"19\", \"goal\": \"accuracy_max\", \"run_name\": \"RobustScaler, LightGBM\", \"run_properties\": \"copy=True, quantile_range=[10, 90], with_centering=True,\\n             with_scaling=True\", \"primary_metric\": 0.8226936, \"best_metric\": 0.84282828}, {\"run_id\": \"AutoML_eb7abf71-5769-4cd0-840c-b1a76a5bcdfa_20\", \"run_number\": 26, \"metric\": null, \"status\": \"Completed\", \"run_type\": \"azureml.scriptrun\", \"training_percent\": \"100\", \"start_time\": \"2021-01-30T20:13:59.271381Z\", \"end_time\": \"2021-01-30T20:14:54.499012Z\", \"created_time\": \"2021-01-30T20:13:46.25985Z\", \"created_time_dt\": \"2021-01-30T20:13:46.25985Z\", \"duration\": \"0:01:08\", \"iteration\": \"20\", \"goal\": \"accuracy_max\", \"run_name\": \"RobustScaler, LightGBM\", \"run_properties\": \"copy=True, quantile_range=[25, 75], with_centering=False,\\n             with_scaling=False\", \"primary_metric\": 0.75252525, \"best_metric\": 0.84282828}, {\"run_id\": \"AutoML_eb7abf71-5769-4cd0-840c-b1a76a5bcdfa_21\", \"run_number\": 27, \"metric\": null, \"status\": \"Completed\", \"run_type\": \"azureml.scriptrun\", \"training_percent\": \"100\", \"start_time\": \"2021-01-30T20:13:57.495525Z\", \"end_time\": \"2021-01-30T20:14:54.169224Z\", \"created_time\": \"2021-01-30T20:13:46.389888Z\", \"created_time_dt\": \"2021-01-30T20:13:46.389888Z\", \"duration\": \"0:01:07\", \"iteration\": \"21\", \"goal\": \"accuracy_max\", \"run_name\": \"StandardScalerWrapper, XGBoostClassifier\", \"run_properties\": \"<azureml.automl.runtime.shared.model_wrappers.StandardScalerWrapper object at 0x7f23b6622828\", \"primary_metric\": 0.81265993, \"best_metric\": 0.84282828}, {\"run_id\": \"AutoML_eb7abf71-5769-4cd0-840c-b1a76a5bcdfa_22\", \"run_number\": 28, \"metric\": null, \"status\": \"Completed\", \"run_type\": \"azureml.scriptrun\", \"training_percent\": \"100\", \"start_time\": \"2021-01-30T20:14:03.381743Z\", \"end_time\": \"2021-01-30T20:14:53.855271Z\", \"created_time\": \"2021-01-30T20:13:51.715567Z\", \"created_time_dt\": \"2021-01-30T20:13:51.715567Z\", \"duration\": \"0:01:02\", \"iteration\": \"22\", \"goal\": \"accuracy_max\", \"run_name\": \"SparseNormalizer, XGBoostClassifier\", \"run_properties\": \"<azureml.automl.runtime.shared.model_wrappers.SparseNormalizer object at 0x7fcb42619278\", \"primary_metric\": 0.7993266, \"best_metric\": 0.84282828}, {\"run_id\": \"AutoML_eb7abf71-5769-4cd0-840c-b1a76a5bcdfa_23\", \"run_number\": 29, \"metric\": null, \"status\": \"Completed\", \"run_type\": \"azureml.scriptrun\", \"training_percent\": \"100\", \"start_time\": \"2021-01-30T20:14:03.903137Z\", \"end_time\": \"2021-01-30T20:15:02.127337Z\", \"created_time\": \"2021-01-30T20:13:51.718576Z\", \"created_time_dt\": \"2021-01-30T20:13:51.718576Z\", \"duration\": \"0:01:10\", \"iteration\": \"23\", \"goal\": \"accuracy_max\", \"run_name\": \"StandardScalerWrapper, LogisticRegression\", \"run_properties\": \"<azureml.automl.runtime.shared.model_wrappers.StandardScalerWrapper object at 0x7ff0b60c8550\", \"primary_metric\": 0.80252525, \"best_metric\": 0.84282828}, {\"run_id\": \"AutoML_eb7abf71-5769-4cd0-840c-b1a76a5bcdfa_24\", \"run_number\": 30, \"metric\": null, \"status\": \"Completed\", \"run_type\": \"azureml.scriptrun\", \"training_percent\": \"100\", \"start_time\": \"2021-01-30T20:14:49.948861Z\", \"end_time\": \"2021-01-30T20:15:43.237158Z\", \"created_time\": \"2021-01-30T20:14:38.022827Z\", \"created_time_dt\": \"2021-01-30T20:14:38.022827Z\", \"duration\": \"0:01:05\", \"iteration\": \"24\", \"goal\": \"accuracy_max\", \"run_name\": \"StandardScalerWrapper, XGBoostClassifier\", \"run_properties\": \"<azureml.automl.runtime.shared.model_wrappers.StandardScalerWrapper object at 0x7f3d44c9e6a0\", \"primary_metric\": 0.83602694, \"best_metric\": 0.84282828}, {\"run_id\": \"AutoML_eb7abf71-5769-4cd0-840c-b1a76a5bcdfa_25\", \"run_number\": 31, \"metric\": null, \"status\": \"Completed\", \"run_type\": \"azureml.scriptrun\", \"training_percent\": \"100\", \"start_time\": \"2021-01-30T20:15:08.907084Z\", \"end_time\": \"2021-01-30T20:15:59.118901Z\", \"created_time\": \"2021-01-30T20:14:57.541784Z\", \"created_time_dt\": \"2021-01-30T20:14:57.541784Z\", \"duration\": \"0:01:01\", \"iteration\": \"25\", \"goal\": \"accuracy_max\", \"run_name\": \"StandardScalerWrapper, LightGBM\", \"run_properties\": \"<azureml.automl.runtime.shared.model_wrappers.StandardScalerWrapper object at 0x7f62a8c585f8\", \"primary_metric\": 0.67902357, \"best_metric\": 0.84282828}, {\"run_id\": \"AutoML_eb7abf71-5769-4cd0-840c-b1a76a5bcdfa_26\", \"run_number\": 32, \"metric\": null, \"status\": \"Completed\", \"run_type\": \"azureml.scriptrun\", \"training_percent\": \"100\", \"start_time\": \"2021-01-30T20:15:11.511122Z\", \"end_time\": \"2021-01-30T20:16:06.728648Z\", \"created_time\": \"2021-01-30T20:14:57.64898Z\", \"created_time_dt\": \"2021-01-30T20:14:57.64898Z\", \"duration\": \"0:01:09\", \"iteration\": \"26\", \"goal\": \"accuracy_max\", \"run_name\": \"SparseNormalizer, XGBoostClassifier\", \"run_properties\": \"<azureml.automl.runtime.shared.model_wrappers.SparseNormalizer object at 0x7ffa08679eb8\", \"primary_metric\": 0.73262626, \"best_metric\": 0.84282828}, {\"run_id\": \"AutoML_eb7abf71-5769-4cd0-840c-b1a76a5bcdfa_27\", \"run_number\": 33, \"metric\": null, \"status\": \"Completed\", \"run_type\": \"azureml.scriptrun\", \"training_percent\": \"100\", \"start_time\": \"2021-01-30T20:15:15.189137Z\", \"end_time\": \"2021-01-30T20:16:08.412097Z\", \"created_time\": \"2021-01-30T20:15:02.96087Z\", \"created_time_dt\": \"2021-01-30T20:15:02.96087Z\", \"duration\": \"0:01:05\", \"iteration\": \"27\", \"goal\": \"accuracy_max\", \"run_name\": \"SparseNormalizer, XGBoostClassifier\", \"run_properties\": \"<azureml.automl.runtime.shared.model_wrappers.SparseNormalizer object at 0x7fc175e01eb8\", \"primary_metric\": 0.81599327, \"best_metric\": 0.84282828}, {\"run_id\": \"AutoML_eb7abf71-5769-4cd0-840c-b1a76a5bcdfa_28\", \"run_number\": 34, \"metric\": null, \"status\": \"Completed\", \"run_type\": \"azureml.scriptrun\", \"training_percent\": \"100\", \"start_time\": \"2021-01-30T20:15:20.616875Z\", \"end_time\": \"2021-01-30T20:16:12.357187Z\", \"created_time\": \"2021-01-30T20:15:09.006026Z\", \"created_time_dt\": \"2021-01-30T20:15:09.006026Z\", \"duration\": \"0:01:03\", \"iteration\": \"28\", \"goal\": \"accuracy_max\", \"run_name\": \"MaxAbsScaler, ExtremeRandomTrees\", \"run_properties\": \"copy=True\", \"primary_metric\": 0.84612795, \"best_metric\": 0.84612795}, {\"run_id\": \"AutoML_eb7abf71-5769-4cd0-840c-b1a76a5bcdfa_29\", \"run_number\": 35, \"metric\": null, \"status\": \"Completed\", \"run_type\": \"azureml.scriptrun\", \"training_percent\": \"100\", \"start_time\": \"2021-01-30T20:15:56.434681Z\", \"end_time\": \"2021-01-30T20:16:49.591002Z\", \"created_time\": \"2021-01-30T20:15:45.670102Z\", \"created_time_dt\": \"2021-01-30T20:15:45.670102Z\", \"duration\": \"0:01:03\", \"iteration\": \"29\", \"goal\": \"accuracy_max\", \"run_name\": \"SparseNormalizer, XGBoostClassifier\", \"run_properties\": \"<azureml.automl.runtime.shared.model_wrappers.SparseNormalizer object at 0x7f322026f588\", \"primary_metric\": 0.78602694, \"best_metric\": 0.84612795}, {\"run_id\": \"AutoML_eb7abf71-5769-4cd0-840c-b1a76a5bcdfa_30\", \"run_number\": 36, \"metric\": null, \"status\": \"Completed\", \"run_type\": \"azureml.scriptrun\", \"training_percent\": \"100\", \"start_time\": \"2021-01-30T20:16:14.885591Z\", \"end_time\": \"2021-01-30T20:17:09.355312Z\", \"created_time\": \"2021-01-30T20:16:02.931799Z\", \"created_time_dt\": \"2021-01-30T20:16:02.931799Z\", \"duration\": \"0:01:06\", \"iteration\": \"30\", \"goal\": \"accuracy_max\", \"run_name\": \"StandardScalerWrapper, LightGBM\", \"run_properties\": \"<azureml.automl.runtime.shared.model_wrappers.StandardScalerWrapper object at 0x7f9ff7b179e8\", \"primary_metric\": 0.83942761, \"best_metric\": 0.84612795}, {\"run_id\": \"AutoML_eb7abf71-5769-4cd0-840c-b1a76a5bcdfa_31\", \"run_number\": 37, \"metric\": null, \"status\": \"Completed\", \"run_type\": \"azureml.scriptrun\", \"training_percent\": \"100\", \"start_time\": \"2021-01-30T20:16:19.536055Z\", \"end_time\": \"2021-01-30T20:17:08.214764Z\", \"created_time\": \"2021-01-30T20:16:09.161971Z\", \"created_time_dt\": \"2021-01-30T20:16:09.161971Z\", \"duration\": \"0:00:59\", \"iteration\": \"31\", \"goal\": \"accuracy_max\", \"run_name\": \"StandardScalerWrapper, XGBoostClassifier\", \"run_properties\": \"<azureml.automl.runtime.shared.model_wrappers.StandardScalerWrapper object at 0x7f8ce630a128\", \"primary_metric\": 0.84272727, \"best_metric\": 0.84612795}, {\"run_id\": \"AutoML_eb7abf71-5769-4cd0-840c-b1a76a5bcdfa_32\", \"run_number\": 38, \"metric\": null, \"status\": \"Completed\", \"run_type\": \"azureml.scriptrun\", \"training_percent\": \"100\", \"start_time\": \"2021-01-30T20:16:25.468776Z\", \"end_time\": \"2021-01-30T20:17:17.294551Z\", \"created_time\": \"2021-01-30T20:16:13.597322Z\", \"created_time_dt\": \"2021-01-30T20:16:13.597322Z\", \"duration\": \"0:01:03\", \"iteration\": \"32\", \"goal\": \"accuracy_max\", \"run_name\": \"StandardScalerWrapper, LightGBM\", \"run_properties\": \"<azureml.automl.runtime.shared.model_wrappers.StandardScalerWrapper object at 0x7f3e587664a8\", \"primary_metric\": 0.82939394, \"best_metric\": 0.84612795}, {\"run_id\": \"AutoML_eb7abf71-5769-4cd0-840c-b1a76a5bcdfa_33\", \"run_number\": 39, \"metric\": null, \"status\": \"Completed\", \"run_type\": \"azureml.scriptrun\", \"training_percent\": \"100\", \"start_time\": \"2021-01-30T20:16:28.114207Z\", \"end_time\": \"2021-01-30T20:17:18.467741Z\", \"created_time\": \"2021-01-30T20:16:18.257269Z\", \"created_time_dt\": \"2021-01-30T20:16:18.257269Z\", \"duration\": \"0:01:00\", \"iteration\": \"33\", \"goal\": \"accuracy_max\", \"run_name\": \"SparseNormalizer, RandomForest\", \"run_properties\": \"<azureml.automl.runtime.shared.model_wrappers.SparseNormalizer object at 0x7f6bb4110dd8\", \"primary_metric\": 0.77245791, \"best_metric\": 0.84612795}, {\"run_id\": \"AutoML_eb7abf71-5769-4cd0-840c-b1a76a5bcdfa_34\", \"run_number\": 40, \"metric\": null, \"status\": \"Completed\", \"run_type\": \"azureml.scriptrun\", \"training_percent\": \"100\", \"start_time\": \"2021-01-30T20:17:04.924008Z\", \"end_time\": \"2021-01-30T20:17:57.437006Z\", \"created_time\": \"2021-01-30T20:16:52.132356Z\", \"created_time_dt\": \"2021-01-30T20:16:52.132356Z\", \"duration\": \"0:01:05\", \"iteration\": \"34\", \"goal\": \"accuracy_max\", \"run_name\": \"MaxAbsScaler, ExtremeRandomTrees\", \"run_properties\": \"copy=True\", \"primary_metric\": 0.81262626, \"best_metric\": 0.84612795}, {\"run_id\": \"AutoML_eb7abf71-5769-4cd0-840c-b1a76a5bcdfa_35\", \"run_number\": 41, \"metric\": null, \"status\": \"Completed\", \"run_type\": \"azureml.scriptrun\", \"training_percent\": \"100\", \"start_time\": \"2021-01-30T20:17:24.756801Z\", \"end_time\": \"2021-01-30T20:18:16.612729Z\", \"created_time\": \"2021-01-30T20:17:11.402324Z\", \"created_time_dt\": \"2021-01-30T20:17:11.402324Z\", \"duration\": \"0:01:05\", \"iteration\": \"35\", \"goal\": \"accuracy_max\", \"run_name\": \"SparseNormalizer, ExtremeRandomTrees\", \"run_properties\": \"<azureml.automl.runtime.shared.model_wrappers.SparseNormalizer object at 0x7fbdae7ca6d8\", \"primary_metric\": 0.68569024, \"best_metric\": 0.84612795}, {\"run_id\": \"AutoML_eb7abf71-5769-4cd0-840c-b1a76a5bcdfa_36\", \"run_number\": 42, \"metric\": null, \"status\": \"Completed\", \"run_type\": \"azureml.scriptrun\", \"training_percent\": \"100\", \"start_time\": \"2021-01-30T20:17:29.82352Z\", \"end_time\": \"2021-01-30T20:18:24.998807Z\", \"created_time\": \"2021-01-30T20:17:16.349586Z\", \"created_time_dt\": \"2021-01-30T20:17:16.349586Z\", \"duration\": \"0:01:08\", \"iteration\": \"36\", \"goal\": \"accuracy_max\", \"run_name\": \"MaxAbsScaler, RandomForest\", \"run_properties\": \"copy=True\", \"primary_metric\": 0.81919192, \"best_metric\": 0.84612795}, {\"run_id\": \"AutoML_eb7abf71-5769-4cd0-840c-b1a76a5bcdfa_37\", \"run_number\": 43, \"metric\": null, \"status\": \"Completed\", \"run_type\": \"azureml.scriptrun\", \"training_percent\": \"100\", \"start_time\": \"2021-01-30T20:17:31.010183Z\", \"end_time\": \"2021-01-30T20:18:16.2466Z\", \"created_time\": \"2021-01-30T20:17:21.037435Z\", \"created_time_dt\": \"2021-01-30T20:17:21.037435Z\", \"duration\": \"0:00:55\", \"iteration\": \"37\", \"goal\": \"accuracy_max\", \"run_name\": \"MinMaxScaler, RandomForest\", \"run_properties\": \"copy=True, feature_range=(0, 1\", \"primary_metric\": 0.83599327, \"best_metric\": 0.84612795}, {\"run_id\": \"AutoML_eb7abf71-5769-4cd0-840c-b1a76a5bcdfa_38\", \"run_number\": 44, \"metric\": null, \"status\": \"Completed\", \"run_type\": \"azureml.scriptrun\", \"training_percent\": \"100\", \"start_time\": \"2021-01-30T20:17:32.910015Z\", \"end_time\": \"2021-01-30T20:18:20.981654Z\", \"created_time\": \"2021-01-30T20:17:21.193868Z\", \"created_time_dt\": \"2021-01-30T20:17:21.193868Z\", \"duration\": \"0:00:59\", \"iteration\": \"38\", \"goal\": \"accuracy_max\", \"run_name\": \"SparseNormalizer, XGBoostClassifier\", \"run_properties\": \"<azureml.automl.runtime.shared.model_wrappers.SparseNormalizer object at 0x7f295bd8aa90\", \"primary_metric\": 0.82939394, \"best_metric\": 0.84612795}, {\"run_id\": \"AutoML_eb7abf71-5769-4cd0-840c-b1a76a5bcdfa_39\", \"run_number\": 45, \"metric\": null, \"status\": \"Completed\", \"run_type\": \"azureml.scriptrun\", \"training_percent\": \"100\", \"start_time\": \"2021-01-30T20:18:12.412823Z\", \"end_time\": \"2021-01-30T20:19:05.940474Z\", \"created_time\": \"2021-01-30T20:17:59.762452Z\", \"created_time_dt\": \"2021-01-30T20:17:59.762452Z\", \"duration\": \"0:01:06\", \"iteration\": \"39\", \"goal\": \"accuracy_max\", \"run_name\": \"RobustScaler, LightGBM\", \"run_properties\": \"copy=True, quantile_range=[10, 90], with_centering=False,\\n             with_scaling=False\", \"primary_metric\": 0.77939394, \"best_metric\": 0.84612795}, {\"run_id\": \"AutoML_eb7abf71-5769-4cd0-840c-b1a76a5bcdfa_41\", \"run_number\": 46, \"metric\": null, \"status\": \"Completed\", \"run_type\": \"azureml.scriptrun\", \"training_percent\": \"100\", \"start_time\": \"2021-01-30T20:18:30.116658Z\", \"end_time\": \"2021-01-30T20:19:17.479112Z\", \"created_time\": \"2021-01-30T20:18:19.536053Z\", \"created_time_dt\": \"2021-01-30T20:18:19.536053Z\", \"duration\": \"0:00:57\", \"iteration\": \"41\", \"goal\": \"accuracy_max\", \"run_name\": \"MaxAbsScaler, RandomForest\", \"run_properties\": \"copy=True\", \"primary_metric\": 0.82609428, \"best_metric\": 0.84612795}, {\"run_id\": \"AutoML_eb7abf71-5769-4cd0-840c-b1a76a5bcdfa_40\", \"run_number\": 47, \"metric\": null, \"status\": \"Completed\", \"run_type\": \"azureml.scriptrun\", \"training_percent\": \"100\", \"start_time\": \"2021-01-30T20:18:32.178847Z\", \"end_time\": \"2021-01-30T20:19:21.91172Z\", \"created_time\": \"2021-01-30T20:18:19.545549Z\", \"created_time_dt\": \"2021-01-30T20:18:19.545549Z\", \"duration\": \"0:01:02\", \"iteration\": \"40\", \"goal\": \"accuracy_max\", \"run_name\": \"StandardScalerWrapper, ExtremeRandomTrees\", \"run_properties\": \"<azureml.automl.runtime.shared.model_wrappers.StandardScalerWrapper object at 0x7f140ed7b160\", \"primary_metric\": 0.83279461, \"best_metric\": 0.84612795}, {\"run_id\": \"AutoML_eb7abf71-5769-4cd0-840c-b1a76a5bcdfa_42\", \"run_number\": 48, \"metric\": null, \"status\": \"Completed\", \"run_type\": \"azureml.scriptrun\", \"training_percent\": \"100\", \"start_time\": \"2021-01-30T20:18:35.09305Z\", \"end_time\": \"2021-01-30T20:19:28.422492Z\", \"created_time\": \"2021-01-30T20:18:24.164141Z\", \"created_time_dt\": \"2021-01-30T20:18:24.164141Z\", \"duration\": \"0:01:04\", \"iteration\": \"42\", \"goal\": \"accuracy_max\", \"run_name\": \"StandardScalerWrapper, XGBoostClassifier\", \"run_properties\": \"<azureml.automl.runtime.shared.model_wrappers.StandardScalerWrapper object at 0x7fed5519def0\", \"primary_metric\": 0.82262626, \"best_metric\": 0.84612795}, {\"run_id\": \"AutoML_eb7abf71-5769-4cd0-840c-b1a76a5bcdfa_43\", \"run_number\": 49, \"metric\": null, \"status\": \"Completed\", \"run_type\": \"azureml.scriptrun\", \"training_percent\": \"100\", \"start_time\": \"2021-01-30T20:18:39.179066Z\", \"end_time\": \"2021-01-30T20:19:29.587441Z\", \"created_time\": \"2021-01-30T20:18:28.873067Z\", \"created_time_dt\": \"2021-01-30T20:18:28.873067Z\", \"duration\": \"0:01:00\", \"iteration\": \"43\", \"goal\": \"accuracy_max\", \"run_name\": \"StandardScalerWrapper, XGBoostClassifier\", \"run_properties\": \"<azureml.automl.runtime.shared.model_wrappers.StandardScalerWrapper object at 0x7f453260e9b0\", \"primary_metric\": 0.83939394, \"best_metric\": 0.84612795}, {\"run_id\": \"AutoML_eb7abf71-5769-4cd0-840c-b1a76a5bcdfa_44\", \"run_number\": 50, \"metric\": null, \"status\": \"Canceled\", \"run_type\": \"azureml.scriptrun\", \"training_percent\": \"100\", \"start_time\": \"2021-01-30T20:19:24.063982Z\", \"end_time\": \"2021-01-30T20:19:36.02257Z\", \"created_time\": \"2021-01-30T20:19:08.287294Z\", \"created_time_dt\": \"2021-01-30T20:19:08.287294Z\", \"duration\": \"0:00:27\", \"iteration\": \"44\", \"goal\": null, \"run_name\": \"Canceled\", \"run_properties\": null}, {\"run_id\": \"AutoML_eb7abf71-5769-4cd0-840c-b1a76a5bcdfa_45\", \"run_number\": 51, \"metric\": null, \"status\": \"Canceled\", \"run_type\": \"azureml.scriptrun\", \"training_percent\": \"100\", \"start_time\": \"2021-01-30T20:19:20.596803Z\", \"end_time\": \"2021-01-30T20:19:37.236975Z\", \"created_time\": \"2021-01-30T20:19:20.596803Z\", \"created_time_dt\": \"2021-01-30T20:19:20.596803Z\", \"duration\": \"0:00:16\", \"iteration\": \"45\", \"goal\": null, \"run_name\": \"Canceled\", \"run_properties\": null}, {\"run_id\": \"AutoML_eb7abf71-5769-4cd0-840c-b1a76a5bcdfa_46\", \"run_number\": 52, \"metric\": null, \"status\": \"Canceled\", \"run_type\": \"azureml.scriptrun\", \"training_percent\": \"100\", \"start_time\": \"2021-01-30T20:19:25.28916Z\", \"end_time\": \"2021-01-30T20:19:40.660317Z\", \"created_time\": \"2021-01-30T20:19:25.28916Z\", \"created_time_dt\": \"2021-01-30T20:19:25.28916Z\", \"duration\": \"0:00:15\", \"iteration\": \"46\", \"goal\": null, \"run_name\": \"Canceled\", \"run_properties\": null}, {\"run_id\": \"AutoML_eb7abf71-5769-4cd0-840c-b1a76a5bcdfa_47\", \"run_number\": 53, \"metric\": null, \"status\": \"Completed\", \"run_type\": \"azureml.scriptrun\", \"training_percent\": \"100\", \"start_time\": \"2021-01-30T20:19:54.431271Z\", \"end_time\": \"2021-01-30T20:21:25.729215Z\", \"created_time\": \"2021-01-30T20:19:42.087186Z\", \"created_time_dt\": \"2021-01-30T20:19:42.087186Z\", \"duration\": \"0:01:43\", \"iteration\": \"47\", \"goal\": \"accuracy_max\", \"run_name\": \"VotingEnsemble\", \"run_properties\": \"classification_labels=None,\\n                              estimators=[('28',\\n                                           Pipeline(memory=None,\\n                                                    steps=[('maxabsscaler',\\n                                                            MaxAbsScaler(copy=True\", \"primary_metric\": 0.85956229, \"best_metric\": 0.85956229}, {\"run_id\": \"AutoML_eb7abf71-5769-4cd0-840c-b1a76a5bcdfa_48\", \"run_number\": 54, \"metric\": null, \"status\": \"Completed\", \"run_type\": \"azureml.scriptrun\", \"training_percent\": \"100\", \"start_time\": \"2021-01-30T20:19:54.416596Z\", \"end_time\": \"2021-01-30T20:21:26.584627Z\", \"created_time\": \"2021-01-30T20:19:42.263181Z\", \"created_time_dt\": \"2021-01-30T20:19:42.263181Z\", \"duration\": \"0:01:44\", \"iteration\": \"48\", \"goal\": \"accuracy_max\", \"run_name\": \"StackEnsemble\", \"run_properties\": \"base_learners=[('28',\\n                                        Pipeline(memory=None,\\n                                                 steps=[('maxabsscaler',\\n                                                         MaxAbsScaler(copy=True\", \"primary_metric\": 0.8426936, \"best_metric\": 0.85956229}], \"children_metrics\": {\"categories\": [0], \"series\": {\"matthews_correlation\": [{\"categories\": [\"0\", \"1\", \"2\", \"3\", \"4\", \"5\", \"6\", \"7\", \"8\", \"9\", \"10\", \"11\", \"12\", \"13\", \"14\", \"15\", \"16\", \"17\", \"18\", \"19\", \"20\", \"21\", \"22\", \"23\", \"24\", \"25\", \"26\", \"27\", \"28\", \"29\", \"30\", \"31\", \"32\", \"33\", \"34\", \"35\", \"36\", \"37\", \"38\", \"39\", \"40\", \"41\", \"42\", \"43\", \"47\", \"48\"], \"mode\": \"markers\", \"name\": \"matthews_correlation\", \"stepped\": false, \"type\": \"scatter\", \"data\": [0.5489062305154261, 0.5873460381369527, 0.6264675791715243, 0.6192769892561851, 0.6106187641478626, 0.6091629608900386, 0.6186028798588223, 0.26064641623640333, 0.5915063435400586, 0.5282270925851938, 0.6403562905512757, 0.510771102353985, 0.6085299198178288, 0.28856348514123437, 0.6329095628949423, 0.6275568185786119, 0.5499245674188529, 0.5764988320096571, 0.5720960512688016, 0.5950851017574824, 0.399226697287366, 0.5653965606437339, 0.5372672339315171, 0.5478085698344569, 0.6252908242330874, 0.0, 0.33395805776391674, 0.5646796643390257, 0.640637942381132, 0.4925668738146059, 0.6251096241763566, 0.6400672770157504, 0.5965685709206162, 0.5037371554540082, 0.5857925714123194, 0.10356162766686668, 0.6227883958603684, 0.6290214145660742, 0.6005280962129412, 0.47836661812738085, 0.6060884183675993, 0.5967777804362328, 0.5753264982271749, 0.626533973003407, 0.674933832039598, 0.6422288691114665]}, {\"categories\": [\"0\", \"1\", \"2\", \"3\", \"4\", \"5\", \"6\", \"7\", \"8\", \"9\", \"10\", \"11\", \"12\", \"13\", \"14\", \"15\", \"16\", \"17\", \"18\", \"19\", \"20\", \"21\", \"22\", \"23\", \"24\", \"25\", \"26\", \"27\", \"28\", \"29\", \"30\", \"31\", \"32\", \"33\", \"34\", \"35\", \"36\", \"37\", \"38\", \"39\", \"40\", \"41\", \"42\", \"43\", \"47\", \"48\"], \"mode\": \"lines\", \"name\": \"matthews_correlation_max\", \"stepped\": true, \"type\": \"scatter\", \"data\": [0.5489062305154261, 0.5873460381369527, 0.6264675791715243, 0.6264675791715243, 0.6264675791715243, 0.6264675791715243, 0.6264675791715243, 0.6264675791715243, 0.6264675791715243, 0.6264675791715243, 0.6403562905512757, 0.6403562905512757, 0.6403562905512757, 0.6403562905512757, 0.6403562905512757, 0.6403562905512757, 0.6403562905512757, 0.6403562905512757, 0.6403562905512757, 0.6403562905512757, 0.6403562905512757, 0.6403562905512757, 0.6403562905512757, 0.6403562905512757, 0.6403562905512757, 0.6403562905512757, 0.6403562905512757, 0.6403562905512757, 0.640637942381132, 0.640637942381132, 0.640637942381132, 0.640637942381132, 0.640637942381132, 0.640637942381132, 0.640637942381132, 0.640637942381132, 0.640637942381132, 0.640637942381132, 0.640637942381132, 0.640637942381132, 0.640637942381132, 0.640637942381132, 0.640637942381132, 0.640637942381132, 0.674933832039598, 0.674933832039598]}], \"f1_score_weighted\": [{\"categories\": [\"0\", \"1\", \"2\", \"3\", \"4\", \"5\", \"6\", \"7\", \"8\", \"9\", \"10\", \"11\", \"12\", \"13\", \"14\", \"15\", \"16\", \"17\", \"18\", \"19\", \"20\", \"21\", \"22\", \"23\", \"24\", \"25\", \"26\", \"27\", \"28\", \"29\", \"30\", \"31\", \"32\", \"33\", \"34\", \"35\", \"36\", \"37\", \"38\", \"39\", \"40\", \"41\", \"42\", \"43\", \"47\", \"48\"], \"mode\": \"markers\", \"name\": \"f1_score_weighted\", \"stepped\": false, \"type\": \"scatter\", \"data\": [0.7994850745596541, 0.8173118768300475, 0.8343899728359817, 0.8296776025534416, 0.82433452248937, 0.8252446291266087, 0.8274349343779969, 0.6757616356075262, 0.8201413885439779, 0.7882247151382185, 0.8402690953881015, 0.7833433759865341, 0.8222844757172995, 0.6569687034947951, 0.8352573770127997, 0.8318626962912697, 0.7935497752348963, 0.8093163189278414, 0.8093819979536209, 0.8183880210159638, 0.7258469815048763, 0.8032179263903402, 0.7907803691517857, 0.7988411544551471, 0.8337018531896877, 0.5497345001811592, 0.6915158171793806, 0.8082410487902267, 0.8370027507162976, 0.7724084350669554, 0.8329520822324321, 0.8378513218680167, 0.8198733429672599, 0.7749577032296774, 0.813834678893595, 0.6060754391457758, 0.8238963928585852, 0.8328687746479352, 0.8241448914253456, 0.7442849687296428, 0.8211482880309111, 0.8191673992986002, 0.8117389357151014, 0.8334157364165541, 0.8533807931287133, 0.8382763771914474]}, {\"categories\": [\"0\", \"1\", \"2\", \"3\", \"4\", \"5\", \"6\", \"7\", \"8\", \"9\", \"10\", \"11\", \"12\", \"13\", \"14\", \"15\", \"16\", \"17\", \"18\", \"19\", \"20\", \"21\", \"22\", \"23\", \"24\", \"25\", \"26\", \"27\", \"28\", \"29\", \"30\", \"31\", \"32\", \"33\", \"34\", \"35\", \"36\", \"37\", \"38\", \"39\", \"40\", \"41\", \"42\", \"43\", \"47\", \"48\"], \"mode\": \"lines\", \"name\": \"f1_score_weighted_max\", \"stepped\": true, \"type\": \"scatter\", \"data\": [0.7994850745596541, 0.8173118768300475, 0.8343899728359817, 0.8343899728359817, 0.8343899728359817, 0.8343899728359817, 0.8343899728359817, 0.8343899728359817, 0.8343899728359817, 0.8343899728359817, 0.8402690953881015, 0.8402690953881015, 0.8402690953881015, 0.8402690953881015, 0.8402690953881015, 0.8402690953881015, 0.8402690953881015, 0.8402690953881015, 0.8402690953881015, 0.8402690953881015, 0.8402690953881015, 0.8402690953881015, 0.8402690953881015, 0.8402690953881015, 0.8402690953881015, 0.8402690953881015, 0.8402690953881015, 0.8402690953881015, 0.8402690953881015, 0.8402690953881015, 0.8402690953881015, 0.8402690953881015, 0.8402690953881015, 0.8402690953881015, 0.8402690953881015, 0.8402690953881015, 0.8402690953881015, 0.8402690953881015, 0.8402690953881015, 0.8402690953881015, 0.8402690953881015, 0.8402690953881015, 0.8402690953881015, 0.8402690953881015, 0.8533807931287133, 0.8533807931287133]}], \"f1_score_macro\": [{\"categories\": [\"0\", \"1\", \"2\", \"3\", \"4\", \"5\", \"6\", \"7\", \"8\", \"9\", \"10\", \"11\", \"12\", \"13\", \"14\", \"15\", \"16\", \"17\", \"18\", \"19\", \"20\", \"21\", \"22\", \"23\", \"24\", \"25\", \"26\", \"27\", \"28\", \"29\", \"30\", \"31\", \"32\", \"33\", \"34\", \"35\", \"36\", \"37\", \"38\", \"39\", \"40\", \"41\", \"42\", \"43\", \"47\", \"48\"], \"mode\": \"markers\", \"name\": \"f1_score_macro\", \"stepped\": false, \"type\": \"scatter\", \"data\": [0.7670520318568558, 0.7892216866138503, 0.8084975408067342, 0.799994542614963, 0.797879679829991, 0.7977151890136399, 0.7998710627282167, 0.5977509655387443, 0.7896845953038606, 0.7498450514293221, 0.8148905491062509, 0.7427542433450901, 0.7890299237601496, 0.5632194351280981, 0.8058553578318194, 0.8054468166881784, 0.7525641260724752, 0.7789891175135816, 0.7794608411503338, 0.7891945605520322, 0.6667884281042177, 0.7682489923869232, 0.755693269321147, 0.7666809248584171, 0.8072278016348218, 0.40415631893298937, 0.620649082220851, 0.773108357485987, 0.8069565204289119, 0.7308690962826935, 0.8040538783517767, 0.8117379635228227, 0.7851945721610435, 0.7467418202210343, 0.78851699055941, 0.489983069129927, 0.8026948144803526, 0.8069801450122359, 0.794177639906812, 0.6856550855868049, 0.7857445682458669, 0.7882172529060792, 0.7730389854880805, 0.8050950552455253, 0.8289316394121506, 0.8127801045511575]}, {\"categories\": [\"0\", \"1\", \"2\", \"3\", \"4\", \"5\", \"6\", \"7\", \"8\", \"9\", \"10\", \"11\", \"12\", \"13\", \"14\", \"15\", \"16\", \"17\", \"18\", \"19\", \"20\", \"21\", \"22\", \"23\", \"24\", \"25\", \"26\", \"27\", \"28\", \"29\", \"30\", \"31\", \"32\", \"33\", \"34\", \"35\", \"36\", \"37\", \"38\", \"39\", \"40\", \"41\", \"42\", \"43\", \"47\", \"48\"], \"mode\": \"lines\", \"name\": \"f1_score_macro_max\", \"stepped\": true, \"type\": \"scatter\", \"data\": [0.7670520318568558, 0.7892216866138503, 0.8084975408067342, 0.8084975408067342, 0.8084975408067342, 0.8084975408067342, 0.8084975408067342, 0.8084975408067342, 0.8084975408067342, 0.8084975408067342, 0.8148905491062509, 0.8148905491062509, 0.8148905491062509, 0.8148905491062509, 0.8148905491062509, 0.8148905491062509, 0.8148905491062509, 0.8148905491062509, 0.8148905491062509, 0.8148905491062509, 0.8148905491062509, 0.8148905491062509, 0.8148905491062509, 0.8148905491062509, 0.8148905491062509, 0.8148905491062509, 0.8148905491062509, 0.8148905491062509, 0.8148905491062509, 0.8148905491062509, 0.8148905491062509, 0.8148905491062509, 0.8148905491062509, 0.8148905491062509, 0.8148905491062509, 0.8148905491062509, 0.8148905491062509, 0.8148905491062509, 0.8148905491062509, 0.8148905491062509, 0.8148905491062509, 0.8148905491062509, 0.8148905491062509, 0.8148905491062509, 0.8289316394121506, 0.8289316394121506]}], \"AUC_weighted\": [{\"categories\": [\"0\", \"1\", \"2\", \"3\", \"4\", \"5\", \"6\", \"7\", \"8\", \"9\", \"10\", \"11\", \"12\", \"13\", \"14\", \"15\", \"16\", \"17\", \"18\", \"19\", \"20\", \"21\", \"22\", \"23\", \"24\", \"25\", \"26\", \"27\", \"28\", \"29\", \"30\", \"31\", \"32\", \"33\", \"34\", \"35\", \"36\", \"37\", \"38\", \"39\", \"40\", \"41\", \"42\", \"43\", \"47\", \"48\"], \"mode\": \"markers\", \"name\": \"AUC_weighted\", \"stepped\": false, \"type\": \"scatter\", \"data\": [0.8550287233045855, 0.875938401455643, 0.8899017736948771, 0.8966862428931394, 0.8934882172813207, 0.8708777250156561, 0.8849293875155945, 0.7414457314457316, 0.856066411238825, 0.8650320764113868, 0.897568405844268, 0.8778883316814352, 0.8728109883282297, 0.8567626740040533, 0.8948138286069321, 0.8931451155589087, 0.880745129365819, 0.8714469148951908, 0.86317134868859, 0.8867912247222591, 0.8416815830608934, 0.8816623520071797, 0.8654566389049148, 0.8465354023974713, 0.8969353096939304, 0.8450990399266262, 0.8196489099937376, 0.8649147669837326, 0.8839264387540249, 0.8530941286113699, 0.8775494213425249, 0.8983191072846246, 0.8810950852330164, 0.8391854909096287, 0.8723483582104272, 0.5793650793650793, 0.9020690148276355, 0.9030692761727246, 0.8723482595896389, 0.8873325049187119, 0.8641667776150536, 0.8981231970887142, 0.8833456116214737, 0.8655623357347494, 0.9029275580999719, 0.9007203755479618]}, {\"categories\": [\"0\", \"1\", \"2\", \"3\", \"4\", \"5\", \"6\", \"7\", \"8\", \"9\", \"10\", \"11\", \"12\", \"13\", \"14\", \"15\", \"16\", \"17\", \"18\", \"19\", \"20\", \"21\", \"22\", \"23\", \"24\", \"25\", \"26\", \"27\", \"28\", \"29\", \"30\", \"31\", \"32\", \"33\", \"34\", \"35\", \"36\", \"37\", \"38\", \"39\", \"40\", \"41\", \"42\", \"43\", \"47\", \"48\"], \"mode\": \"lines\", \"name\": \"AUC_weighted_max\", \"stepped\": true, \"type\": \"scatter\", \"data\": [0.8550287233045855, 0.875938401455643, 0.8899017736948771, 0.8966862428931394, 0.8966862428931394, 0.8966862428931394, 0.8966862428931394, 0.8966862428931394, 0.8966862428931394, 0.8966862428931394, 0.897568405844268, 0.897568405844268, 0.897568405844268, 0.897568405844268, 0.897568405844268, 0.897568405844268, 0.897568405844268, 0.897568405844268, 0.897568405844268, 0.897568405844268, 0.897568405844268, 0.897568405844268, 0.897568405844268, 0.897568405844268, 0.897568405844268, 0.897568405844268, 0.897568405844268, 0.897568405844268, 0.897568405844268, 0.897568405844268, 0.897568405844268, 0.8983191072846246, 0.8983191072846246, 0.8983191072846246, 0.8983191072846246, 0.8983191072846246, 0.9020690148276355, 0.9030692761727246, 0.9030692761727246, 0.9030692761727246, 0.9030692761727246, 0.9030692761727246, 0.9030692761727246, 0.9030692761727246, 0.9030692761727246, 0.9030692761727246]}], \"log_loss\": [{\"categories\": [\"0\", \"1\", \"2\", \"3\", \"4\", \"5\", \"6\", \"7\", \"8\", \"9\", \"10\", \"11\", \"12\", \"13\", \"14\", \"15\", \"16\", \"17\", \"18\", \"19\", \"20\", \"21\", \"22\", \"23\", \"24\", \"25\", \"26\", \"27\", \"28\", \"29\", \"30\", \"31\", \"32\", \"33\", \"34\", \"35\", \"36\", \"37\", \"38\", \"39\", \"40\", \"41\", \"42\", \"43\", \"47\", \"48\"], \"mode\": \"markers\", \"name\": \"log_loss\", \"stepped\": false, \"type\": \"scatter\", \"data\": [0.5791360620615199, 0.4649911805096085, 0.40613695090032187, 0.40412925558438584, 0.5072748118198248, 0.44387818160578313, 0.44592952077651193, 0.5667560331359756, 0.44100299308107455, 0.4659517661651484, 0.40882556517075797, 0.42379907645714526, 0.45362188535001574, 0.515789549740842, 0.42241752136771993, 0.39424882799423006, 0.4484870405766992, 0.4462817721152393, 0.43512626523106174, 0.4080227149024489, 0.49091265074407947, 0.49712904326000174, 0.5907572880858093, 0.4806597457338719, 0.46069774915477923, 0.6256509137650695, 0.5614491363506003, 0.4402711225244973, 0.4383904765069773, 0.45638348656212385, 0.42206429071160195, 0.4292571732470262, 0.4435998204177965, 0.4724524180356857, 0.4877649991418019, 0.6915685214542909, 0.4578622686537073, 0.38560838807506564, 0.4296126864633482, 0.48534273656903687, 0.47910350103764787, 0.431326434527816, 0.5095885793943739, 0.47760233482589104, 0.41486061131261204, 0.42545537064342737]}, {\"categories\": [\"0\", \"1\", \"2\", \"3\", \"4\", \"5\", \"6\", \"7\", \"8\", \"9\", \"10\", \"11\", \"12\", \"13\", \"14\", \"15\", \"16\", \"17\", \"18\", \"19\", \"20\", \"21\", \"22\", \"23\", \"24\", \"25\", \"26\", \"27\", \"28\", \"29\", \"30\", \"31\", \"32\", \"33\", \"34\", \"35\", \"36\", \"37\", \"38\", \"39\", \"40\", \"41\", \"42\", \"43\", \"47\", \"48\"], \"mode\": \"lines\", \"name\": \"log_loss_min\", \"stepped\": true, \"type\": \"scatter\", \"data\": [0.5791360620615199, 0.4649911805096085, 0.40613695090032187, 0.40412925558438584, 0.40412925558438584, 0.40412925558438584, 0.40412925558438584, 0.40412925558438584, 0.40412925558438584, 0.40412925558438584, 0.40412925558438584, 0.40412925558438584, 0.40412925558438584, 0.40412925558438584, 0.40412925558438584, 0.39424882799423006, 0.39424882799423006, 0.39424882799423006, 0.39424882799423006, 0.39424882799423006, 0.39424882799423006, 0.39424882799423006, 0.39424882799423006, 0.39424882799423006, 0.39424882799423006, 0.39424882799423006, 0.39424882799423006, 0.39424882799423006, 0.39424882799423006, 0.39424882799423006, 0.39424882799423006, 0.39424882799423006, 0.39424882799423006, 0.39424882799423006, 0.39424882799423006, 0.39424882799423006, 0.39424882799423006, 0.38560838807506564, 0.38560838807506564, 0.38560838807506564, 0.38560838807506564, 0.38560838807506564, 0.38560838807506564, 0.38560838807506564, 0.38560838807506564, 0.38560838807506564]}], \"norm_macro_recall\": [{\"categories\": [\"0\", \"1\", \"2\", \"3\", \"4\", \"5\", \"6\", \"7\", \"8\", \"9\", \"10\", \"11\", \"12\", \"13\", \"14\", \"15\", \"16\", \"17\", \"18\", \"19\", \"20\", \"21\", \"22\", \"23\", \"24\", \"25\", \"26\", \"27\", \"28\", \"29\", \"30\", \"31\", \"32\", \"33\", \"34\", \"35\", \"36\", \"37\", \"38\", \"39\", \"40\", \"41\", \"42\", \"43\", \"47\", \"48\"], \"mode\": \"markers\", \"name\": \"norm_macro_recall\", \"stepped\": false, \"type\": \"scatter\", \"data\": [0.5331084779360642, 0.5799208075070145, 0.6191028466890537, 0.5833587281863143, 0.6039675143123419, 0.5929737619392791, 0.5940176629831803, 0.1968732279077107, 0.5615196477265444, 0.48209736830426486, 0.6252917942573114, 0.47122985054019534, 0.5450889312958279, 0.16721253272977407, 0.5804213080075148, 0.6093758783413955, 0.4849292642396091, 0.5550728067969447, 0.5542177645625922, 0.5772467048329117, 0.3227301192818434, 0.5186196048265014, 0.5078773354635424, 0.5287154149223114, 0.6094187783842956, 0.0, 0.2525397318500766, 0.5221290255773013, 0.5806989255265118, 0.4476772338841304, 0.5879746741815707, 0.6125504815159987, 0.5353565388048146, 0.517195027539855, 0.5976469079917356, 0.10725010725010724, 0.6471762402796885, 0.6136229825884999, 0.5710577572646539, 0.35362653293687774, 0.5295221329704088, 0.5590970280625452, 0.5104118897222345, 0.594323880530777, 0.6363600053255226, 0.6188996878652051]}, {\"categories\": [\"0\", \"1\", \"2\", \"3\", \"4\", \"5\", \"6\", \"7\", \"8\", \"9\", \"10\", \"11\", \"12\", \"13\", \"14\", \"15\", \"16\", \"17\", \"18\", \"19\", \"20\", \"21\", \"22\", \"23\", \"24\", \"25\", \"26\", \"27\", \"28\", \"29\", \"30\", \"31\", \"32\", \"33\", \"34\", \"35\", \"36\", \"37\", \"38\", \"39\", \"40\", \"41\", \"42\", \"43\", \"47\", \"48\"], \"mode\": \"lines\", \"name\": \"norm_macro_recall_max\", \"stepped\": true, \"type\": \"scatter\", \"data\": [0.5331084779360642, 0.5799208075070145, 0.6191028466890537, 0.6191028466890537, 0.6191028466890537, 0.6191028466890537, 0.6191028466890537, 0.6191028466890537, 0.6191028466890537, 0.6191028466890537, 0.6252917942573114, 0.6252917942573114, 0.6252917942573114, 0.6252917942573114, 0.6252917942573114, 0.6252917942573114, 0.6252917942573114, 0.6252917942573114, 0.6252917942573114, 0.6252917942573114, 0.6252917942573114, 0.6252917942573114, 0.6252917942573114, 0.6252917942573114, 0.6252917942573114, 0.6252917942573114, 0.6252917942573114, 0.6252917942573114, 0.6252917942573114, 0.6252917942573114, 0.6252917942573114, 0.6252917942573114, 0.6252917942573114, 0.6252917942573114, 0.6252917942573114, 0.6252917942573114, 0.6471762402796885, 0.6471762402796885, 0.6471762402796885, 0.6471762402796885, 0.6471762402796885, 0.6471762402796885, 0.6471762402796885, 0.6471762402796885, 0.6471762402796885, 0.6471762402796885]}], \"recall_score_macro\": [{\"categories\": [\"0\", \"1\", \"2\", \"3\", \"4\", \"5\", \"6\", \"7\", \"8\", \"9\", \"10\", \"11\", \"12\", \"13\", \"14\", \"15\", \"16\", \"17\", \"18\", \"19\", \"20\", \"21\", \"22\", \"23\", \"24\", \"25\", \"26\", \"27\", \"28\", \"29\", \"30\", \"31\", \"32\", \"33\", \"34\", \"35\", \"36\", \"37\", \"38\", \"39\", \"40\", \"41\", \"42\", \"43\", \"47\", \"48\"], \"mode\": \"markers\", \"name\": \"recall_score_macro\", \"stepped\": false, \"type\": \"scatter\", \"data\": [0.7665542389680322, 0.7899604037535072, 0.8095514233445268, 0.7916793640931571, 0.8019837571561709, 0.7964868809696396, 0.7970088314915902, 0.5984366139538554, 0.7807598238632721, 0.7410486841521324, 0.8126458971286556, 0.7356149252700978, 0.7725444656479139, 0.583606266364887, 0.7902106540037573, 0.8046879391706977, 0.7424646321198045, 0.7775364033984724, 0.7771088822812962, 0.7886233524164559, 0.6613650596409216, 0.7593098024132506, 0.7539386677317713, 0.7643577074611558, 0.8047093891921477, 0.5, 0.6262698659250383, 0.7610645127886507, 0.7903494627632558, 0.7238386169420652, 0.7939873370907854, 0.8062752407579993, 0.7676782694024075, 0.7585975137699276, 0.7988234539958677, 0.5536250536250537, 0.8235881201398443, 0.8068114912942499, 0.785528878632327, 0.6768132664684389, 0.7647610664852044, 0.7795485140312727, 0.7552059448611171, 0.7971619402653886, 0.8181800026627611, 0.8094498439326024]}, {\"categories\": [\"0\", \"1\", \"2\", \"3\", \"4\", \"5\", \"6\", \"7\", \"8\", \"9\", \"10\", \"11\", \"12\", \"13\", \"14\", \"15\", \"16\", \"17\", \"18\", \"19\", \"20\", \"21\", \"22\", \"23\", \"24\", \"25\", \"26\", \"27\", \"28\", \"29\", \"30\", \"31\", \"32\", \"33\", \"34\", \"35\", \"36\", \"37\", \"38\", \"39\", \"40\", \"41\", \"42\", \"43\", \"47\", \"48\"], \"mode\": \"lines\", \"name\": \"recall_score_macro_max\", \"stepped\": true, \"type\": \"scatter\", \"data\": [0.7665542389680322, 0.7899604037535072, 0.8095514233445268, 0.8095514233445268, 0.8095514233445268, 0.8095514233445268, 0.8095514233445268, 0.8095514233445268, 0.8095514233445268, 0.8095514233445268, 0.8126458971286556, 0.8126458971286556, 0.8126458971286556, 0.8126458971286556, 0.8126458971286556, 0.8126458971286556, 0.8126458971286556, 0.8126458971286556, 0.8126458971286556, 0.8126458971286556, 0.8126458971286556, 0.8126458971286556, 0.8126458971286556, 0.8126458971286556, 0.8126458971286556, 0.8126458971286556, 0.8126458971286556, 0.8126458971286556, 0.8126458971286556, 0.8126458971286556, 0.8126458971286556, 0.8126458971286556, 0.8126458971286556, 0.8126458971286556, 0.8126458971286556, 0.8126458971286556, 0.8235881201398443, 0.8235881201398443, 0.8235881201398443, 0.8235881201398443, 0.8235881201398443, 0.8235881201398443, 0.8235881201398443, 0.8235881201398443, 0.8235881201398443, 0.8235881201398443]}], \"average_precision_score_weighted\": [{\"categories\": [\"0\", \"1\", \"2\", \"3\", \"4\", \"5\", \"6\", \"7\", \"8\", \"9\", \"10\", \"11\", \"12\", \"13\", \"14\", \"15\", \"16\", \"17\", \"18\", \"19\", \"20\", \"21\", \"22\", \"23\", \"24\", \"25\", \"26\", \"27\", \"28\", \"29\", \"30\", \"31\", \"32\", \"33\", \"34\", \"35\", \"36\", \"37\", \"38\", \"39\", \"40\", \"41\", \"42\", \"43\", \"47\", \"48\"], \"mode\": \"markers\", \"name\": \"average_precision_score_weighted\", \"stepped\": false, \"type\": \"scatter\", \"data\": [0.8648843990393956, 0.8836277505100775, 0.8948027908943463, 0.9073115813684941, 0.8947349871273637, 0.8785465199765992, 0.8892301435983591, 0.769497415557975, 0.8725645012881823, 0.8730897341859674, 0.8978386107633672, 0.8840214656492346, 0.8872695907098472, 0.8682928548350434, 0.8995896139542859, 0.9010052170467913, 0.888992050370565, 0.8799413649382316, 0.8751062262964643, 0.891792618549358, 0.8641453601037945, 0.8863439156336567, 0.8786877031760635, 0.8647689798850555, 0.8988308536231561, 0.862252631436439, 0.8325711522010214, 0.8788131419975067, 0.896619321972325, 0.8586019351230716, 0.8889378974969899, 0.91091613388223, 0.8934687593119897, 0.8480996637652196, 0.884228829281215, 0.6297095725769251, 0.9041615304564369, 0.9062794693520139, 0.8814167072739009, 0.8965008212368701, 0.882439186742094, 0.9054576814472667, 0.8885597823665815, 0.8593495986029521, 0.9098057644489091, 0.9081854921264769]}, {\"categories\": [\"0\", \"1\", \"2\", \"3\", \"4\", \"5\", \"6\", \"7\", \"8\", \"9\", \"10\", \"11\", \"12\", \"13\", \"14\", \"15\", \"16\", \"17\", \"18\", \"19\", \"20\", \"21\", \"22\", \"23\", \"24\", \"25\", \"26\", \"27\", \"28\", \"29\", \"30\", \"31\", \"32\", \"33\", \"34\", \"35\", \"36\", \"37\", \"38\", \"39\", \"40\", \"41\", \"42\", \"43\", \"47\", \"48\"], \"mode\": \"lines\", \"name\": \"average_precision_score_weighted_max\", \"stepped\": true, \"type\": \"scatter\", \"data\": [0.8648843990393956, 0.8836277505100775, 0.8948027908943463, 0.9073115813684941, 0.9073115813684941, 0.9073115813684941, 0.9073115813684941, 0.9073115813684941, 0.9073115813684941, 0.9073115813684941, 0.9073115813684941, 0.9073115813684941, 0.9073115813684941, 0.9073115813684941, 0.9073115813684941, 0.9073115813684941, 0.9073115813684941, 0.9073115813684941, 0.9073115813684941, 0.9073115813684941, 0.9073115813684941, 0.9073115813684941, 0.9073115813684941, 0.9073115813684941, 0.9073115813684941, 0.9073115813684941, 0.9073115813684941, 0.9073115813684941, 0.9073115813684941, 0.9073115813684941, 0.9073115813684941, 0.91091613388223, 0.91091613388223, 0.91091613388223, 0.91091613388223, 0.91091613388223, 0.91091613388223, 0.91091613388223, 0.91091613388223, 0.91091613388223, 0.91091613388223, 0.91091613388223, 0.91091613388223, 0.91091613388223, 0.91091613388223, 0.91091613388223]}], \"recall_score_micro\": [{\"categories\": [\"0\", \"1\", \"2\", \"3\", \"4\", \"5\", \"6\", \"7\", \"8\", \"9\", \"10\", \"11\", \"12\", \"13\", \"14\", \"15\", \"16\", \"17\", \"18\", \"19\", \"20\", \"21\", \"22\", \"23\", \"24\", \"25\", \"26\", \"27\", \"28\", \"29\", \"30\", \"31\", \"32\", \"33\", \"34\", \"35\", \"36\", \"37\", \"38\", \"39\", \"40\", \"41\", \"42\", \"43\", \"47\", \"48\"], \"mode\": \"markers\", \"name\": \"recall_score_micro\", \"stepped\": false, \"type\": \"scatter\", \"data\": [0.8025252525252524, 0.8192929292929293, 0.8360942760942761, 0.835993265993266, 0.8260606060606062, 0.8293939393939395, 0.8326936026936026, 0.7123569023569023, 0.8260942760942761, 0.7993602693602693, 0.8427272727272728, 0.7925589225589226, 0.8328282828282828, 0.7223905723905725, 0.8428282828282829, 0.836026936026936, 0.8092929292929293, 0.816127946127946, 0.8126599326599327, 0.8226936026936027, 0.7525252525252526, 0.8126599326599327, 0.7993265993265993, 0.8025252525252524, 0.836026936026936, 0.6790235690235691, 0.7326262626262627, 0.8159932659932659, 0.8461279461279462, 0.786026936026936, 0.8394276094276094, 0.8427272727272728, 0.8293939393939395, 0.7724579124579125, 0.8126262626262625, 0.6856902356902358, 0.8191919191919191, 0.835993265993266, 0.8293939393939395, 0.7793939393939394, 0.8327946127946128, 0.8260942760942761, 0.8226262626262626, 0.8393939393939395, 0.8595622895622895, 0.8426936026936027]}, {\"categories\": [\"0\", \"1\", \"2\", \"3\", \"4\", \"5\", \"6\", \"7\", \"8\", \"9\", \"10\", \"11\", \"12\", \"13\", \"14\", \"15\", \"16\", \"17\", \"18\", \"19\", \"20\", \"21\", \"22\", \"23\", \"24\", \"25\", \"26\", \"27\", \"28\", \"29\", \"30\", \"31\", \"32\", \"33\", \"34\", \"35\", \"36\", \"37\", \"38\", \"39\", \"40\", \"41\", \"42\", \"43\", \"47\", \"48\"], \"mode\": \"lines\", \"name\": \"recall_score_micro_max\", \"stepped\": true, \"type\": \"scatter\", \"data\": [0.8025252525252524, 0.8192929292929293, 0.8360942760942761, 0.8360942760942761, 0.8360942760942761, 0.8360942760942761, 0.8360942760942761, 0.8360942760942761, 0.8360942760942761, 0.8360942760942761, 0.8427272727272728, 0.8427272727272728, 0.8427272727272728, 0.8427272727272728, 0.8428282828282829, 0.8428282828282829, 0.8428282828282829, 0.8428282828282829, 0.8428282828282829, 0.8428282828282829, 0.8428282828282829, 0.8428282828282829, 0.8428282828282829, 0.8428282828282829, 0.8428282828282829, 0.8428282828282829, 0.8428282828282829, 0.8428282828282829, 0.8461279461279462, 0.8461279461279462, 0.8461279461279462, 0.8461279461279462, 0.8461279461279462, 0.8461279461279462, 0.8461279461279462, 0.8461279461279462, 0.8461279461279462, 0.8461279461279462, 0.8461279461279462, 0.8461279461279462, 0.8461279461279462, 0.8461279461279462, 0.8461279461279462, 0.8461279461279462, 0.8595622895622895, 0.8595622895622895]}], \"accuracy\": [{\"categories\": [\"0\", \"1\", \"2\", \"3\", \"4\", \"5\", \"6\", \"7\", \"8\", \"9\", \"10\", \"11\", \"12\", \"13\", \"14\", \"15\", \"16\", \"17\", \"18\", \"19\", \"20\", \"21\", \"22\", \"23\", \"24\", \"25\", \"26\", \"27\", \"28\", \"29\", \"30\", \"31\", \"32\", \"33\", \"34\", \"35\", \"36\", \"37\", \"38\", \"39\", \"40\", \"41\", \"42\", \"43\", \"47\", \"48\"], \"mode\": \"markers\", \"name\": \"accuracy\", \"stepped\": false, \"type\": \"scatter\", \"data\": [0.8025252525252524, 0.8192929292929293, 0.8360942760942761, 0.835993265993266, 0.8260606060606062, 0.8293939393939395, 0.8326936026936026, 0.7123569023569023, 0.8260942760942761, 0.7993602693602693, 0.8427272727272728, 0.7925589225589226, 0.8328282828282828, 0.7223905723905725, 0.8428282828282829, 0.836026936026936, 0.8092929292929293, 0.816127946127946, 0.8126599326599327, 0.8226936026936027, 0.7525252525252526, 0.8126599326599327, 0.7993265993265993, 0.8025252525252524, 0.836026936026936, 0.6790235690235691, 0.7326262626262627, 0.8159932659932659, 0.8461279461279462, 0.786026936026936, 0.8394276094276094, 0.8427272727272728, 0.8293939393939395, 0.7724579124579125, 0.8126262626262625, 0.6856902356902358, 0.8191919191919191, 0.835993265993266, 0.8293939393939395, 0.7793939393939394, 0.8327946127946128, 0.8260942760942761, 0.8226262626262626, 0.8393939393939395, 0.8595622895622895, 0.8426936026936027]}, {\"categories\": [\"0\", \"1\", \"2\", \"3\", \"4\", \"5\", \"6\", \"7\", \"8\", \"9\", \"10\", \"11\", \"12\", \"13\", \"14\", \"15\", \"16\", \"17\", \"18\", \"19\", \"20\", \"21\", \"22\", \"23\", \"24\", \"25\", \"26\", \"27\", \"28\", \"29\", \"30\", \"31\", \"32\", \"33\", \"34\", \"35\", \"36\", \"37\", \"38\", \"39\", \"40\", \"41\", \"42\", \"43\", \"47\", \"48\"], \"mode\": \"lines\", \"name\": \"accuracy_max\", \"stepped\": true, \"type\": \"scatter\", \"data\": [0.8025252525252524, 0.8192929292929293, 0.8360942760942761, 0.8360942760942761, 0.8360942760942761, 0.8360942760942761, 0.8360942760942761, 0.8360942760942761, 0.8360942760942761, 0.8360942760942761, 0.8427272727272728, 0.8427272727272728, 0.8427272727272728, 0.8427272727272728, 0.8428282828282829, 0.8428282828282829, 0.8428282828282829, 0.8428282828282829, 0.8428282828282829, 0.8428282828282829, 0.8428282828282829, 0.8428282828282829, 0.8428282828282829, 0.8428282828282829, 0.8428282828282829, 0.8428282828282829, 0.8428282828282829, 0.8428282828282829, 0.8461279461279462, 0.8461279461279462, 0.8461279461279462, 0.8461279461279462, 0.8461279461279462, 0.8461279461279462, 0.8461279461279462, 0.8461279461279462, 0.8461279461279462, 0.8461279461279462, 0.8461279461279462, 0.8461279461279462, 0.8461279461279462, 0.8461279461279462, 0.8461279461279462, 0.8461279461279462, 0.8595622895622895, 0.8595622895622895]}], \"precision_score_macro\": [{\"categories\": [\"0\", \"1\", \"2\", \"3\", \"4\", \"5\", \"6\", \"7\", \"8\", \"9\", \"10\", \"11\", \"12\", \"13\", \"14\", \"15\", \"16\", \"17\", \"18\", \"19\", \"20\", \"21\", \"22\", \"23\", \"24\", \"25\", \"26\", \"27\", \"28\", \"29\", \"30\", \"31\", \"32\", \"33\", \"34\", \"35\", \"36\", \"37\", \"38\", \"39\", \"40\", \"41\", \"42\", \"43\", \"47\", \"48\"], \"mode\": \"markers\", \"name\": \"precision_score_macro\", \"stepped\": false, \"type\": \"scatter\", \"data\": [0.7842311567478019, 0.7983113869170717, 0.8178864005102829, 0.8304081871151574, 0.8104070636965374, 0.8143468105929949, 0.8241883288767133, 0.6728249973942684, 0.8121356400015376, 0.7916161388528001, 0.8289600234670772, 0.7789852304558188, 0.840975280452143, 0.7575123496221123, 0.845828432040463, 0.8250754684531846, 0.816179671587341, 0.8012280594790276, 0.796433407995908, 0.8086746514715366, 0.7523849265754943, 0.8108510998082066, 0.7872989388116264, 0.7851791743296695, 0.8218554548685146, 0.33951178451178454, 0.7311462137597656, 0.8061292761292762, 0.8545064200355963, 0.7733400256339714, 0.8334099310126707, 0.836008687882502, 0.8329740981596266, 0.7457620135834905, 0.7877314814814816, 0.4511784511784512, 0.8002792953385561, 0.8241126957816999, 0.816445047804697, 0.8320086429764554, 0.8472831756850745, 0.820115749840571, 0.824845341201104, 0.8315547296646536, 0.8590638496460414, 0.8349879739602372]}, {\"categories\": [\"0\", \"1\", \"2\", \"3\", \"4\", \"5\", \"6\", \"7\", \"8\", \"9\", \"10\", \"11\", \"12\", \"13\", \"14\", \"15\", \"16\", \"17\", \"18\", \"19\", \"20\", \"21\", \"22\", \"23\", \"24\", \"25\", \"26\", \"27\", \"28\", \"29\", \"30\", \"31\", \"32\", \"33\", \"34\", \"35\", \"36\", \"37\", \"38\", \"39\", \"40\", \"41\", \"42\", \"43\", \"47\", \"48\"], \"mode\": \"lines\", \"name\": \"precision_score_macro_max\", \"stepped\": true, \"type\": \"scatter\", \"data\": [0.7842311567478019, 0.7983113869170717, 0.8178864005102829, 0.8304081871151574, 0.8304081871151574, 0.8304081871151574, 0.8304081871151574, 0.8304081871151574, 0.8304081871151574, 0.8304081871151574, 0.8304081871151574, 0.8304081871151574, 0.840975280452143, 0.840975280452143, 0.845828432040463, 0.845828432040463, 0.845828432040463, 0.845828432040463, 0.845828432040463, 0.845828432040463, 0.845828432040463, 0.845828432040463, 0.845828432040463, 0.845828432040463, 0.845828432040463, 0.845828432040463, 0.845828432040463, 0.845828432040463, 0.8545064200355963, 0.8545064200355963, 0.8545064200355963, 0.8545064200355963, 0.8545064200355963, 0.8545064200355963, 0.8545064200355963, 0.8545064200355963, 0.8545064200355963, 0.8545064200355963, 0.8545064200355963, 0.8545064200355963, 0.8545064200355963, 0.8545064200355963, 0.8545064200355963, 0.8545064200355963, 0.8590638496460414, 0.8590638496460414]}], \"average_precision_score_macro\": [{\"categories\": [\"0\", \"1\", \"2\", \"3\", \"4\", \"5\", \"6\", \"7\", \"8\", \"9\", \"10\", \"11\", \"12\", \"13\", \"14\", \"15\", \"16\", \"17\", \"18\", \"19\", \"20\", \"21\", \"22\", \"23\", \"24\", \"25\", \"26\", \"27\", \"28\", \"29\", \"30\", \"31\", \"32\", \"33\", \"34\", \"35\", \"36\", \"37\", \"38\", \"39\", \"40\", \"41\", \"42\", \"43\", \"47\", \"48\"], \"mode\": \"markers\", \"name\": \"average_precision_score_macro\", \"stepped\": false, \"type\": \"scatter\", \"data\": [0.8323265818260129, 0.8521645844042397, 0.8653113855059131, 0.8835788861169952, 0.8683412255565534, 0.8498253148939022, 0.8657357289393751, 0.7218447737658665, 0.8461168006142854, 0.8419333570901392, 0.8671517288509465, 0.8530839861931884, 0.8634744116934298, 0.8323330937922443, 0.8754204393861619, 0.874506607637224, 0.8591926692107226, 0.8522221437078885, 0.8481820163606933, 0.862927979734255, 0.8297358123501049, 0.8568638975868582, 0.8525275783626388, 0.834950559769363, 0.8721762194407128, 0.8283792003820919, 0.790213678274244, 0.8500395321521639, 0.8737825992726762, 0.8255708758665872, 0.8639116608591669, 0.8909225541663854, 0.8693243978081123, 0.8126417391181379, 0.8587674962013615, 0.5649866236949828, 0.8794008508449093, 0.8794918988855126, 0.8505468707843259, 0.872000398630138, 0.8594333184292241, 0.8802183057671696, 0.866432467814079, 0.8347926046899303, 0.8866775276216584, 0.8847258518324277]}, {\"categories\": [\"0\", \"1\", \"2\", \"3\", \"4\", \"5\", \"6\", \"7\", \"8\", \"9\", \"10\", \"11\", \"12\", \"13\", \"14\", \"15\", \"16\", \"17\", \"18\", \"19\", \"20\", \"21\", \"22\", \"23\", \"24\", \"25\", \"26\", \"27\", \"28\", \"29\", \"30\", \"31\", \"32\", \"33\", \"34\", \"35\", \"36\", \"37\", \"38\", \"39\", \"40\", \"41\", \"42\", \"43\", \"47\", \"48\"], \"mode\": \"lines\", \"name\": \"average_precision_score_macro_max\", \"stepped\": true, \"type\": \"scatter\", \"data\": [0.8323265818260129, 0.8521645844042397, 0.8653113855059131, 0.8835788861169952, 0.8835788861169952, 0.8835788861169952, 0.8835788861169952, 0.8835788861169952, 0.8835788861169952, 0.8835788861169952, 0.8835788861169952, 0.8835788861169952, 0.8835788861169952, 0.8835788861169952, 0.8835788861169952, 0.8835788861169952, 0.8835788861169952, 0.8835788861169952, 0.8835788861169952, 0.8835788861169952, 0.8835788861169952, 0.8835788861169952, 0.8835788861169952, 0.8835788861169952, 0.8835788861169952, 0.8835788861169952, 0.8835788861169952, 0.8835788861169952, 0.8835788861169952, 0.8835788861169952, 0.8835788861169952, 0.8909225541663854, 0.8909225541663854, 0.8909225541663854, 0.8909225541663854, 0.8909225541663854, 0.8909225541663854, 0.8909225541663854, 0.8909225541663854, 0.8909225541663854, 0.8909225541663854, 0.8909225541663854, 0.8909225541663854, 0.8909225541663854, 0.8909225541663854, 0.8909225541663854]}], \"AUC_micro\": [{\"categories\": [\"0\", \"1\", \"2\", \"3\", \"4\", \"5\", \"6\", \"7\", \"8\", \"9\", \"10\", \"11\", \"12\", \"13\", \"14\", \"15\", \"16\", \"17\", \"18\", \"19\", \"20\", \"21\", \"22\", \"23\", \"24\", \"25\", \"26\", \"27\", \"28\", \"29\", \"30\", \"31\", \"32\", \"33\", \"34\", \"35\", \"36\", \"37\", \"38\", \"39\", \"40\", \"41\", \"42\", \"43\", \"47\", \"48\"], \"mode\": \"markers\", \"name\": \"AUC_micro\", \"stepped\": false, \"type\": \"scatter\", \"data\": [0.8769284528789579, 0.8907238819168114, 0.901834537292113, 0.9051717613848927, 0.9024333537394144, 0.8894908852838146, 0.895156364996769, 0.7940026612930654, 0.8776952861952863, 0.879086654423018, 0.9055734550896167, 0.8904873312247049, 0.8872737917899535, 0.8487585722545319, 0.9008188008026391, 0.9036859776213312, 0.8847721048872564, 0.885594099241574, 0.8831357242458253, 0.8977429990137061, 0.8582545114444105, 0.8892426623133693, 0.8834409686086454, 0.8694086555793626, 0.9053546746930584, 0.8287262558242356, 0.8338987569295649, 0.8809990069040574, 0.8957424888616808, 0.8704284494779445, 0.891214233241506, 0.9038022174608034, 0.8946528109376594, 0.852894106043601, 0.8849834404652587, 0.7211569023569023, 0.896828452878958, 0.9068062816719382, 0.8865985001530455, 0.8737922388871885, 0.8765144032921811, 0.9021052647689011, 0.8920032343638405, 0.8876839472162704, 0.9081238751147841, 0.9034922354861749]}, {\"categories\": [\"0\", \"1\", \"2\", \"3\", \"4\", \"5\", \"6\", \"7\", \"8\", \"9\", \"10\", \"11\", \"12\", \"13\", \"14\", \"15\", \"16\", \"17\", \"18\", \"19\", \"20\", \"21\", \"22\", \"23\", \"24\", \"25\", \"26\", \"27\", \"28\", \"29\", \"30\", \"31\", \"32\", \"33\", \"34\", \"35\", \"36\", \"37\", \"38\", \"39\", \"40\", \"41\", \"42\", \"43\", \"47\", \"48\"], \"mode\": \"lines\", \"name\": \"AUC_micro_max\", \"stepped\": true, \"type\": \"scatter\", \"data\": [0.8769284528789579, 0.8907238819168114, 0.901834537292113, 0.9051717613848927, 0.9051717613848927, 0.9051717613848927, 0.9051717613848927, 0.9051717613848927, 0.9051717613848927, 0.9051717613848927, 0.9055734550896167, 0.9055734550896167, 0.9055734550896167, 0.9055734550896167, 0.9055734550896167, 0.9055734550896167, 0.9055734550896167, 0.9055734550896167, 0.9055734550896167, 0.9055734550896167, 0.9055734550896167, 0.9055734550896167, 0.9055734550896167, 0.9055734550896167, 0.9055734550896167, 0.9055734550896167, 0.9055734550896167, 0.9055734550896167, 0.9055734550896167, 0.9055734550896167, 0.9055734550896167, 0.9055734550896167, 0.9055734550896167, 0.9055734550896167, 0.9055734550896167, 0.9055734550896167, 0.9055734550896167, 0.9068062816719382, 0.9068062816719382, 0.9068062816719382, 0.9068062816719382, 0.9068062816719382, 0.9068062816719382, 0.9068062816719382, 0.9081238751147841, 0.9081238751147841]}], \"average_precision_score_micro\": [{\"categories\": [\"0\", \"1\", \"2\", \"3\", \"4\", \"5\", \"6\", \"7\", \"8\", \"9\", \"10\", \"11\", \"12\", \"13\", \"14\", \"15\", \"16\", \"17\", \"18\", \"19\", \"20\", \"21\", \"22\", \"23\", \"24\", \"25\", \"26\", \"27\", \"28\", \"29\", \"30\", \"31\", \"32\", \"33\", \"34\", \"35\", \"36\", \"37\", \"38\", \"39\", \"40\", \"41\", \"42\", \"43\", \"47\", \"48\"], \"mode\": \"markers\", \"name\": \"average_precision_score_micro\", \"stepped\": false, \"type\": \"scatter\", \"data\": [0.8707751210307144, 0.8886385174313017, 0.9020076845784072, 0.9081995938944262, 0.8982793359411415, 0.885495750143066, 0.8873812367245796, 0.7874396918316355, 0.8759172664874081, 0.8782733418506834, 0.9061569985594108, 0.8901763407866788, 0.8856886635735278, 0.8565439080059489, 0.898310279627282, 0.904045594805669, 0.8866537186553008, 0.8843216738975471, 0.8803302965182328, 0.8972391974553197, 0.8621066836222037, 0.8871833901479813, 0.8807999585521173, 0.8695312968238115, 0.9028231295376773, 0.8368195721029563, 0.8395135358604101, 0.879022172937835, 0.895790046246511, 0.8682069487420879, 0.8892912903316884, 0.9039413712215216, 0.8929478929150475, 0.8512086446578789, 0.8798723083894515, 0.6759215795481142, 0.8916484329445359, 0.9086063312133595, 0.8840700802473521, 0.8745602569049286, 0.8752272849332252, 0.9037972670063487, 0.8833712722076396, 0.868033595832936, 0.9082641609395082, 0.9023884032477243]}, {\"categories\": [\"0\", \"1\", \"2\", \"3\", \"4\", \"5\", \"6\", \"7\", \"8\", \"9\", \"10\", \"11\", \"12\", \"13\", \"14\", \"15\", \"16\", \"17\", \"18\", \"19\", \"20\", \"21\", \"22\", \"23\", \"24\", \"25\", \"26\", \"27\", \"28\", \"29\", \"30\", \"31\", \"32\", \"33\", \"34\", \"35\", \"36\", \"37\", \"38\", \"39\", \"40\", \"41\", \"42\", \"43\", \"47\", \"48\"], \"mode\": \"lines\", \"name\": \"average_precision_score_micro_max\", \"stepped\": true, \"type\": \"scatter\", \"data\": [0.8707751210307144, 0.8886385174313017, 0.9020076845784072, 0.9081995938944262, 0.9081995938944262, 0.9081995938944262, 0.9081995938944262, 0.9081995938944262, 0.9081995938944262, 0.9081995938944262, 0.9081995938944262, 0.9081995938944262, 0.9081995938944262, 0.9081995938944262, 0.9081995938944262, 0.9081995938944262, 0.9081995938944262, 0.9081995938944262, 0.9081995938944262, 0.9081995938944262, 0.9081995938944262, 0.9081995938944262, 0.9081995938944262, 0.9081995938944262, 0.9081995938944262, 0.9081995938944262, 0.9081995938944262, 0.9081995938944262, 0.9081995938944262, 0.9081995938944262, 0.9081995938944262, 0.9081995938944262, 0.9081995938944262, 0.9081995938944262, 0.9081995938944262, 0.9081995938944262, 0.9081995938944262, 0.9086063312133595, 0.9086063312133595, 0.9086063312133595, 0.9086063312133595, 0.9086063312133595, 0.9086063312133595, 0.9086063312133595, 0.9086063312133595, 0.9086063312133595]}], \"f1_score_micro\": [{\"categories\": [\"0\", \"1\", \"2\", \"3\", \"4\", \"5\", \"6\", \"7\", \"8\", \"9\", \"10\", \"11\", \"12\", \"13\", \"14\", \"15\", \"16\", \"17\", \"18\", \"19\", \"20\", \"21\", \"22\", \"23\", \"24\", \"25\", \"26\", \"27\", \"28\", \"29\", \"30\", \"31\", \"32\", \"33\", \"34\", \"35\", \"36\", \"37\", \"38\", \"39\", \"40\", \"41\", \"42\", \"43\", \"47\", \"48\"], \"mode\": \"markers\", \"name\": \"f1_score_micro\", \"stepped\": false, \"type\": \"scatter\", \"data\": [0.8025252525252525, 0.8192929292929293, 0.836094276094276, 0.835993265993266, 0.8260606060606062, 0.8293939393939395, 0.8326936026936026, 0.7123569023569023, 0.8260942760942761, 0.7993602693602693, 0.8427272727272728, 0.7925589225589226, 0.8328282828282828, 0.7223905723905725, 0.8428282828282829, 0.836026936026936, 0.8092929292929293, 0.816127946127946, 0.8126599326599325, 0.8226936026936027, 0.7525252525252526, 0.8126599326599325, 0.7993265993265993, 0.8025252525252524, 0.836026936026936, 0.6790235690235691, 0.7326262626262626, 0.8159932659932659, 0.8461279461279462, 0.786026936026936, 0.8394276094276094, 0.8427272727272728, 0.8293939393939395, 0.7724579124579124, 0.8126262626262625, 0.6856902356902358, 0.8191919191919191, 0.835993265993266, 0.8293939393939395, 0.7793939393939394, 0.8327946127946128, 0.8260942760942761, 0.8226262626262626, 0.8393939393939395, 0.8595622895622896, 0.8426936026936027]}, {\"categories\": [\"0\", \"1\", \"2\", \"3\", \"4\", \"5\", \"6\", \"7\", \"8\", \"9\", \"10\", \"11\", \"12\", \"13\", \"14\", \"15\", \"16\", \"17\", \"18\", \"19\", \"20\", \"21\", \"22\", \"23\", \"24\", \"25\", \"26\", \"27\", \"28\", \"29\", \"30\", \"31\", \"32\", \"33\", \"34\", \"35\", \"36\", \"37\", \"38\", \"39\", \"40\", \"41\", \"42\", \"43\", \"47\", \"48\"], \"mode\": \"lines\", \"name\": \"f1_score_micro_max\", \"stepped\": true, \"type\": \"scatter\", \"data\": [0.8025252525252525, 0.8192929292929293, 0.836094276094276, 0.836094276094276, 0.836094276094276, 0.836094276094276, 0.836094276094276, 0.836094276094276, 0.836094276094276, 0.836094276094276, 0.8427272727272728, 0.8427272727272728, 0.8427272727272728, 0.8427272727272728, 0.8428282828282829, 0.8428282828282829, 0.8428282828282829, 0.8428282828282829, 0.8428282828282829, 0.8428282828282829, 0.8428282828282829, 0.8428282828282829, 0.8428282828282829, 0.8428282828282829, 0.8428282828282829, 0.8428282828282829, 0.8428282828282829, 0.8428282828282829, 0.8461279461279462, 0.8461279461279462, 0.8461279461279462, 0.8461279461279462, 0.8461279461279462, 0.8461279461279462, 0.8461279461279462, 0.8461279461279462, 0.8461279461279462, 0.8461279461279462, 0.8461279461279462, 0.8461279461279462, 0.8461279461279462, 0.8461279461279462, 0.8461279461279462, 0.8461279461279462, 0.8595622895622896, 0.8595622895622896]}], \"AUC_macro\": [{\"categories\": [\"0\", \"1\", \"2\", \"3\", \"4\", \"5\", \"6\", \"7\", \"8\", \"9\", \"10\", \"11\", \"12\", \"13\", \"14\", \"15\", \"16\", \"17\", \"18\", \"19\", \"20\", \"21\", \"22\", \"23\", \"24\", \"25\", \"26\", \"27\", \"28\", \"29\", \"30\", \"31\", \"32\", \"33\", \"34\", \"35\", \"36\", \"37\", \"38\", \"39\", \"40\", \"41\", \"42\", \"43\", \"47\", \"48\"], \"mode\": \"markers\", \"name\": \"AUC_macro\", \"stepped\": false, \"type\": \"scatter\", \"data\": [0.8550287233045853, 0.875938401455643, 0.8898831836762872, 0.8966862428931394, 0.8934882172813209, 0.8708777250156561, 0.8849293875155944, 0.7414457314457316, 0.8560664112388251, 0.8650320764113868, 0.897568405844268, 0.8778883316814351, 0.8728109883282297, 0.8567626740040533, 0.894813828606932, 0.8931451155589087, 0.880745129365819, 0.8714469148951908, 0.86317134868859, 0.8867912247222591, 0.8416815830608934, 0.8816623520071797, 0.8654566389049148, 0.8465354023974713, 0.8969353096939304, 0.8450990399266262, 0.8196489099937375, 0.8649147669837326, 0.8839264387540249, 0.85309412861137, 0.8775494213425249, 0.8983191072846246, 0.8810950852330164, 0.8391854909096287, 0.8723483582104272, 0.5793650793650794, 0.9020690148276355, 0.9030692761727245, 0.8723482595896389, 0.8873325049187119, 0.8641667776150536, 0.8981231970887144, 0.8833456116214736, 0.8655623357347495, 0.9029275580999719, 0.9007203755479617]}, {\"categories\": [\"0\", \"1\", \"2\", \"3\", \"4\", \"5\", \"6\", \"7\", \"8\", \"9\", \"10\", \"11\", \"12\", \"13\", \"14\", \"15\", \"16\", \"17\", \"18\", \"19\", \"20\", \"21\", \"22\", \"23\", \"24\", \"25\", \"26\", \"27\", \"28\", \"29\", \"30\", \"31\", \"32\", \"33\", \"34\", \"35\", \"36\", \"37\", \"38\", \"39\", \"40\", \"41\", \"42\", \"43\", \"47\", \"48\"], \"mode\": \"lines\", \"name\": \"AUC_macro_max\", \"stepped\": true, \"type\": \"scatter\", \"data\": [0.8550287233045853, 0.875938401455643, 0.8898831836762872, 0.8966862428931394, 0.8966862428931394, 0.8966862428931394, 0.8966862428931394, 0.8966862428931394, 0.8966862428931394, 0.8966862428931394, 0.897568405844268, 0.897568405844268, 0.897568405844268, 0.897568405844268, 0.897568405844268, 0.897568405844268, 0.897568405844268, 0.897568405844268, 0.897568405844268, 0.897568405844268, 0.897568405844268, 0.897568405844268, 0.897568405844268, 0.897568405844268, 0.897568405844268, 0.897568405844268, 0.897568405844268, 0.897568405844268, 0.897568405844268, 0.897568405844268, 0.897568405844268, 0.8983191072846246, 0.8983191072846246, 0.8983191072846246, 0.8983191072846246, 0.8983191072846246, 0.9020690148276355, 0.9030692761727245, 0.9030692761727245, 0.9030692761727245, 0.9030692761727245, 0.9030692761727245, 0.9030692761727245, 0.9030692761727245, 0.9030692761727245, 0.9030692761727245]}], \"recall_score_weighted\": [{\"categories\": [\"0\", \"1\", \"2\", \"3\", \"4\", \"5\", \"6\", \"7\", \"8\", \"9\", \"10\", \"11\", \"12\", \"13\", \"14\", \"15\", \"16\", \"17\", \"18\", \"19\", \"20\", \"21\", \"22\", \"23\", \"24\", \"25\", \"26\", \"27\", \"28\", \"29\", \"30\", \"31\", \"32\", \"33\", \"34\", \"35\", \"36\", \"37\", \"38\", \"39\", \"40\", \"41\", \"42\", \"43\", \"47\", \"48\"], \"mode\": \"markers\", \"name\": \"recall_score_weighted\", \"stepped\": false, \"type\": \"scatter\", \"data\": [0.8025252525252524, 0.8192929292929293, 0.8360942760942761, 0.835993265993266, 0.8260606060606062, 0.8293939393939395, 0.8326936026936026, 0.7123569023569023, 0.8260942760942761, 0.7993602693602693, 0.8427272727272728, 0.7925589225589226, 0.8328282828282828, 0.7223905723905725, 0.8428282828282829, 0.836026936026936, 0.8092929292929293, 0.816127946127946, 0.8126599326599327, 0.8226936026936027, 0.7525252525252526, 0.8126599326599327, 0.7993265993265993, 0.8025252525252524, 0.836026936026936, 0.6790235690235691, 0.7326262626262627, 0.8159932659932659, 0.8461279461279462, 0.786026936026936, 0.8394276094276094, 0.8427272727272728, 0.8293939393939395, 0.7724579124579125, 0.8126262626262625, 0.6856902356902358, 0.8191919191919191, 0.835993265993266, 0.8293939393939395, 0.7793939393939394, 0.8327946127946128, 0.8260942760942761, 0.8226262626262626, 0.8393939393939395, 0.8595622895622895, 0.8426936026936027]}, {\"categories\": [\"0\", \"1\", \"2\", \"3\", \"4\", \"5\", \"6\", \"7\", \"8\", \"9\", \"10\", \"11\", \"12\", \"13\", \"14\", \"15\", \"16\", \"17\", \"18\", \"19\", \"20\", \"21\", \"22\", \"23\", \"24\", \"25\", \"26\", \"27\", \"28\", \"29\", \"30\", \"31\", \"32\", \"33\", \"34\", \"35\", \"36\", \"37\", \"38\", \"39\", \"40\", \"41\", \"42\", \"43\", \"47\", \"48\"], \"mode\": \"lines\", \"name\": \"recall_score_weighted_max\", \"stepped\": true, \"type\": \"scatter\", \"data\": [0.8025252525252524, 0.8192929292929293, 0.8360942760942761, 0.8360942760942761, 0.8360942760942761, 0.8360942760942761, 0.8360942760942761, 0.8360942760942761, 0.8360942760942761, 0.8360942760942761, 0.8427272727272728, 0.8427272727272728, 0.8427272727272728, 0.8427272727272728, 0.8428282828282829, 0.8428282828282829, 0.8428282828282829, 0.8428282828282829, 0.8428282828282829, 0.8428282828282829, 0.8428282828282829, 0.8428282828282829, 0.8428282828282829, 0.8428282828282829, 0.8428282828282829, 0.8428282828282829, 0.8428282828282829, 0.8428282828282829, 0.8461279461279462, 0.8461279461279462, 0.8461279461279462, 0.8461279461279462, 0.8461279461279462, 0.8461279461279462, 0.8461279461279462, 0.8461279461279462, 0.8461279461279462, 0.8461279461279462, 0.8461279461279462, 0.8461279461279462, 0.8461279461279462, 0.8461279461279462, 0.8461279461279462, 0.8461279461279462, 0.8595622895622895, 0.8595622895622895]}], \"balanced_accuracy\": [{\"categories\": [\"0\", \"1\", \"2\", \"3\", \"4\", \"5\", \"6\", \"7\", \"8\", \"9\", \"10\", \"11\", \"12\", \"13\", \"14\", \"15\", \"16\", \"17\", \"18\", \"19\", \"20\", \"21\", \"22\", \"23\", \"24\", \"25\", \"26\", \"27\", \"28\", \"29\", \"30\", \"31\", \"32\", \"33\", \"34\", \"35\", \"36\", \"37\", \"38\", \"39\", \"40\", \"41\", \"42\", \"43\", \"47\", \"48\"], \"mode\": \"markers\", \"name\": \"balanced_accuracy\", \"stepped\": false, \"type\": \"scatter\", \"data\": [0.7665542389680322, 0.7899604037535072, 0.8095514233445268, 0.7916793640931571, 0.8019837571561709, 0.7964868809696396, 0.7970088314915902, 0.5984366139538554, 0.7807598238632721, 0.7410486841521324, 0.8126458971286556, 0.7356149252700978, 0.7725444656479139, 0.583606266364887, 0.7902106540037573, 0.8046879391706977, 0.7424646321198045, 0.7775364033984724, 0.7771088822812962, 0.7886233524164559, 0.6613650596409216, 0.7593098024132506, 0.7539386677317713, 0.7643577074611558, 0.8047093891921477, 0.5, 0.6262698659250383, 0.7610645127886507, 0.7903494627632558, 0.7238386169420652, 0.7939873370907854, 0.8062752407579993, 0.7676782694024075, 0.7585975137699276, 0.7988234539958677, 0.5536250536250537, 0.8235881201398443, 0.8068114912942499, 0.785528878632327, 0.6768132664684389, 0.7647610664852044, 0.7795485140312727, 0.7552059448611171, 0.7971619402653886, 0.8181800026627611, 0.8094498439326024]}, {\"categories\": [\"0\", \"1\", \"2\", \"3\", \"4\", \"5\", \"6\", \"7\", \"8\", \"9\", \"10\", \"11\", \"12\", \"13\", \"14\", \"15\", \"16\", \"17\", \"18\", \"19\", \"20\", \"21\", \"22\", \"23\", \"24\", \"25\", \"26\", \"27\", \"28\", \"29\", \"30\", \"31\", \"32\", \"33\", \"34\", \"35\", \"36\", \"37\", \"38\", \"39\", \"40\", \"41\", \"42\", \"43\", \"47\", \"48\"], \"mode\": \"lines\", \"name\": \"balanced_accuracy_max\", \"stepped\": true, \"type\": \"scatter\", \"data\": [0.7665542389680322, 0.7899604037535072, 0.8095514233445268, 0.8095514233445268, 0.8095514233445268, 0.8095514233445268, 0.8095514233445268, 0.8095514233445268, 0.8095514233445268, 0.8095514233445268, 0.8126458971286556, 0.8126458971286556, 0.8126458971286556, 0.8126458971286556, 0.8126458971286556, 0.8126458971286556, 0.8126458971286556, 0.8126458971286556, 0.8126458971286556, 0.8126458971286556, 0.8126458971286556, 0.8126458971286556, 0.8126458971286556, 0.8126458971286556, 0.8126458971286556, 0.8126458971286556, 0.8126458971286556, 0.8126458971286556, 0.8126458971286556, 0.8126458971286556, 0.8126458971286556, 0.8126458971286556, 0.8126458971286556, 0.8126458971286556, 0.8126458971286556, 0.8126458971286556, 0.8235881201398443, 0.8235881201398443, 0.8235881201398443, 0.8235881201398443, 0.8235881201398443, 0.8235881201398443, 0.8235881201398443, 0.8235881201398443, 0.8235881201398443, 0.8235881201398443]}], \"precision_score_weighted\": [{\"categories\": [\"0\", \"1\", \"2\", \"3\", \"4\", \"5\", \"6\", \"7\", \"8\", \"9\", \"10\", \"11\", \"12\", \"13\", \"14\", \"15\", \"16\", \"17\", \"18\", \"19\", \"20\", \"21\", \"22\", \"23\", \"24\", \"25\", \"26\", \"27\", \"28\", \"29\", \"30\", \"31\", \"32\", \"33\", \"34\", \"35\", \"36\", \"37\", \"38\", \"39\", \"40\", \"41\", \"42\", \"43\", \"47\", \"48\"], \"mode\": \"markers\", \"name\": \"precision_score_weighted\", \"stepped\": false, \"type\": \"scatter\", \"data\": [0.8103076903348296, 0.8235687391092353, 0.8413190563905241, 0.8416249089901998, 0.8363075120431581, 0.8339707278210703, 0.8399426624269521, 0.6969564290217288, 0.8254515254632414, 0.8039166286429391, 0.8477109122742981, 0.7976704230360646, 0.8400515066762205, 0.7501318583921623, 0.8471611774500399, 0.8433577449047348, 0.8203676804566603, 0.8197076385202138, 0.8180781299281299, 0.8297750162848584, 0.7623320890293096, 0.8211757411513508, 0.8068321235063598, 0.8086304793127822, 0.8414930674908288, 0.46228299493248987, 0.7406896536903983, 0.8176453026453027, 0.8526740681028439, 0.7875736445632023, 0.842415261045398, 0.8485762538466523, 0.834372998255048, 0.7863295386558463, 0.8227009913954358, 0.5579163282658232, 0.8435859242783286, 0.843818710430126, 0.8302623890440656, 0.8134591454435819, 0.8409196841406757, 0.8312552898361006, 0.8275244497896063, 0.8428292082418501, 0.8631957045998142, 0.8495229797187983]}, {\"categories\": [\"0\", \"1\", \"2\", \"3\", \"4\", \"5\", \"6\", \"7\", \"8\", \"9\", \"10\", \"11\", \"12\", \"13\", \"14\", \"15\", \"16\", \"17\", \"18\", \"19\", \"20\", \"21\", \"22\", \"23\", \"24\", \"25\", \"26\", \"27\", \"28\", \"29\", \"30\", \"31\", \"32\", \"33\", \"34\", \"35\", \"36\", \"37\", \"38\", \"39\", \"40\", \"41\", \"42\", \"43\", \"47\", \"48\"], \"mode\": \"lines\", \"name\": \"precision_score_weighted_max\", \"stepped\": true, \"type\": \"scatter\", \"data\": [0.8103076903348296, 0.8235687391092353, 0.8413190563905241, 0.8416249089901998, 0.8416249089901998, 0.8416249089901998, 0.8416249089901998, 0.8416249089901998, 0.8416249089901998, 0.8416249089901998, 0.8477109122742981, 0.8477109122742981, 0.8477109122742981, 0.8477109122742981, 0.8477109122742981, 0.8477109122742981, 0.8477109122742981, 0.8477109122742981, 0.8477109122742981, 0.8477109122742981, 0.8477109122742981, 0.8477109122742981, 0.8477109122742981, 0.8477109122742981, 0.8477109122742981, 0.8477109122742981, 0.8477109122742981, 0.8477109122742981, 0.8526740681028439, 0.8526740681028439, 0.8526740681028439, 0.8526740681028439, 0.8526740681028439, 0.8526740681028439, 0.8526740681028439, 0.8526740681028439, 0.8526740681028439, 0.8526740681028439, 0.8526740681028439, 0.8526740681028439, 0.8526740681028439, 0.8526740681028439, 0.8526740681028439, 0.8526740681028439, 0.8631957045998142, 0.8631957045998142]}], \"weighted_accuracy\": [{\"categories\": [\"0\", \"1\", \"2\", \"3\", \"4\", \"5\", \"6\", \"7\", \"8\", \"9\", \"10\", \"11\", \"12\", \"13\", \"14\", \"15\", \"16\", \"17\", \"18\", \"19\", \"20\", \"21\", \"22\", \"23\", \"24\", \"25\", \"26\", \"27\", \"28\", \"29\", \"30\", \"31\", \"32\", \"33\", \"34\", \"35\", \"36\", \"37\", \"38\", \"39\", \"40\", \"41\", \"42\", \"43\", \"47\", \"48\"], \"mode\": \"markers\", \"name\": \"weighted_accuracy\", \"stepped\": false, \"type\": \"scatter\", \"data\": [0.8310099034285422, 0.8426543037328149, 0.8571218208231555, 0.8707298935704803, 0.8458853760439089, 0.8558028533576029, 0.8614080771586213, 0.7982710015110653, 0.8612689161865733, 0.8448699013785639, 0.8666683460514957, 0.8364382232884009, 0.8794523609976403, 0.8275239489597147, 0.8835058487446906, 0.8614197049153688, 0.8610981132789015, 0.8471555252271346, 0.8407965079609635, 0.850007139120231, 0.8225851970639818, 0.8545213691988242, 0.8355514679285062, 0.8327296573306381, 0.8608798755419325, 0.8139581109686231, 0.8144533670869918, 0.8582568332942205, 0.8892744467025603, 0.8345907490850966, 0.8748841580223807, 0.8718058765743572, 0.8766413952312506, 0.7841971043942886, 0.8243012421042254, 0.7796131627982721, 0.8170091889329072, 0.8596658506682999, 0.8634491196390175, 0.8581898849321373, 0.8847584326315608, 0.862640190591541, 0.873811557980305, 0.8725439633748865, 0.8921275394670006, 0.8694656819268629]}, {\"categories\": [\"0\", \"1\", \"2\", \"3\", \"4\", \"5\", \"6\", \"7\", \"8\", \"9\", \"10\", \"11\", \"12\", \"13\", \"14\", \"15\", \"16\", \"17\", \"18\", \"19\", \"20\", \"21\", \"22\", \"23\", \"24\", \"25\", \"26\", \"27\", \"28\", \"29\", \"30\", \"31\", \"32\", \"33\", \"34\", \"35\", \"36\", \"37\", \"38\", \"39\", \"40\", \"41\", \"42\", \"43\", \"47\", \"48\"], \"mode\": \"lines\", \"name\": \"weighted_accuracy_max\", \"stepped\": true, \"type\": \"scatter\", \"data\": [0.8310099034285422, 0.8426543037328149, 0.8571218208231555, 0.8707298935704803, 0.8707298935704803, 0.8707298935704803, 0.8707298935704803, 0.8707298935704803, 0.8707298935704803, 0.8707298935704803, 0.8707298935704803, 0.8707298935704803, 0.8794523609976403, 0.8794523609976403, 0.8835058487446906, 0.8835058487446906, 0.8835058487446906, 0.8835058487446906, 0.8835058487446906, 0.8835058487446906, 0.8835058487446906, 0.8835058487446906, 0.8835058487446906, 0.8835058487446906, 0.8835058487446906, 0.8835058487446906, 0.8835058487446906, 0.8835058487446906, 0.8892744467025603, 0.8892744467025603, 0.8892744467025603, 0.8892744467025603, 0.8892744467025603, 0.8892744467025603, 0.8892744467025603, 0.8892744467025603, 0.8892744467025603, 0.8892744467025603, 0.8892744467025603, 0.8892744467025603, 0.8892744467025603, 0.8892744467025603, 0.8892744467025603, 0.8892744467025603, 0.8921275394670006, 0.8921275394670006]}], \"precision_score_micro\": [{\"categories\": [\"0\", \"1\", \"2\", \"3\", \"4\", \"5\", \"6\", \"7\", \"8\", \"9\", \"10\", \"11\", \"12\", \"13\", \"14\", \"15\", \"16\", \"17\", \"18\", \"19\", \"20\", \"21\", \"22\", \"23\", \"24\", \"25\", \"26\", \"27\", \"28\", \"29\", \"30\", \"31\", \"32\", \"33\", \"34\", \"35\", \"36\", \"37\", \"38\", \"39\", \"40\", \"41\", \"42\", \"43\", \"47\", \"48\"], \"mode\": \"markers\", \"name\": \"precision_score_micro\", \"stepped\": false, \"type\": \"scatter\", \"data\": [0.8025252525252524, 0.8192929292929293, 0.8360942760942761, 0.835993265993266, 0.8260606060606062, 0.8293939393939395, 0.8326936026936026, 0.7123569023569023, 0.8260942760942761, 0.7993602693602693, 0.8427272727272728, 0.7925589225589226, 0.8328282828282828, 0.7223905723905725, 0.8428282828282829, 0.836026936026936, 0.8092929292929293, 0.816127946127946, 0.8126599326599327, 0.8226936026936027, 0.7525252525252526, 0.8126599326599327, 0.7993265993265993, 0.8025252525252524, 0.836026936026936, 0.6790235690235691, 0.7326262626262627, 0.8159932659932659, 0.8461279461279462, 0.786026936026936, 0.8394276094276094, 0.8427272727272728, 0.8293939393939395, 0.7724579124579125, 0.8126262626262625, 0.6856902356902358, 0.8191919191919191, 0.835993265993266, 0.8293939393939395, 0.7793939393939394, 0.8327946127946128, 0.8260942760942761, 0.8226262626262626, 0.8393939393939395, 0.8595622895622895, 0.8426936026936027]}, {\"categories\": [\"0\", \"1\", \"2\", \"3\", \"4\", \"5\", \"6\", \"7\", \"8\", \"9\", \"10\", \"11\", \"12\", \"13\", \"14\", \"15\", \"16\", \"17\", \"18\", \"19\", \"20\", \"21\", \"22\", \"23\", \"24\", \"25\", \"26\", \"27\", \"28\", \"29\", \"30\", \"31\", \"32\", \"33\", \"34\", \"35\", \"36\", \"37\", \"38\", \"39\", \"40\", \"41\", \"42\", \"43\", \"47\", \"48\"], \"mode\": \"lines\", \"name\": \"precision_score_micro_max\", \"stepped\": true, \"type\": \"scatter\", \"data\": [0.8025252525252524, 0.8192929292929293, 0.8360942760942761, 0.8360942760942761, 0.8360942760942761, 0.8360942760942761, 0.8360942760942761, 0.8360942760942761, 0.8360942760942761, 0.8360942760942761, 0.8427272727272728, 0.8427272727272728, 0.8427272727272728, 0.8427272727272728, 0.8428282828282829, 0.8428282828282829, 0.8428282828282829, 0.8428282828282829, 0.8428282828282829, 0.8428282828282829, 0.8428282828282829, 0.8428282828282829, 0.8428282828282829, 0.8428282828282829, 0.8428282828282829, 0.8428282828282829, 0.8428282828282829, 0.8428282828282829, 0.8461279461279462, 0.8461279461279462, 0.8461279461279462, 0.8461279461279462, 0.8461279461279462, 0.8461279461279462, 0.8461279461279462, 0.8461279461279462, 0.8461279461279462, 0.8461279461279462, 0.8461279461279462, 0.8461279461279462, 0.8461279461279462, 0.8461279461279462, 0.8461279461279462, 0.8461279461279462, 0.8595622895622895, 0.8595622895622895]}]}, \"metricName\": null, \"primaryMetricName\": \"accuracy\", \"showLegend\": false}, \"run_metrics\": [{\"name\": \"experiment_status\", \"run_id\": \"AutoML_eb7abf71-5769-4cd0-840c-b1a76a5bcdfa\", \"categories\": [0, 1, 2, 3, 4, 5, 6, 7, 8, 9, 10, 11, 12, 13], \"series\": [{\"data\": [\"DatasetEvaluation\", \"FeaturesGeneration\", \"DatasetFeaturization\", \"DatasetFeaturizationCompleted\", \"DatasetCrossValidationSplit\", \"ModelSelection\", \"BestRunExplainModel\", \"ModelExplanationDataSetSetup\", \"PickSurrogateModel\", \"EngineeredFeatureExplanations\", \"EngineeredFeatureExplanations\", \"RawFeaturesExplanations\", \"RawFeaturesExplanations\", \"BestRunExplainModel\"]}]}, {\"name\": \"experiment_status_description\", \"run_id\": \"AutoML_eb7abf71-5769-4cd0-840c-b1a76a5bcdfa\", \"categories\": [0, 1, 2, 3, 4, 5, 6, 7, 8, 9, 10, 11, 12, 13], \"series\": [{\"data\": [\"Gathering dataset statistics.\", \"Generating features for the dataset.\", \"Beginning to fit featurizers and featurize the dataset.\", \"Completed fit featurizers and featurizing the dataset.\", \"Generating individually featurized CV splits.\", \"Beginning model selection.\", \"Best run model explanations started\", \"Model explanations data setup completed\", \"Choosing LightGBM as the surrogate model for explanations\", \"Computation of engineered features started\", \"Computation of engineered features completed\", \"Computation of raw features started\", \"Computation of raw features completed\", \"Best run model explanations completed\"]}]}, {\"name\": \"AUC_micro\", \"run_id\": \"AutoML_eb7abf71-5769-4cd0-840c-b1a76a5bcdfa\", \"categories\": [0], \"series\": [{\"data\": [0.9081238751147841]}]}, {\"name\": \"log_loss\", \"run_id\": \"AutoML_eb7abf71-5769-4cd0-840c-b1a76a5bcdfa\", \"categories\": [0], \"series\": [{\"data\": [0.41486061131261204]}]}, {\"name\": \"average_precision_score_macro\", \"run_id\": \"AutoML_eb7abf71-5769-4cd0-840c-b1a76a5bcdfa\", \"categories\": [0], \"series\": [{\"data\": [0.8866775276216584]}]}, {\"name\": \"weighted_accuracy\", \"run_id\": \"AutoML_eb7abf71-5769-4cd0-840c-b1a76a5bcdfa\", \"categories\": [0], \"series\": [{\"data\": [0.8921275394670006]}]}, {\"name\": \"recall_score_macro\", \"run_id\": \"AutoML_eb7abf71-5769-4cd0-840c-b1a76a5bcdfa\", \"categories\": [0], \"series\": [{\"data\": [0.8181800026627611]}]}, {\"name\": \"average_precision_score_micro\", \"run_id\": \"AutoML_eb7abf71-5769-4cd0-840c-b1a76a5bcdfa\", \"categories\": [0], \"series\": [{\"data\": [0.9082641609395082]}]}, {\"name\": \"matthews_correlation\", \"run_id\": \"AutoML_eb7abf71-5769-4cd0-840c-b1a76a5bcdfa\", \"categories\": [0], \"series\": [{\"data\": [0.674933832039598]}]}, {\"name\": \"recall_score_weighted\", \"run_id\": \"AutoML_eb7abf71-5769-4cd0-840c-b1a76a5bcdfa\", \"categories\": [0], \"series\": [{\"data\": [0.8595622895622895]}]}, {\"name\": \"recall_score_micro\", \"run_id\": \"AutoML_eb7abf71-5769-4cd0-840c-b1a76a5bcdfa\", \"categories\": [0], \"series\": [{\"data\": [0.8595622895622895]}]}, {\"name\": \"balanced_accuracy\", \"run_id\": \"AutoML_eb7abf71-5769-4cd0-840c-b1a76a5bcdfa\", \"categories\": [0], \"series\": [{\"data\": [0.8181800026627611]}]}, {\"name\": \"f1_score_micro\", \"run_id\": \"AutoML_eb7abf71-5769-4cd0-840c-b1a76a5bcdfa\", \"categories\": [0], \"series\": [{\"data\": [0.8595622895622896]}]}, {\"name\": \"precision_score_weighted\", \"run_id\": \"AutoML_eb7abf71-5769-4cd0-840c-b1a76a5bcdfa\", \"categories\": [0], \"series\": [{\"data\": [0.8631957045998142]}]}, {\"name\": \"f1_score_weighted\", \"run_id\": \"AutoML_eb7abf71-5769-4cd0-840c-b1a76a5bcdfa\", \"categories\": [0], \"series\": [{\"data\": [0.8533807931287133]}]}, {\"name\": \"AUC_weighted\", \"run_id\": \"AutoML_eb7abf71-5769-4cd0-840c-b1a76a5bcdfa\", \"categories\": [0], \"series\": [{\"data\": [0.9029275580999719]}]}, {\"name\": \"AUC_macro\", \"run_id\": \"AutoML_eb7abf71-5769-4cd0-840c-b1a76a5bcdfa\", \"categories\": [0], \"series\": [{\"data\": [0.9029275580999719]}]}, {\"name\": \"norm_macro_recall\", \"run_id\": \"AutoML_eb7abf71-5769-4cd0-840c-b1a76a5bcdfa\", \"categories\": [0], \"series\": [{\"data\": [0.6363600053255226]}]}, {\"name\": \"accuracy\", \"run_id\": \"AutoML_eb7abf71-5769-4cd0-840c-b1a76a5bcdfa\", \"categories\": [0], \"series\": [{\"data\": [0.8595622895622895]}]}, {\"name\": \"average_precision_score_weighted\", \"run_id\": \"AutoML_eb7abf71-5769-4cd0-840c-b1a76a5bcdfa\", \"categories\": [0], \"series\": [{\"data\": [0.9098057644489091]}]}, {\"name\": \"f1_score_macro\", \"run_id\": \"AutoML_eb7abf71-5769-4cd0-840c-b1a76a5bcdfa\", \"categories\": [0], \"series\": [{\"data\": [0.8289316394121506]}]}, {\"name\": \"precision_score_micro\", \"run_id\": \"AutoML_eb7abf71-5769-4cd0-840c-b1a76a5bcdfa\", \"categories\": [0], \"series\": [{\"data\": [0.8595622895622895]}]}, {\"name\": \"precision_score_macro\", \"run_id\": \"AutoML_eb7abf71-5769-4cd0-840c-b1a76a5bcdfa\", \"categories\": [0], \"series\": [{\"data\": [0.8590638496460414]}]}], \"run_logs\": \"\\nRun is completed.\", \"graph\": {}, \"widget_settings\": {\"childWidgetDisplay\": \"popup\", \"send_telemetry\": false, \"log_level\": \"INFO\", \"sdk_version\": \"1.20.0\"}, \"loading\": false}"
     },
     "metadata": {},
     "output_type": "display_data"
    },
    {
     "name": "stdout",
     "output_type": "stream",
     "text": [
      "\n",
      "\n",
      "****************************************************************************************************\n",
      "DATA GUARDRAILS: \n",
      "\n",
      "TYPE:         Class balancing detection\n",
      "STATUS:       PASSED\n",
      "DESCRIPTION:  Your inputs were analyzed, and all classes are balanced in your training data.\n",
      "              Learn more about imbalanced data: https://aka.ms/AutomatedMLImbalancedData\n",
      "\n",
      "****************************************************************************************************\n",
      "\n",
      "TYPE:         Missing feature values imputation\n",
      "STATUS:       PASSED\n",
      "DESCRIPTION:  No feature missing values were detected in the training data.\n",
      "              Learn more about missing value imputation: https://aka.ms/AutomatedMLFeaturization\n",
      "\n",
      "****************************************************************************************************\n",
      "\n",
      "TYPE:         High cardinality feature detection\n",
      "STATUS:       PASSED\n",
      "DESCRIPTION:  Your inputs were analyzed, and no high cardinality features were detected.\n",
      "              Learn more about high cardinality feature handling: https://aka.ms/AutomatedMLFeaturization\n",
      "\n",
      "****************************************************************************************************\n",
      "\n",
      "****************************************************************************************************\n",
      "ITERATION: The iteration being evaluated.\n",
      "PIPELINE: A summary description of the pipeline being evaluated.\n",
      "DURATION: Time taken for the current iteration.\n",
      "METRIC: The result of computing score on the fitted pipeline.\n",
      "BEST: The best observed score thus far.\n",
      "****************************************************************************************************\n",
      "\n",
      " ITERATION   PIPELINE                                       DURATION      METRIC      BEST\n",
      "         0   MaxAbsScaler LightGBM                          0:01:00       0.8025    0.8025\n",
      "         1   MaxAbsScaler XGBoostClassifier                 0:00:54       0.8193    0.8193\n",
      "         2   MinMaxScaler RandomForest                      0:00:54       0.8361    0.8361\n",
      "         3   MinMaxScaler RandomForest                      0:00:56       0.8360    0.8361\n",
      "         4   MinMaxScaler RandomForest                      0:00:59       0.8261    0.8361\n",
      "         5   SparseNormalizer XGBoostClassifier             0:00:49       0.8294    0.8361\n",
      "         6   StandardScalerWrapper XGBoostClassifier        0:00:53       0.8327    0.8361\n",
      "         7   MinMaxScaler SVM                               0:00:50       0.7124    0.8361\n",
      "         8   SparseNormalizer XGBoostClassifier             0:00:49       0.8261    0.8361\n",
      "         9   SparseNormalizer XGBoostClassifier             0:00:46       0.7994    0.8361\n",
      "        10   StandardScalerWrapper RandomForest             0:00:48       0.8427    0.8427\n",
      "        11   StandardScalerWrapper LightGBM                 0:00:48       0.7926    0.8427\n",
      "        12   MaxAbsScaler ExtremeRandomTrees                0:01:33       0.8328    0.8427\n",
      "        13   MaxAbsScaler LightGBM                          0:00:48       0.7224    0.8427\n",
      "        14   StandardScalerWrapper LightGBM                 0:00:44       0.8428    0.8428\n",
      "        15   RobustScaler RandomForest                      0:00:56       0.8360    0.8428\n",
      "        16   MinMaxScaler LightGBM                          0:00:49       0.8093    0.8428\n",
      "        17   SparseNormalizer XGBoostClassifier             0:00:46       0.8161    0.8428\n",
      "        18   SparseNormalizer XGBoostClassifier             0:00:43       0.8127    0.8428\n",
      "        19   RobustScaler LightGBM                          0:00:51       0.8227    0.8428\n",
      "        20   RobustScaler LightGBM                          0:00:55       0.7525    0.8428\n",
      "        21   StandardScalerWrapper XGBoostClassifier        0:00:57       0.8127    0.8428\n",
      "        22   SparseNormalizer XGBoostClassifier             0:00:50       0.7993    0.8428\n",
      "        23   StandardScalerWrapper LogisticRegression       0:00:58       0.8025    0.8428\n",
      "        24   StandardScalerWrapper XGBoostClassifier        0:00:53       0.8360    0.8428\n",
      "        25   StandardScalerWrapper LightGBM                 0:00:50       0.6790    0.8428\n",
      "        26   SparseNormalizer XGBoostClassifier             0:00:55       0.7326    0.8428\n",
      "        27   SparseNormalizer XGBoostClassifier             0:00:53       0.8160    0.8428\n",
      "        28   MaxAbsScaler ExtremeRandomTrees                0:00:52       0.8461    0.8461\n",
      "        29   SparseNormalizer XGBoostClassifier             0:00:53       0.7860    0.8461\n",
      "        30   StandardScalerWrapper LightGBM                 0:00:54       0.8394    0.8461\n",
      "        31   StandardScalerWrapper XGBoostClassifier        0:00:49       0.8427    0.8461\n",
      "        32   StandardScalerWrapper LightGBM                 0:00:52       0.8294    0.8461\n",
      "        33   SparseNormalizer RandomForest                  0:00:50       0.7725    0.8461\n",
      "        34   MaxAbsScaler ExtremeRandomTrees                0:00:53       0.8126    0.8461\n",
      "        35   SparseNormalizer ExtremeRandomTrees            0:00:52       0.6857    0.8461\n",
      "        36   MaxAbsScaler RandomForest                      0:00:55       0.8192    0.8461\n",
      "        37   MinMaxScaler RandomForest                      0:00:45       0.8360    0.8461\n",
      "        38   SparseNormalizer XGBoostClassifier             0:00:48       0.8294    0.8461\n",
      "        39   RobustScaler LightGBM                          0:00:54       0.7794    0.8461\n",
      "        40   StandardScalerWrapper ExtremeRandomTrees       0:00:50       0.8328    0.8461\n",
      "        41   MaxAbsScaler RandomForest                      0:00:47       0.8261    0.8461\n",
      "        42   StandardScalerWrapper XGBoostClassifier        0:00:53       0.8226    0.8461\n",
      "        43   StandardScalerWrapper XGBoostClassifier        0:00:50       0.8394    0.8461\n",
      "        44                                                  0:00:12          nan    0.8461\n",
      "        45                                                  0:00:17          nan    0.8461\n",
      "        46                                                  0:00:15          nan    0.8461\n",
      "        47    VotingEnsemble                                0:01:31       0.8596    0.8596\n",
      "        48    StackEnsemble                                 0:01:32       0.8427    0.8596\n"
     ]
    },
    {
     "data": {
      "text/plain": [
       "{'runId': 'AutoML_eb7abf71-5769-4cd0-840c-b1a76a5bcdfa',\n",
       " 'target': 'cpu-cluster',\n",
       " 'status': 'Completed',\n",
       " 'startTimeUtc': '2021-01-30T20:04:54.426521Z',\n",
       " 'endTimeUtc': '2021-01-30T20:21:39.432415Z',\n",
       " 'properties': {'num_iterations': '1000',\n",
       "  'training_type': 'TrainFull',\n",
       "  'acquisition_function': 'EI',\n",
       "  'primary_metric': 'accuracy',\n",
       "  'train_split': '0',\n",
       "  'acquisition_parameter': '0',\n",
       "  'num_cross_validation': '3',\n",
       "  'target': 'cpu-cluster',\n",
       "  'AMLSettingsJsonString': '{\"path\":null,\"name\":\"heart_failure_automl\",\"subscription_id\":\"a0a76bad-11a1-4a2d-9887-97a29122c8ed\",\"resource_group\":\"aml-quickstarts-136642\",\"workspace_name\":\"quick-starts-ws-136642\",\"region\":\"southcentralus\",\"compute_target\":\"cpu-cluster\",\"spark_service\":null,\"azure_service\":\"remote\",\"many_models\":false,\"pipeline_fetch_max_batch_size\":1,\"iterations\":1000,\"primary_metric\":\"accuracy\",\"task_type\":\"classification\",\"data_script\":null,\"validation_size\":0.0,\"n_cross_validations\":3,\"y_min\":null,\"y_max\":null,\"num_classes\":null,\"featurization\":\"auto\",\"_ignore_package_version_incompatibilities\":false,\"is_timeseries\":false,\"max_cores_per_iteration\":1,\"max_concurrent_iterations\":5,\"iteration_timeout_minutes\":null,\"mem_in_mb\":null,\"enforce_time_on_windows\":false,\"experiment_timeout_minutes\":30,\"experiment_exit_score\":null,\"whitelist_models\":null,\"blacklist_algos\":[\"TensorFlowLinearClassifier\",\"TensorFlowDNN\"],\"supported_models\":[\"KNN\",\"LightGBM\",\"XGBoostClassifier\",\"BernoulliNaiveBayes\",\"AveragedPerceptronClassifier\",\"TensorFlowLinearClassifier\",\"ExtremeRandomTrees\",\"GradientBoosting\",\"MultinomialNaiveBayes\",\"LogisticRegression\",\"LinearSVM\",\"SVM\",\"RandomForest\",\"TensorFlowDNN\",\"DecisionTree\",\"SGD\"],\"auto_blacklist\":true,\"blacklist_samples_reached\":false,\"exclude_nan_labels\":true,\"verbosity\":20,\"_debug_log\":\"azureml_automl.log\",\"show_warnings\":false,\"model_explainability\":true,\"service_url\":null,\"sdk_url\":null,\"sdk_packages\":null,\"enable_onnx_compatible_models\":false,\"enable_split_onnx_featurizer_estimator_models\":false,\"vm_type\":\"STANDARD_DS12_V2\",\"telemetry_verbosity\":20,\"send_telemetry\":true,\"enable_dnn\":false,\"scenario\":\"SDK-1.13.0\",\"environment_label\":null,\"force_text_dnn\":false,\"enable_feature_sweeping\":true,\"enable_early_stopping\":true,\"early_stopping_n_iters\":10,\"metrics\":null,\"enable_ensembling\":true,\"enable_stack_ensembling\":true,\"ensemble_iterations\":15,\"enable_tf\":false,\"enable_subsampling\":null,\"subsample_seed\":null,\"enable_nimbusml\":false,\"enable_streaming\":false,\"force_streaming\":false,\"track_child_runs\":true,\"allowed_private_models\":[],\"label_column_name\":\"DEATH_EVENT\",\"weight_column_name\":null,\"cv_split_column_names\":null,\"enable_local_managed\":false,\"_local_managed_run_id\":null,\"cost_mode\":1,\"lag_length\":0,\"metric_operation\":\"maximize\",\"preprocess\":true}',\n",
       "  'DataPrepJsonString': '{\\\\\"training_data\\\\\": \\\\\"{\\\\\\\\\\\\\"blocks\\\\\\\\\\\\\": [{\\\\\\\\\\\\\"id\\\\\\\\\\\\\": \\\\\\\\\\\\\"b8c3bd7e-f114-41de-a18e-f8bed1b65595\\\\\\\\\\\\\", \\\\\\\\\\\\\"type\\\\\\\\\\\\\": \\\\\\\\\\\\\"Microsoft.DPrep.GetDatastoreFilesBlock\\\\\\\\\\\\\", \\\\\\\\\\\\\"arguments\\\\\\\\\\\\\": {\\\\\\\\\\\\\"datastores\\\\\\\\\\\\\": [{\\\\\\\\\\\\\"datastoreName\\\\\\\\\\\\\": \\\\\\\\\\\\\"workspaceblobstore\\\\\\\\\\\\\", \\\\\\\\\\\\\"path\\\\\\\\\\\\\": \\\\\\\\\\\\\"UI/01-30-2021_075753_UTC/heart_failure_clinical_records_dataset.csv\\\\\\\\\\\\\", \\\\\\\\\\\\\"resourceGroup\\\\\\\\\\\\\": \\\\\\\\\\\\\"aml-quickstarts-136642\\\\\\\\\\\\\", \\\\\\\\\\\\\"subscription\\\\\\\\\\\\\": \\\\\\\\\\\\\"a0a76bad-11a1-4a2d-9887-97a29122c8ed\\\\\\\\\\\\\", \\\\\\\\\\\\\"workspaceName\\\\\\\\\\\\\": \\\\\\\\\\\\\"quick-starts-ws-136642\\\\\\\\\\\\\"}]}, \\\\\\\\\\\\\"localData\\\\\\\\\\\\\": {}, \\\\\\\\\\\\\"isEnabled\\\\\\\\\\\\\": true, \\\\\\\\\\\\\"name\\\\\\\\\\\\\": null, \\\\\\\\\\\\\"annotation\\\\\\\\\\\\\": null}, {\\\\\\\\\\\\\"id\\\\\\\\\\\\\": \\\\\\\\\\\\\"25dbc129-e0eb-4aa3-9221-d0e859f3c78d\\\\\\\\\\\\\", \\\\\\\\\\\\\"type\\\\\\\\\\\\\": \\\\\\\\\\\\\"Microsoft.DPrep.ParseDelimitedBlock\\\\\\\\\\\\\", \\\\\\\\\\\\\"arguments\\\\\\\\\\\\\": {\\\\\\\\\\\\\"columnHeadersMode\\\\\\\\\\\\\": 3, \\\\\\\\\\\\\"fileEncoding\\\\\\\\\\\\\": 0, \\\\\\\\\\\\\"handleQuotedLineBreaks\\\\\\\\\\\\\": false, \\\\\\\\\\\\\"preview\\\\\\\\\\\\\": false, \\\\\\\\\\\\\"separator\\\\\\\\\\\\\": \\\\\\\\\\\\\",\\\\\\\\\\\\\", \\\\\\\\\\\\\"skipRows\\\\\\\\\\\\\": 0, \\\\\\\\\\\\\"skipRowsMode\\\\\\\\\\\\\": 0}, \\\\\\\\\\\\\"localData\\\\\\\\\\\\\": {}, \\\\\\\\\\\\\"isEnabled\\\\\\\\\\\\\": true, \\\\\\\\\\\\\"name\\\\\\\\\\\\\": null, \\\\\\\\\\\\\"annotation\\\\\\\\\\\\\": null}, {\\\\\\\\\\\\\"id\\\\\\\\\\\\\": \\\\\\\\\\\\\"cc10a5f8-4e4f-405f-87b9-3704b7fca053\\\\\\\\\\\\\", \\\\\\\\\\\\\"type\\\\\\\\\\\\\": \\\\\\\\\\\\\"Microsoft.DPrep.DropColumnsBlock\\\\\\\\\\\\\", \\\\\\\\\\\\\"arguments\\\\\\\\\\\\\": {\\\\\\\\\\\\\"columns\\\\\\\\\\\\\": {\\\\\\\\\\\\\"type\\\\\\\\\\\\\": 0, \\\\\\\\\\\\\"details\\\\\\\\\\\\\": {\\\\\\\\\\\\\"selectedColumns\\\\\\\\\\\\\": [\\\\\\\\\\\\\"Path\\\\\\\\\\\\\"]}}}, \\\\\\\\\\\\\"localData\\\\\\\\\\\\\": {}, \\\\\\\\\\\\\"isEnabled\\\\\\\\\\\\\": true, \\\\\\\\\\\\\"name\\\\\\\\\\\\\": null, \\\\\\\\\\\\\"annotation\\\\\\\\\\\\\": null}, {\\\\\\\\\\\\\"id\\\\\\\\\\\\\": \\\\\\\\\\\\\"f3a5763b-fe40-4fbf-bd0b-1994528e6a2c\\\\\\\\\\\\\", \\\\\\\\\\\\\"type\\\\\\\\\\\\\": \\\\\\\\\\\\\"Microsoft.DPrep.SetColumnTypesBlock\\\\\\\\\\\\\", \\\\\\\\\\\\\"arguments\\\\\\\\\\\\\": {\\\\\\\\\\\\\"columnConversion\\\\\\\\\\\\\": [{\\\\\\\\\\\\\"column\\\\\\\\\\\\\": {\\\\\\\\\\\\\"type\\\\\\\\\\\\\": 2, \\\\\\\\\\\\\"details\\\\\\\\\\\\\": {\\\\\\\\\\\\\"selectedColumn\\\\\\\\\\\\\": \\\\\\\\\\\\\"Path\\\\\\\\\\\\\"}}, \\\\\\\\\\\\\"typeProperty\\\\\\\\\\\\\": 0}, {\\\\\\\\\\\\\"column\\\\\\\\\\\\\": {\\\\\\\\\\\\\"type\\\\\\\\\\\\\": 2, \\\\\\\\\\\\\"details\\\\\\\\\\\\\": {\\\\\\\\\\\\\"selectedColumn\\\\\\\\\\\\\": \\\\\\\\\\\\\"age\\\\\\\\\\\\\"}}, \\\\\\\\\\\\\"typeProperty\\\\\\\\\\\\\": 3}, {\\\\\\\\\\\\\"column\\\\\\\\\\\\\": {\\\\\\\\\\\\\"type\\\\\\\\\\\\\": 2, \\\\\\\\\\\\\"details\\\\\\\\\\\\\": {\\\\\\\\\\\\\"selectedColumn\\\\\\\\\\\\\": \\\\\\\\\\\\\"anaemia\\\\\\\\\\\\\"}}, \\\\\\\\\\\\\"typeProperty\\\\\\\\\\\\\": 2}, {\\\\\\\\\\\\\"column\\\\\\\\\\\\\": {\\\\\\\\\\\\\"type\\\\\\\\\\\\\": 2, \\\\\\\\\\\\\"details\\\\\\\\\\\\\": {\\\\\\\\\\\\\"selectedColumn\\\\\\\\\\\\\": \\\\\\\\\\\\\"creatinine_phosphokinase\\\\\\\\\\\\\"}}, \\\\\\\\\\\\\"typeProperty\\\\\\\\\\\\\": 2}, {\\\\\\\\\\\\\"column\\\\\\\\\\\\\": {\\\\\\\\\\\\\"type\\\\\\\\\\\\\": 2, \\\\\\\\\\\\\"details\\\\\\\\\\\\\": {\\\\\\\\\\\\\"selectedColumn\\\\\\\\\\\\\": \\\\\\\\\\\\\"diabetes\\\\\\\\\\\\\"}}, \\\\\\\\\\\\\"typeProperty\\\\\\\\\\\\\": 2}, {\\\\\\\\\\\\\"column\\\\\\\\\\\\\": {\\\\\\\\\\\\\"type\\\\\\\\\\\\\": 2, \\\\\\\\\\\\\"details\\\\\\\\\\\\\": {\\\\\\\\\\\\\"selectedColumn\\\\\\\\\\\\\": \\\\\\\\\\\\\"ejection_fraction\\\\\\\\\\\\\"}}, \\\\\\\\\\\\\"typeProperty\\\\\\\\\\\\\": 2}, {\\\\\\\\\\\\\"column\\\\\\\\\\\\\": {\\\\\\\\\\\\\"type\\\\\\\\\\\\\": 2, \\\\\\\\\\\\\"details\\\\\\\\\\\\\": {\\\\\\\\\\\\\"selectedColumn\\\\\\\\\\\\\": \\\\\\\\\\\\\"high_blood_pressure\\\\\\\\\\\\\"}}, \\\\\\\\\\\\\"typeProperty\\\\\\\\\\\\\": 2}, {\\\\\\\\\\\\\"column\\\\\\\\\\\\\": {\\\\\\\\\\\\\"type\\\\\\\\\\\\\": 2, \\\\\\\\\\\\\"details\\\\\\\\\\\\\": {\\\\\\\\\\\\\"selectedColumn\\\\\\\\\\\\\": \\\\\\\\\\\\\"platelets\\\\\\\\\\\\\"}}, \\\\\\\\\\\\\"typeProperty\\\\\\\\\\\\\": 3}, {\\\\\\\\\\\\\"column\\\\\\\\\\\\\": {\\\\\\\\\\\\\"type\\\\\\\\\\\\\": 2, \\\\\\\\\\\\\"details\\\\\\\\\\\\\": {\\\\\\\\\\\\\"selectedColumn\\\\\\\\\\\\\": \\\\\\\\\\\\\"serum_creatinine\\\\\\\\\\\\\"}}, \\\\\\\\\\\\\"typeProperty\\\\\\\\\\\\\": 3}, {\\\\\\\\\\\\\"column\\\\\\\\\\\\\": {\\\\\\\\\\\\\"type\\\\\\\\\\\\\": 2, \\\\\\\\\\\\\"details\\\\\\\\\\\\\": {\\\\\\\\\\\\\"selectedColumn\\\\\\\\\\\\\": \\\\\\\\\\\\\"serum_sodium\\\\\\\\\\\\\"}}, \\\\\\\\\\\\\"typeProperty\\\\\\\\\\\\\": 2}, {\\\\\\\\\\\\\"column\\\\\\\\\\\\\": {\\\\\\\\\\\\\"type\\\\\\\\\\\\\": 2, \\\\\\\\\\\\\"details\\\\\\\\\\\\\": {\\\\\\\\\\\\\"selectedColumn\\\\\\\\\\\\\": \\\\\\\\\\\\\"sex\\\\\\\\\\\\\"}}, \\\\\\\\\\\\\"typeProperty\\\\\\\\\\\\\": 2}, {\\\\\\\\\\\\\"column\\\\\\\\\\\\\": {\\\\\\\\\\\\\"type\\\\\\\\\\\\\": 2, \\\\\\\\\\\\\"details\\\\\\\\\\\\\": {\\\\\\\\\\\\\"selectedColumn\\\\\\\\\\\\\": \\\\\\\\\\\\\"smoking\\\\\\\\\\\\\"}}, \\\\\\\\\\\\\"typeProperty\\\\\\\\\\\\\": 2}, {\\\\\\\\\\\\\"column\\\\\\\\\\\\\": {\\\\\\\\\\\\\"type\\\\\\\\\\\\\": 2, \\\\\\\\\\\\\"details\\\\\\\\\\\\\": {\\\\\\\\\\\\\"selectedColumn\\\\\\\\\\\\\": \\\\\\\\\\\\\"time\\\\\\\\\\\\\"}}, \\\\\\\\\\\\\"typeProperty\\\\\\\\\\\\\": 2}, {\\\\\\\\\\\\\"column\\\\\\\\\\\\\": {\\\\\\\\\\\\\"type\\\\\\\\\\\\\": 2, \\\\\\\\\\\\\"details\\\\\\\\\\\\\": {\\\\\\\\\\\\\"selectedColumn\\\\\\\\\\\\\": \\\\\\\\\\\\\"DEATH_EVENT\\\\\\\\\\\\\"}}, \\\\\\\\\\\\\"typeProperty\\\\\\\\\\\\\": 2}]}, \\\\\\\\\\\\\"localData\\\\\\\\\\\\\": {}, \\\\\\\\\\\\\"isEnabled\\\\\\\\\\\\\": true, \\\\\\\\\\\\\"name\\\\\\\\\\\\\": null, \\\\\\\\\\\\\"annotation\\\\\\\\\\\\\": null}], \\\\\\\\\\\\\"inspectors\\\\\\\\\\\\\": [], \\\\\\\\\\\\\"meta\\\\\\\\\\\\\": {\\\\\\\\\\\\\"savedDatasetId\\\\\\\\\\\\\": \\\\\\\\\\\\\"3d922a3e-e6e7-43e7-9fc2-81fd10eeed74\\\\\\\\\\\\\", \\\\\\\\\\\\\"datasetType\\\\\\\\\\\\\": \\\\\\\\\\\\\"tabular\\\\\\\\\\\\\", \\\\\\\\\\\\\"subscriptionId\\\\\\\\\\\\\": \\\\\\\\\\\\\"a0a76bad-11a1-4a2d-9887-97a29122c8ed\\\\\\\\\\\\\", \\\\\\\\\\\\\"workspaceId\\\\\\\\\\\\\": \\\\\\\\\\\\\"20b5bca3-5743-462f-a7ca-3a1a6a38706e\\\\\\\\\\\\\", \\\\\\\\\\\\\"workspaceLocation\\\\\\\\\\\\\": \\\\\\\\\\\\\"southcentralus\\\\\\\\\\\\\"}}\\\\\", \\\\\"activities\\\\\": 0}',\n",
       "  'EnableSubsampling': None,\n",
       "  'runTemplate': 'AutoML',\n",
       "  'azureml.runsource': 'automl',\n",
       "  'display_task_type': 'classification',\n",
       "  'dependencies_versions': '{\"azureml-widgets\": \"1.20.0\", \"azureml-train\": \"1.20.0\", \"azureml-train-restclients-hyperdrive\": \"1.20.0\", \"azureml-train-core\": \"1.20.0\", \"azureml-train-automl\": \"1.20.0\", \"azureml-train-automl-runtime\": \"1.20.0\", \"azureml-train-automl-client\": \"1.20.0\", \"azureml-tensorboard\": \"1.20.0\", \"azureml-telemetry\": \"1.20.0\", \"azureml-sdk\": \"1.20.0\", \"azureml-samples\": \"0+unknown\", \"azureml-pipeline\": \"1.20.0\", \"azureml-pipeline-steps\": \"1.20.0\", \"azureml-pipeline-core\": \"1.20.0\", \"azureml-opendatasets\": \"1.20.0\", \"azureml-model-management-sdk\": \"1.0.1b6.post1\", \"azureml-mlflow\": \"1.20.0.post1\", \"azureml-interpret\": \"1.20.0\", \"azureml-explain-model\": \"1.20.0\", \"azureml-defaults\": \"1.20.0\", \"azureml-dataset-runtime\": \"1.20.0\", \"azureml-dataprep\": \"2.7.3\", \"azureml-dataprep-rslex\": \"1.5.0\", \"azureml-dataprep-native\": \"27.0.0\", \"azureml-datadrift\": \"1.20.0\", \"azureml-core\": \"1.20.0\", \"azureml-contrib-services\": \"1.20.0\", \"azureml-contrib-server\": \"1.20.0\", \"azureml-contrib-reinforcementlearning\": \"1.20.0\", \"azureml-contrib-pipeline-steps\": \"1.20.0\", \"azureml-contrib-notebook\": \"1.20.0\", \"azureml-contrib-interpret\": \"1.20.0\", \"azureml-contrib-gbdt\": \"1.20.0\", \"azureml-contrib-fairness\": \"1.20.0\", \"azureml-contrib-dataset\": \"1.20.0\", \"azureml-cli-common\": \"1.20.0\", \"azureml-automl-runtime\": \"1.20.0\", \"azureml-automl-core\": \"1.20.0\", \"azureml-accel-models\": \"1.20.0\"}',\n",
       "  '_aml_system_scenario_identification': 'Remote.Parent',\n",
       "  'ClientType': 'SDK',\n",
       "  'environment_cpu_name': 'AzureML-AutoML',\n",
       "  'environment_cpu_label': 'prod',\n",
       "  'environment_gpu_name': 'AzureML-AutoML-GPU',\n",
       "  'environment_gpu_label': 'prod',\n",
       "  'root_attribution': 'automl',\n",
       "  'attribution': 'AutoML',\n",
       "  'Orchestrator': 'AutoML',\n",
       "  'CancelUri': 'https://southcentralus.experiments.azureml.net/jasmine/v1.0/subscriptions/a0a76bad-11a1-4a2d-9887-97a29122c8ed/resourceGroups/aml-quickstarts-136642/providers/Microsoft.MachineLearningServices/workspaces/quick-starts-ws-136642/experimentids/31fe5b3d-b152-4874-98ea-7073d949f7f8/cancel/AutoML_eb7abf71-5769-4cd0-840c-b1a76a5bcdfa',\n",
       "  'ClientSdkVersion': '1.20.0.post1',\n",
       "  'snapshotId': '00000000-0000-0000-0000-000000000000',\n",
       "  'SetupRunId': 'AutoML_eb7abf71-5769-4cd0-840c-b1a76a5bcdfa_setup',\n",
       "  'SetupRunContainerId': 'dcid.AutoML_eb7abf71-5769-4cd0-840c-b1a76a5bcdfa_setup',\n",
       "  'FeaturizationRunJsonPath': 'featurizer_container.json',\n",
       "  'FeaturizationRunId': 'AutoML_eb7abf71-5769-4cd0-840c-b1a76a5bcdfa_featurize',\n",
       "  'ProblemInfoJsonString': '{\"dataset_num_categorical\": 0, \"is_sparse\": false, \"subsampling\": false, \"dataset_classes\": 2, \"dataset_features\": 12, \"dataset_samples\": 299, \"single_frequency_class_detected\": false}',\n",
       "  'ModelExplainRunId': 'AutoML_eb7abf71-5769-4cd0-840c-b1a76a5bcdfa_ModelExplain'},\n",
       " 'inputDatasets': [{'dataset': {'id': '3d922a3e-e6e7-43e7-9fc2-81fd10eeed74'}, 'consumptionDetails': {'type': 'RunInput', 'inputName': 'training_data', 'mechanism': 'Direct'}}],\n",
       " 'outputDatasets': [],\n",
       " 'logFiles': {},\n",
       " 'submittedBy': 'ODL_User 136642'}"
      ]
     },
     "execution_count": 10,
     "metadata": {},
     "output_type": "execute_result"
    }
   ],
   "source": [
    "RunDetails(remote_run).show()\n",
    "remote_run.wait_for_completion(show_output=True)"
   ]
  },
  {
   "cell_type": "markdown",
   "metadata": {},
   "source": [
    "## Best Model"
   ]
  },
  {
   "cell_type": "code",
   "execution_count": 11,
   "metadata": {
    "gather": {
     "logged": 1598431425670
    },
    "jupyter": {
     "outputs_hidden": false,
     "source_hidden": false
    },
    "nteract": {
     "transient": {
      "deleting": false
     }
    }
   },
   "outputs": [
    {
     "name": "stdout",
     "output_type": "stream",
     "text": [
      "Pipeline(memory=None,\n",
      "         steps=[('datatransformer',\n",
      "                 DataTransformer(enable_dnn=None, enable_feature_sweeping=None,\n",
      "                                 feature_sweeping_config=None,\n",
      "                                 feature_sweeping_timeout=None,\n",
      "                                 featurization_config=None, force_text_dnn=None,\n",
      "                                 is_cross_validation=None,\n",
      "                                 is_onnx_compatible=None, logger=None,\n",
      "                                 observer=None, task=None, working_dir=None)),\n",
      "                ('prefittedsoftvotingclassifier',...\n",
      "                                                                                               random_state=0,\n",
      "                                                                                               reg_alpha=0,\n",
      "                                                                                               reg_lambda=0.10416666666666667,\n",
      "                                                                                               scale_pos_weight=1,\n",
      "                                                                                               seed=None,\n",
      "                                                                                               silent=None,\n",
      "                                                                                               subsample=0.6,\n",
      "                                                                                               tree_method='hist',\n",
      "                                                                                               verbose=-10,\n",
      "                                                                                               verbosity=0))],\n",
      "                                                                     verbose=False))],\n",
      "                                               flatten_transform=None,\n",
      "                                               weights=[0.2222222222222222,\n",
      "                                                        0.1111111111111111,\n",
      "                                                        0.2222222222222222,\n",
      "                                                        0.1111111111111111,\n",
      "                                                        0.1111111111111111,\n",
      "                                                        0.1111111111111111,\n",
      "                                                        0.1111111111111111]))],\n",
      "         verbose=False)\n",
      "\n",
      "Best Run Id:  AutoML_eb7abf71-5769-4cd0-840c-b1a76a5bcdfa_47\n",
      "accuracy 0.8595622895622895\n",
      "precision_score_macro 0.8590638496460414\n",
      "log_loss 0.41486061131261204\n",
      "AUC_micro 0.9081238751147841\n",
      "AUC_weighted 0.9029275580999719\n",
      "precision_score_micro 0.8595622895622895\n",
      "average_precision_score_weighted 0.9098057644489091\n",
      "f1_score_weighted 0.8533807931287133\n",
      "recall_score_micro 0.8595622895622895\n",
      "f1_score_micro 0.8595622895622896\n",
      "average_precision_score_macro 0.8866775276216584\n",
      "AUC_macro 0.9029275580999719\n",
      "recall_score_weighted 0.8595622895622895\n",
      "weighted_accuracy 0.8921275394670006\n",
      "average_precision_score_micro 0.9082641609395082\n",
      "recall_score_macro 0.8181800026627611\n",
      "norm_macro_recall 0.6363600053255226\n",
      "matthews_correlation 0.674933832039598\n",
      "f1_score_macro 0.8289316394121506\n",
      "balanced_accuracy 0.8181800026627611\n",
      "precision_score_weighted 0.8631957045998142\n",
      "confusion_matrix aml://artifactId/ExperimentRun/dcid.AutoML_eb7abf71-5769-4cd0-840c-b1a76a5bcdfa_47/confusion_matrix\n",
      "accuracy_table aml://artifactId/ExperimentRun/dcid.AutoML_eb7abf71-5769-4cd0-840c-b1a76a5bcdfa_47/accuracy_table\n"
     ]
    }
   ],
   "source": [
    "best_run, model = remote_run.get_output()\n",
    "\n",
    "#Printing the best run\n",
    "print(model) \n",
    "print('\\nBest Run Id: ', best_run.id)\n",
    "\n",
    "#Printing the metric details of the best run\n",
    "best_run_metrics = best_run.get_metrics()\n",
    "for metric_name in best_run_metrics:\n",
    "    metric = best_run_metrics[metric_name]\n",
    "    print(metric_name, metric)"
   ]
  },
  {
   "cell_type": "code",
   "execution_count": 12,
   "metadata": {
    "gather": {
     "logged": 1598431426111
    },
    "jupyter": {
     "outputs_hidden": false,
     "source_hidden": false
    },
    "nteract": {
     "transient": {
      "deleting": false
     }
    }
   },
   "outputs": [
    {
     "data": {
      "text/plain": [
       "['outputs/automl_model.pkl']"
      ]
     },
     "execution_count": 12,
     "metadata": {},
     "output_type": "execute_result"
    }
   ],
   "source": [
    "#Saving the best model\n",
    "joblib.dump(model,'outputs/automl_model.pkl')"
   ]
  },
  {
   "cell_type": "markdown",
   "metadata": {},
   "source": [
    "## Model Deployment\n",
    "\n",
    "* The AutoML model outperformed the model tuned by HyperDrive so we'll start deploying the best automl model. "
   ]
  },
  {
   "cell_type": "code",
   "execution_count": 13,
   "metadata": {
    "gather": {
     "logged": 1598431435189
    },
    "jupyter": {
     "outputs_hidden": false,
     "source_hidden": false
    },
    "nteract": {
     "transient": {
      "deleting": false
     }
    }
   },
   "outputs": [
    {
     "name": "stdout",
     "output_type": "stream",
     "text": [
      "Registering model automl_model\n"
     ]
    }
   ],
   "source": [
    "from azureml.core.model import Model\n",
    "model = Model.register(workspace = ws,\n",
    "                        model_path =\"outputs/automl_model.pkl\",\n",
    "                        model_name = \"automl_model\")"
   ]
  },
  {
   "cell_type": "code",
   "execution_count": 34,
   "metadata": {},
   "outputs": [
    {
     "name": "stdout",
     "output_type": "stream",
     "text": [
      "Overwriting score_automl.py\n"
     ]
    }
   ],
   "source": [
    "%%writefile score_automl.py\n",
    "from azureml.core.model import Model\n",
    "import numpy as np\n",
    "import pandas as pd\n",
    "import joblib\n",
    "import json\n",
    "import pickle\n",
    "import os\n",
    "\n",
    "def init():\n",
    "    global model\n",
    "    model_path = Model.get_model_path(\"automl_model\")\n",
    "    model = joblib.load(model_path)\n",
    "\n",
    "def run(raw_data):\n",
    "    try:\n",
    "        data = json.loads(raw_data)['data']\n",
    "        data = pd.DataFrame.from_dict(data)\n",
    "        result = model.predict(data)\n",
    "        return result.tolist()\n",
    "    \n",
    "    except Exception as ex:\n",
    "        error = str(ex)\n",
    "        return error"
   ]
  },
  {
   "cell_type": "code",
   "execution_count": 35,
   "metadata": {},
   "outputs": [],
   "source": [
    "env = Environment.get(workspace=ws, name = \"AzureML-AutoML\")\n",
    "best_run.download_file(constants.CONDA_ENV_FILE_PATH, 'myenv.yml')"
   ]
  },
  {
   "cell_type": "code",
   "execution_count": 36,
   "metadata": {
    "gather": {
     "logged": 1598432707604
    },
    "jupyter": {
     "outputs_hidden": false,
     "source_hidden": false
    },
    "nteract": {
     "transient": {
      "deleting": false
     }
    }
   },
   "outputs": [
    {
     "name": "stdout",
     "output_type": "stream",
     "text": [
      "Tips: You can try get_logs(): https://aka.ms/debugimage#dockerlog or local deployment: https://aka.ms/debugimage#debug-locally to debug if deployment takes longer than 10 minutes.\n",
      "Running...................................\n",
      "Succeeded\n",
      "ACI service creation operation finished, operation \"Succeeded\"\n",
      "Healthy\n"
     ]
    }
   ],
   "source": [
    "from azureml.core.model import Model\n",
    "from azureml.core.webservice import Webservice \n",
    "from azureml.core.webservice import  AciWebservice\n",
    "from azureml.core.conda_dependencies import CondaDependencies\n",
    "config_aci = AciWebservice.deploy_configuration(cpu_cores=1, \n",
    "                                               memory_gb=1, \n",
    "                                               enable_app_insights=True, \n",
    "                                               auth_enabled=True)\n",
    "\n",
    "\n",
    "\n",
    "ws = Workspace.from_config()\n",
    "model = Model(ws, 'automl_model')\n",
    "\n",
    "inference_config = InferenceConfig(entry_script=\"score_automl.py\", environment=env)\n",
    "\n",
    "service_name = 'automl-service'\n",
    "service = Model.deploy(workspace=ws, \n",
    "                       name=service_name, \n",
    "                       models=[model], \n",
    "                       inference_config=inference_config, \n",
    "                       deployment_config= config_aci)\n",
    "\n",
    "service.wait_for_deployment(show_output=True)\n",
    "\n",
    "print(service.state)"
   ]
  },
  {
   "cell_type": "code",
   "execution_count": 37,
   "metadata": {},
   "outputs": [
    {
     "name": "stdout",
     "output_type": "stream",
     "text": [
      "2021-01-30T21:20:29,717839000+00:00 - nginx/run \n",
      "/usr/sbin/nginx: /azureml-envs/azureml_7ade26eb614f97df8030bc480da59236/lib/libcrypto.so.1.0.0: no version information available (required by /usr/sbin/nginx)\n",
      "/usr/sbin/nginx: /azureml-envs/azureml_7ade26eb614f97df8030bc480da59236/lib/libcrypto.so.1.0.0: no version information available (required by /usr/sbin/nginx)\n",
      "/usr/sbin/nginx: /azureml-envs/azureml_7ade26eb614f97df8030bc480da59236/lib/libssl.so.1.0.0: no version information available (required by /usr/sbin/nginx)\n",
      "/usr/sbin/nginx: /azureml-envs/azureml_7ade26eb614f97df8030bc480da59236/lib/libssl.so.1.0.0: no version information available (required by /usr/sbin/nginx)\n",
      "/usr/sbin/nginx: /azureml-envs/azureml_7ade26eb614f97df8030bc480da59236/lib/libssl.so.1.0.0: no version information available (required by /usr/sbin/nginx)\n",
      "2021-01-30T21:20:29,732206300+00:00 - gunicorn/run \n",
      "2021-01-30T21:20:29,745464600+00:00 - iot-server/run \n",
      "2021-01-30T21:20:29,755118600+00:00 - rsyslog/run \n",
      "rsyslogd: /azureml-envs/azureml_7ade26eb614f97df8030bc480da59236/lib/libuuid.so.1: no version information available (required by rsyslogd)\n",
      "EdgeHubConnectionString and IOTEDGE_IOTHUBHOSTNAME are not set. Exiting...\n",
      "2021-01-30T21:20:31,522614100+00:00 - iot-server/finish 1 0\n",
      "2021-01-30T21:20:31,534233000+00:00 - Exit code 1 is normal. Not restarting iot-server.\n",
      "Starting gunicorn 19.9.0\n",
      "Listening at: http://127.0.0.1:31311 (69)\n",
      "Using worker: sync\n",
      "worker timeout is set to 300\n",
      "Booting worker with pid: 98\n",
      "SPARK_HOME not set. Skipping PySpark Initialization.\n",
      "Generating new fontManager, this may take some time...\n",
      "Initializing logger\n",
      "2021-01-30 21:20:42,586 | root | INFO | Starting up app insights client\n",
      "2021-01-30 21:20:42,587 | root | INFO | Starting up request id generator\n",
      "2021-01-30 21:20:42,587 | root | INFO | Starting up app insight hooks\n",
      "2021-01-30 21:20:42,587 | root | INFO | Invoking user's init function\n",
      "2021-01-30 21:20:48,067 | root | INFO | Users's init has completed successfully\n",
      "2021-01-30 21:20:48,070 | root | INFO | Skipping middleware: dbg_model_info as it's not enabled.\n",
      "2021-01-30 21:20:48,071 | root | INFO | Skipping middleware: dbg_resource_usage as it's not enabled.\n",
      "2021-01-30 21:20:48,075 | root | INFO | Scoring timeout is found from os.environ: 60000 ms\n",
      "2021-01-30 21:20:50,148 | root | INFO | Swagger file not present\n",
      "2021-01-30 21:20:50,148 | root | INFO | 404\n",
      "127.0.0.1 - - [30/Jan/2021:21:20:50 +0000] \"GET /swagger.json HTTP/1.0\" 404 19 \"-\" \"Go-http-client/1.1\"\n",
      "2021-01-30 21:20:54,343 | root | INFO | Swagger file not present\n",
      "2021-01-30 21:20:54,344 | root | INFO | 404\n",
      "127.0.0.1 - - [30/Jan/2021:21:20:54 +0000] \"GET /swagger.json HTTP/1.0\" 404 19 \"-\" \"Go-http-client/1.1\"\n",
      "\n"
     ]
    }
   ],
   "source": [
    "print(service.get_logs())"
   ]
  },
  {
   "cell_type": "code",
   "execution_count": 38,
   "metadata": {},
   "outputs": [
    {
     "name": "stdout",
     "output_type": "stream",
     "text": [
      "scoring URI: http://46c05dd0-9ce8-498b-affc-0507c6836f0c.southcentralus.azurecontainer.io/score\n",
      "Swagger URI: http://46c05dd0-9ce8-498b-affc-0507c6836f0c.southcentralus.azurecontainer.io/swagger.json\n",
      "Authetication Key: UG8HWWu33jOPOyuKKrdiA3QpZBvSbzue\n"
     ]
    }
   ],
   "source": [
    "print(\"scoring URI: \" + service.scoring_uri)\n",
    "\n",
    "print(\"Swagger URI: \" + service.swagger_uri)\n",
    "\n",
    "print(\"Authetication Key: \" + service.get_keys()[0])"
   ]
  },
  {
   "cell_type": "code",
   "execution_count": 39,
   "metadata": {},
   "outputs": [
    {
     "name": "stdout",
     "output_type": "stream",
     "text": [
      "UG8HWWu33jOPOyuKKrdiA3QpZBvSbzue \n",
      " 8R84R2vBqAAoMWjSOKu4UhjCU7RDaBRk\n"
     ]
    }
   ],
   "source": [
    "primary_key, secondary_key = service.get_keys()\n",
    "print(primary_key,'\\n',secondary_key)"
   ]
  },
  {
   "cell_type": "markdown",
   "metadata": {},
   "source": [
    "TODO: In the cell below, send a request to the web service you deployed to test it."
   ]
  },
  {
   "cell_type": "code",
   "execution_count": 40,
   "metadata": {},
   "outputs": [
    {
     "name": "stdout",
     "output_type": "stream",
     "text": [
      "[1]\n"
     ]
    }
   ],
   "source": [
    "key = primary_key\n",
    "scoringuri = service.scoring_uri\n",
    "\n",
    "data= { \"data\":\n",
    "       [\n",
    "           {\n",
    "               'age': 60,\n",
    "               'anaemia': 245,\n",
    "               'creatinine_phosphokinase': 0,\n",
    "               'diabetes': 0,\n",
    "               'ejection_fraction': 38,\n",
    "               'high_blood_pressure': 1,\n",
    "               'platelets': 163000,\n",
    "               'serum_creatinine': 50,\n",
    "               'serum_sodium':100,\n",
    "               'sex':1,\n",
    "               'smoking':1,\n",
    "               'time':7\n",
    "               \n",
    "               \n",
    "           }\n",
    "       ]\n",
    "    }\n",
    "input_data = json.dumps(data)\n",
    "\n",
    "headers = {'Content-Type': 'application/json'}\n",
    "headers['Authorization'] = f'Bearer {key}'\n",
    "\n",
    "response = requests.post(scoringuri, input_data, headers = headers)\n",
    "print(response.text)"
   ]
  },
  {
   "cell_type": "markdown",
   "metadata": {
    "collapsed": true,
    "gather": {
     "logged": 1598432765711
    },
    "jupyter": {
     "outputs_hidden": false,
     "source_hidden": false
    },
    "nteract": {
     "transient": {
      "deleting": false
     }
    }
   },
   "source": [
    "TODO: In the cell below, print the logs of the web service and delete the service"
   ]
  },
  {
   "cell_type": "code",
   "execution_count": 42,
   "metadata": {
    "jupyter": {
     "outputs_hidden": false,
     "source_hidden": false
    },
    "nteract": {
     "transient": {
      "deleting": false
     }
    }
   },
   "outputs": [
    {
     "name": "stdout",
     "output_type": "stream",
     "text": [
      "2021-01-30T21:20:29,717839000+00:00 - nginx/run \n",
      "/usr/sbin/nginx: /azureml-envs/azureml_7ade26eb614f97df8030bc480da59236/lib/libcrypto.so.1.0.0: no version information available (required by /usr/sbin/nginx)\n",
      "/usr/sbin/nginx: /azureml-envs/azureml_7ade26eb614f97df8030bc480da59236/lib/libcrypto.so.1.0.0: no version information available (required by /usr/sbin/nginx)\n",
      "/usr/sbin/nginx: /azureml-envs/azureml_7ade26eb614f97df8030bc480da59236/lib/libssl.so.1.0.0: no version information available (required by /usr/sbin/nginx)\n",
      "/usr/sbin/nginx: /azureml-envs/azureml_7ade26eb614f97df8030bc480da59236/lib/libssl.so.1.0.0: no version information available (required by /usr/sbin/nginx)\n",
      "/usr/sbin/nginx: /azureml-envs/azureml_7ade26eb614f97df8030bc480da59236/lib/libssl.so.1.0.0: no version information available (required by /usr/sbin/nginx)\n",
      "2021-01-30T21:20:29,732206300+00:00 - gunicorn/run \n",
      "2021-01-30T21:20:29,745464600+00:00 - iot-server/run \n",
      "2021-01-30T21:20:29,755118600+00:00 - rsyslog/run \n",
      "rsyslogd: /azureml-envs/azureml_7ade26eb614f97df8030bc480da59236/lib/libuuid.so.1: no version information available (required by rsyslogd)\n",
      "EdgeHubConnectionString and IOTEDGE_IOTHUBHOSTNAME are not set. Exiting...\n",
      "2021-01-30T21:20:31,522614100+00:00 - iot-server/finish 1 0\n",
      "2021-01-30T21:20:31,534233000+00:00 - Exit code 1 is normal. Not restarting iot-server.\n",
      "Starting gunicorn 19.9.0\n",
      "Listening at: http://127.0.0.1:31311 (69)\n",
      "Using worker: sync\n",
      "worker timeout is set to 300\n",
      "Booting worker with pid: 98\n",
      "SPARK_HOME not set. Skipping PySpark Initialization.\n",
      "Generating new fontManager, this may take some time...\n",
      "Initializing logger\n",
      "2021-01-30 21:20:42,586 | root | INFO | Starting up app insights client\n",
      "2021-01-30 21:20:42,587 | root | INFO | Starting up request id generator\n",
      "2021-01-30 21:20:42,587 | root | INFO | Starting up app insight hooks\n",
      "2021-01-30 21:20:42,587 | root | INFO | Invoking user's init function\n",
      "2021-01-30 21:20:48,067 | root | INFO | Users's init has completed successfully\n",
      "2021-01-30 21:20:48,070 | root | INFO | Skipping middleware: dbg_model_info as it's not enabled.\n",
      "2021-01-30 21:20:48,071 | root | INFO | Skipping middleware: dbg_resource_usage as it's not enabled.\n",
      "2021-01-30 21:20:48,075 | root | INFO | Scoring timeout is found from os.environ: 60000 ms\n",
      "2021-01-30 21:20:50,148 | root | INFO | Swagger file not present\n",
      "2021-01-30 21:20:50,148 | root | INFO | 404\n",
      "127.0.0.1 - - [30/Jan/2021:21:20:50 +0000] \"GET /swagger.json HTTP/1.0\" 404 19 \"-\" \"Go-http-client/1.1\"\n",
      "2021-01-30 21:20:54,343 | root | INFO | Swagger file not present\n",
      "2021-01-30 21:20:54,344 | root | INFO | 404\n",
      "127.0.0.1 - - [30/Jan/2021:21:20:54 +0000] \"GET /swagger.json HTTP/1.0\" 404 19 \"-\" \"Go-http-client/1.1\"\n",
      "2021-01-30 21:21:35,949 | root | INFO | Validation Request Content-Type\n",
      "2021-01-30 21:21:35,951 | root | INFO | Scoring Timer is set to 60.0 seconds\n",
      "2021-01-30 21:21:36,227 | root | INFO | 200\n",
      "127.0.0.1 - - [30/Jan/2021:21:21:36 +0000] \"POST /score HTTP/1.0\" 200 3 \"-\" \"python-requests/2.25.1\"\n",
      "2021-01-30 21:22:40,945 | root | INFO | Swagger file not present\n",
      "2021-01-30 21:22:40,946 | root | INFO | 404\n",
      "127.0.0.1 - - [30/Jan/2021:21:22:40 +0000] \"GET /swagger.json HTTP/1.0\" 404 19 \"-\" \"Go-http-client/1.1\"\n",
      "2021-01-30 21:22:43,369 | root | INFO | Swagger file not present\n",
      "2021-01-30 21:22:43,370 | root | INFO | 404\n",
      "127.0.0.1 - - [30/Jan/2021:21:22:43 +0000] \"GET /swagger.json HTTP/1.0\" 404 19 \"-\" \"Go-http-client/1.1\"\n",
      "\n"
     ]
    }
   ],
   "source": [
    "ws = Workspace.from_config()\n",
    "\n",
    "service = Webservice(name=\"automl-service\", workspace=ws)\n",
    "service.update(enable_app_insights=True)\n",
    "logs = service.get_logs()\n",
    "print(logs)"
   ]
  },
  {
   "cell_type": "code",
   "execution_count": 46,
   "metadata": {},
   "outputs": [
    {
     "name": "stdout",
     "output_type": "stream",
     "text": [
      "AciWebservice(workspace=Workspace.create(name='quick-starts-ws-136642', subscription_id='a0a76bad-11a1-4a2d-9887-97a29122c8ed', resource_group='aml-quickstarts-136642'), name=automl-service, image_id=None, compute_type=None, state=ACI, scoring_uri=Deleting, tags=http://46c05dd0-9ce8-498b-affc-0507c6836f0c.southcentralus.azurecontainer.io/score, properties={}, created_by={'hasInferenceSchema': 'False', 'hasHttps': 'False'})\n"
     ]
    }
   ],
   "source": [
    "#Deleting the service\n",
    "service.delete()\n",
    "print(service)"
   ]
  },
  {
   "cell_type": "code",
   "execution_count": 47,
   "metadata": {},
   "outputs": [],
   "source": [
    "#Deleting the compute cluster once the training process is complete\n",
    "compute_target.delete()"
   ]
  },
  {
   "cell_type": "code",
   "execution_count": null,
   "metadata": {},
   "outputs": [],
   "source": []
  }
 ],
 "metadata": {
  "kernel_info": {
   "name": "python3-azureml"
  },
  "kernelspec": {
   "display_name": "Python 3",
   "language": "python",
   "name": "python3"
  },
  "language_info": {
   "codemirror_mode": {
    "name": "ipython",
    "version": 3
   },
   "file_extension": ".py",
   "mimetype": "text/x-python",
   "name": "python",
   "nbconvert_exporter": "python",
   "pygments_lexer": "ipython3",
   "version": "3.6.9"
  },
  "nteract": {
   "version": "nteract-front-end@1.0.0"
  }
 },
 "nbformat": 4,
 "nbformat_minor": 2
}
